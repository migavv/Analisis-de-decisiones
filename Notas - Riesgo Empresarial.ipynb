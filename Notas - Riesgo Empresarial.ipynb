{
 "cells": [
  {
   "cell_type": "markdown",
   "id": "c0a447db",
   "metadata": {},
   "source": [
    "# Riesgo Empresarial"
   ]
  },
  {
   "cell_type": "markdown",
   "id": "1a614154",
   "metadata": {},
   "source": [
    "* **RIESGO OPERACIONAL**: \n",
    "    \n",
    "    Contingencias causadas por errores humanos. \n",
    "    Alta incertidumbre. \n",
    "    \n",
    "    **Factores**: \n",
    "    * Procesos internos \n",
    "    * eventos externos \n",
    "    * tecnologías de la información \n",
    "    * recursos humanos.\n",
    "    Cuantificar el riesgo y calcular su probabilidad de ocurrencia: Sistema de inferencia borrosa\n",
    "\n",
    "* "
   ]
  },
  {
   "cell_type": "markdown",
   "id": "c3957fef",
   "metadata": {},
   "source": [
    "**SISTEMAS DE INFERENCIA BORROSA**\n",
    "\n",
    "Se fundamenta en que la pertenencia no es dicotómica.\n",
    "Considera valores intermedios para la construcción de las variables de trabajo.\n",
    "Obtiene resultados a través de datos vagos o inciertos.\n",
    "\n",
    "**Elementos**:\n",
    "* Entradas: Nro. quejas, nro. visitas. -> Antecedentes\n",
    "* Salidas: Consecuentes.\n",
    "* Módulo de difuminado: Convertir una variable numérica en borrosa -> fuzzyficar.\n",
    "* Motor de inferencia: Base de conocimiento (sistema de reglas) -> Para cada combinación de antecedentes da un consecuente. \n",
    "Tanto entradas como salidas se fuzzyfican.\n",
    "\n",
    "**Tipos de funciones de inferencia**\n",
    "* Triangular:\n",
    "    No importa pertenencia absoulta varaibles de comportamiento rápido\n",
    "* Trapezoidal:\n",
    "    Para variables rápidas cuando importa la pertenencia absoluta\n",
    "* Gaussiana: Varibale lenta sin pertenencia absoluta\n",
    "* Sigmoidea: Variable lenta con pertenencia absoluta\n",
    "* Doble sigmoidea: Más precisa que la sigmoidea?\n",
    "\n",
    "**Operaciones borrosas**\n",
    "* Unión: \n",
    "    Utilizar dentro de la respuesta esperada todos los posibles valores que existen en los dos conjuntos.\n",
    "    Valor de pertenencia máximo que existe entre las funciones.\n",
    "* Intersección:\n",
    "    Valor de pertenencia mínimo que existe entre las funciones.\n",
    "* Complemento: 1 - f(x) -> f: función de pertenencia.\n",
    "\n",
    "**Propiedades de las operaciones borrosas**\n",
    "* Conmutativa y asociativa -> Las más importantes."
   ]
  },
  {
   "cell_type": "code",
   "execution_count": null,
   "id": "bfd9f68e",
   "metadata": {},
   "outputs": [],
   "source": []
  }
 ],
 "metadata": {
  "kernelspec": {
   "display_name": "Python 3 (ipykernel)",
   "language": "python",
   "name": "python3"
  },
  "language_info": {
   "codemirror_mode": {
    "name": "ipython",
    "version": 3
   },
   "file_extension": ".py",
   "mimetype": "text/x-python",
   "name": "python",
   "nbconvert_exporter": "python",
   "pygments_lexer": "ipython3",
   "version": "3.11.4"
  }
 },
 "nbformat": 4,
 "nbformat_minor": 5
}
