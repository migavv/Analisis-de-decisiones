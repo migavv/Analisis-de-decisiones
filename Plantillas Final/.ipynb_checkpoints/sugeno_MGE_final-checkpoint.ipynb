{
 "cells": [
  {
   "cell_type": "code",
   "execution_count": null,
   "id": "ecf9254d",
   "metadata": {},
   "outputs": [],
   "source": [
    "#Tratamiento de datos\n",
    "import numpy as np\n",
    "#Motor de inferencia\n",
    "import skfuzzy\n",
    "from skfuzzy import control as ctrl\n",
    "from scipy.stats import linregress\n",
    "#Graficos\n",
    "import matplotlib.pyplot as plt\n",
    "\n",
    "#Advertencias\n",
    "import warnings\n",
    "warnings.filterwarnings(\"ignore\")"
   ]
  },
  {
   "cell_type": "markdown",
   "id": "88bed24b",
   "metadata": {},
   "source": [
    "# 1. Visualizacion de los conjuntos borrosos de los antecedentes"
   ]
  },
  {
   "cell_type": "code",
   "execution_count": null,
   "id": "6b54dbd8",
   "metadata": {},
   "outputs": [],
   "source": [
    "#Cantidad de quejas\n",
    "#Universo de discurso\n",
    "quejas = ctrl.Antecedent(np.arange(0,1001,1), \"quejas\")\n",
    "quejas[\"pocas\"] = skfuzzy.sigmf(quejas.universe, 500,-0.01)\n",
    "quejas[\"muchas\"] = skfuzzy.sigmf(quejas.universe, 500, 0.01)\n",
    "quejas.view()"
   ]
  },
  {
   "cell_type": "code",
   "execution_count": null,
   "id": "f8f8fc68",
   "metadata": {},
   "outputs": [],
   "source": [
    "#Monto de compras\n",
    "#Universo de discurso\n",
    "compras = ctrl.Antecedent(np.arange(0,500,1), \"compras\")\n",
    "compras[\"bajas\"] = skfuzzy.sigmf(compras.universe, 100, -0.1)\n",
    "compras[\"altas\"] = skfuzzy.sigmf(compras.universe, 100, 0.1)\n",
    "compras.view()"
   ]
  },
  {
   "cell_type": "markdown",
   "id": "28e466a0",
   "metadata": {},
   "source": [
    "# 2. Declarar variables para el SIB TSK"
   ]
  },
  {
   "cell_type": "code",
   "execution_count": null,
   "id": "3671c68b",
   "metadata": {},
   "outputs": [],
   "source": [
    "#trapmf -> Trapecio\n",
    "#trimf -> triángulo\n",
    "#sigmf(500: punto de inflexión, -0.01: ancho. Signo indica si aciende o desciende)  -> Sigmoidea\n",
    "#gaussmf(media, desviación) -> Gaussiana\n",
    "\n",
    "\n",
    "# Antecedentes\n",
    "quejas = np.arange(0,1001,1)\n",
    "quejas_pocas = skfuzzy.sigmf(quejas, 500, -0.01)\n",
    "quejas_muchas = skfuzzy.sigmf(quejas, 500,0.01)\n",
    "\n",
    "compras = np.arange(0,501,1)\n",
    "compras_altas = skfuzzy.sigmf(compras, 100,0.1)\n",
    "compras_bajas = skfuzzy.sigmf(compras, 100,-0.1)"
   ]
  },
  {
   "cell_type": "code",
   "execution_count": null,
   "id": "185b4257",
   "metadata": {},
   "outputs": [],
   "source": [
    "#Funciones del consecuente\n",
    "#Pendiente m1 = 0.04\n",
    "# Pendiente m2 = 0.46\n",
    "# m3 = -2\n",
    "# m4 = -0.125\n",
    "# r1=0.04Q (quejas)\n",
    "# r2 = 0.46Q-210\n",
    "# r3 = -2C + 250 (compras)\n",
    "# r4 = -0.125C +62.5\n",
    "# Esto es mezclar las rectas\n",
    "def y1(Q,C):\n",
    "    #r1+r3\n",
    "    return 0.04*Q-2*C+250\n",
    "def y2(Q,C):\n",
    "    #r1+r4\n",
    "    return 0.04*Q-0.125*C + 62.5\n",
    "def y3(Q,C):\n",
    "    #r2+r3\n",
    "    return 0.46*Q-2*C+40\n",
    "def y4(Q,C):\n",
    "    #r2+r4\n",
    "    return 0.46*Q -0.125*C-147.5"
   ]
  },
  {
   "cell_type": "markdown",
   "id": "5a62e477",
   "metadata": {},
   "source": [
    "# 3. Desfuzzificación"
   ]
  },
  {
   "cell_type": "code",
   "execution_count": null,
   "id": "6ab850b3",
   "metadata": {},
   "outputs": [],
   "source": [
    "def resultado(mu1, mu2, mu3, mu4, Q, C):\n",
    "    yr1 = y1(Q,C)\n",
    "    yr2 = y2(Q,C)\n",
    "    yr3 = y3(Q,C)\n",
    "    yr4 = y4(Q,C)\n",
    "    num = (mu1*yr1) + (mu2*yr2) +(mu3*yr3) +(mu4*yr4)\n",
    "    den = mu1+mu2+mu3+mu4\n",
    "    return num/den "
   ]
  },
  {
   "cell_type": "markdown",
   "id": "f276ace1",
   "metadata": {},
   "source": [
    "# 4. Calcular pertenencias"
   ]
  },
  {
   "cell_type": "code",
   "execution_count": null,
   "id": "9a04ab5c",
   "metadata": {},
   "outputs": [],
   "source": [
    "mu1 = min(skfuzzy.interp_membership(quejas, quejas_pocas, 400),skfuzzy.interp_membership(compras,compras_bajas,70))\n",
    "mu1"
   ]
  },
  {
   "cell_type": "code",
   "execution_count": null,
   "id": "d683d110",
   "metadata": {},
   "outputs": [],
   "source": [
    "mu2 = min(skfuzzy.interp_membership(quejas, quejas_pocas, 400),skfuzzy.interp_membership(compras,compras_altas,70))\n",
    "mu2"
   ]
  },
  {
   "cell_type": "code",
   "execution_count": null,
   "id": "3ff6503f",
   "metadata": {},
   "outputs": [],
   "source": [
    "mu3 = min(skfuzzy.interp_membership(quejas, quejas_muchas, 400),skfuzzy.interp_membership(compras,compras_bajas,70))\n",
    "mu3"
   ]
  },
  {
   "cell_type": "code",
   "execution_count": null,
   "id": "6db004d7",
   "metadata": {},
   "outputs": [],
   "source": [
    "mu4 = min(skfuzzy.interp_membership(quejas, quejas_muchas, 400),skfuzzy.interp_membership(compras,compras_altas,70))\n",
    "mu4"
   ]
  },
  {
   "cell_type": "code",
   "execution_count": null,
   "id": "8f4bcc0c",
   "metadata": {},
   "outputs": [],
   "source": [
    "resultado(mu1,mu2,mu3,mu4, 400, 70)"
   ]
  }
 ],
 "metadata": {
  "kernelspec": {
   "display_name": "Python 3 (ipykernel)",
   "language": "python",
   "name": "python3"
  },
  "language_info": {
   "codemirror_mode": {
    "name": "ipython",
    "version": 3
   },
   "file_extension": ".py",
   "mimetype": "text/x-python",
   "name": "python",
   "nbconvert_exporter": "python",
   "pygments_lexer": "ipython3",
   "version": "3.11.4"
  }
 },
 "nbformat": 4,
 "nbformat_minor": 5
}
