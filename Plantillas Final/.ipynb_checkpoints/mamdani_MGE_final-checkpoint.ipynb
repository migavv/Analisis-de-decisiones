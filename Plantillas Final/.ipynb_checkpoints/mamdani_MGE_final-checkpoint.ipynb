{
 "cells": [
  {
   "cell_type": "code",
   "execution_count": 1,
   "id": "0c7a3f89",
   "metadata": {},
   "outputs": [],
   "source": [
    "import pandas as pd\n",
    "import numpy as np\n",
    "import matplotlib.pyplot as plt\n",
    "import seaborn as sb\n",
    "import plotly.express as px\n",
    "import skfuzzy\n",
    "from skfuzzy import control as ctrl\n",
    "import warnings"
   ]
  },
  {
   "cell_type": "code",
   "execution_count": 2,
   "id": "073cb801",
   "metadata": {},
   "outputs": [],
   "source": [
    "warnings.filterwarnings('ignore')"
   ]
  },
  {
   "cell_type": "markdown",
   "id": "38a130ea",
   "metadata": {},
   "source": [
    "# Carga de datos"
   ]
  },
  {
   "cell_type": "markdown",
   "id": "889f65f3",
   "metadata": {},
   "source": [
    "En caso de necesitar acceder a datos externos"
   ]
  },
  {
   "cell_type": "code",
   "execution_count": null,
   "id": "15fd7a49",
   "metadata": {},
   "outputs": [],
   "source": [
    "datos = pd.read_csv('nombre_archivo.csv' #,sep = ';'#)\n",
    "datos.head()"
   ]
  },
  {
   "cell_type": "code",
   "execution_count": null,
   "id": "c62d41ff",
   "metadata": {},
   "outputs": [],
   "source": [
    "datos = datos[['col1', 'col2', 'col3']] #Seleccionar columnas útiles\n",
    "datos.rename(columns = {'col1':'var1', 'col2':'var2', 'col3':'var3'}, inplace = True) #Renombrar columnas (opcional)\n",
    "datos.head()"
   ]
  },
  {
   "cell_type": "code",
   "execution_count": null,
   "id": "05a9c6c8",
   "metadata": {},
   "outputs": [],
   "source": [
    "datos.info()"
   ]
  },
  {
   "cell_type": "markdown",
   "id": "96fe7d79",
   "metadata": {},
   "source": [
    "## Análisis variable 1"
   ]
  },
  {
   "cell_type": "markdown",
   "id": "a78f2cea",
   "metadata": {},
   "source": [
    "Repetir para el resto de variables"
   ]
  },
  {
   "cell_type": "code",
   "execution_count": null,
   "id": "09fe71e7",
   "metadata": {},
   "outputs": [],
   "source": [
    "datos.nombre1.describe() #Identificar mínimo y máximo (universo del discurso)"
   ]
  },
  {
   "cell_type": "code",
   "execution_count": null,
   "id": "85d1d747",
   "metadata": {},
   "outputs": [],
   "source": [
    "#Calcular percentiles y deciles (reemplazar nombre1)\n",
    "percentil_var1 = []\n",
    "for i in range(0, 110, 10):\n",
    "    percentil_var1.append(np.percentile(datos.var1, i))\n",
    "cuartil_var1 = []\n",
    "for i in [0, 0.25, 0.5, 0.75, 1]:\n",
    "    cuartil_var1.append(np.quantile(datos.var1, i))\n",
    "\n",
    "sb.histplot(data = datos, x = 'var1', kde = True)\n",
    "for i in range(len(percentil_var1)):\n",
    "    plt.axvline(percentil_var1[i], color = 'red')\n",
    "for i in range(len(cuartil_var1)):\n",
    "    plt.axvline(cuartil_var1[i], color = 'green')\n",
    "    \n",
    "plt.show()"
   ]
  },
  {
   "cell_type": "code",
   "execution_count": null,
   "id": "d40bd44c",
   "metadata": {},
   "outputs": [],
   "source": [
    "print('Valor del percentil: ', percentil_var1)\n",
    "print('Valor del cuartil: ', cuartil_var1)"
   ]
  },
  {
   "cell_type": "code",
   "execution_count": null,
   "id": "1069fb95",
   "metadata": {},
   "outputs": [],
   "source": [
    "px.box(data_frame = datos, y = 'var1')"
   ]
  },
  {
   "cell_type": "markdown",
   "id": "bd85038d",
   "metadata": {},
   "source": [
    "# Modelo de inferencia borrosa"
   ]
  },
  {
   "cell_type": "markdown",
   "id": "eafa65ea",
   "metadata": {},
   "source": [
    "1. Universo del discurso"
   ]
  },
  {
   "cell_type": "code",
   "execution_count": null,
   "id": "24e121bf",
   "metadata": {},
   "outputs": [],
   "source": [
    "#SI SE TOMA DE UN SET DE DATOS:\n",
    "#Antecedente 1\n",
    "var1 = ctrl.Antecedent(np.arange(datos.var1.min(), datos.nombre2.max() + 1, 1), 'var1') \n",
    "#Antecedente 2\n",
    "var2 = ctrl.Antecedent(np.arange(datos.var2.min(), datos.var2.max() + 1, 1), 'var2')\n",
    "#Consecuente\n",
    "var3 = ctrl.Consequent(np.arange(datos.var3.min(), datos.var3.max() + 1, 1), 'var3')\n",
    "\n",
    "#SI NO:\n",
    "#Antecedente 1\n",
    "var1 = ctrl.Antecedent(np.arange(0,1001, 1),var1\")\n",
    "#Antecedente 2\n",
    "var2 = ctrl.Antecedent(np.arange(-10,10,0.1), var2\")\n",
    "#Consecuente\n",
    "var3 = ctrl.Consequent(np.arange(0,11,1), var3\")"
   ]
  },
  {
   "cell_type": "markdown",
   "id": "31face6d",
   "metadata": {},
   "source": [
    "2. Fuzzificar antecedentes y consecuentes"
   ]
  },
  {
   "cell_type": "code",
   "execution_count": null,
   "id": "120a9207",
   "metadata": {},
   "outputs": [],
   "source": [
    "#trapmf -> Trapecio\n",
    "#trimf -> triángulo\n",
    "#sigmf(500: punto de inflexión, -0.01: ancho. Signo indica si aciende o desciende)  -> Sigmoidea\n",
    "#gaussmf(media, desviación) -> Gaussiana\n",
    "\n",
    "#SI SE TOMA DE UN SET DE DATOS:\n",
    "#var1\n",
    "var1['categoria1'] = skfuzzy.trapmf(var1.universe, [cuartil_var1[0], cuartil_var1[0], \n",
    "                                               cuartil_var1[1], cuartil_var1[2]])\n",
    "var1['categoria2'] = skfuzzy.trapmf(var1.universe, [percentil_Edad[3], percentil_Edad[5], \n",
    "                                                percentil_Edad[6], percentil_Edad[7]])\n",
    "\n",
    "#SI NO:\n",
    "#var1\n",
    "var1['categoria1'] = skfuzzy.trapmf(var1.universe,[400,500,600,600])\n",
    "var1['categoria2'] = skfuzzy.trimf(var1.universe, [200,350,450])\n",
    "\n",
    "\n",
    "\n",
    "var1.view()\n",
    "plt.show"
   ]
  },
  {
   "cell_type": "markdown",
   "id": "f4ca04ca",
   "metadata": {},
   "source": [
    "3. Crear base de conocimiento"
   ]
  },
  {
   "cell_type": "code",
   "execution_count": null,
   "id": "a219f7e9",
   "metadata": {},
   "outputs": [],
   "source": [
    "regla1 = ctrl.Rule(var1['categoria1'] & var2['baja'], prima['muy alta'])\n",
    "regla2 = ctrl.Rule(var1['categoria1'] & var2['media baja'], prima['alta'])\n",
    "regla3 = ctrl.Rule(var1['categoria1'] & var2['media alta'], prima['media'])\n",
    "regla4 = ctrl.Rule(var1['categoria1'] & var2['alta'], prima['media'])\n",
    "regla5 = ctrl.Rule(var1['categoria2'] & var2['baja'], prima['media'])\n",
    "regla6 = ctrl.Rule(var1['categoria2'] & var2['media baja'], prima['baja'])\n",
    "regla7 = ctrl.Rule(var1['categoria2'] & var2['media alta'], prima['muy baja'])\n",
    "regla8 = ctrl.Rule(var1['categoria2'] & var2['alta'], prima['muy baja'])\n",
    "regla9 = ctrl.Rule(var1['categoria3'] & var2['baja'], prima['muy alta'])\n",
    "regla10 = ctrl.Rule(var1['categoria3'] & var2['media baja'], prima['alta'])\n",
    "regla11 = ctrl.Rule(var1['categoria3'] & var2['media alta'], prima['media'])\n",
    "regla12 = ctrl.Rule(var1['categoria3'] & var2['alta'], prima['baja'])"
   ]
  },
  {
   "cell_type": "markdown",
   "id": "eeb13938",
   "metadata": {},
   "source": [
    "4. Activar motor de inferencia"
   ]
  },
  {
   "cell_type": "code",
   "execution_count": null,
   "id": "1ade544c",
   "metadata": {},
   "outputs": [],
   "source": [
    "calculo = ctrl.ControlSystem([regla1, regla2, regla3, regla4,\n",
    "                                  regla5, regla6, regla7, regla8,\n",
    "                                  regla9, regla10, regla11, regla12,])"
   ]
  },
  {
   "cell_type": "markdown",
   "id": "16167d49",
   "metadata": {},
   "source": [
    "5. Utilizar el SIB"
   ]
  },
  {
   "cell_type": "code",
   "execution_count": null,
   "id": "6f91642d",
   "metadata": {},
   "outputs": [],
   "source": [
    "calcular = ctrl.ControlSystemSimulation(calculo)\n",
    "calcular.input['var1'] = 40\n",
    "calcular.input['var2'] = 120\n",
    "calcular.compute()\n",
    "calcular.output['var3']"
   ]
  },
  {
   "cell_type": "code",
   "execution_count": null,
   "id": "c71b333a",
   "metadata": {},
   "outputs": [],
   "source": [
    "var1.view(sim = calcular)\n",
    "var2.view(sim = calcular)\n",
    "var3.view(sim = calcular)"
   ]
  },
  {
   "cell_type": "code",
   "execution_count": null,
   "id": "1b1fe24a",
   "metadata": {},
   "outputs": [],
   "source": []
  }
 ],
 "metadata": {
  "kernelspec": {
   "display_name": "Python 3 (ipykernel)",
   "language": "python",
   "name": "python3"
  },
  "language_info": {
   "codemirror_mode": {
    "name": "ipython",
    "version": 3
   },
   "file_extension": ".py",
   "mimetype": "text/x-python",
   "name": "python",
   "nbconvert_exporter": "python",
   "pygments_lexer": "ipython3",
   "version": "3.11.4"
  }
 },
 "nbformat": 4,
 "nbformat_minor": 5
}
