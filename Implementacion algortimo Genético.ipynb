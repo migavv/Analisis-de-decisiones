{
 "cells": [
  {
   "cell_type": "code",
   "execution_count": 1,
   "id": "0699f3c1-d51b-4a37-975a-f357c2ee7e40",
   "metadata": {},
   "outputs": [
    {
     "name": "stdout",
     "output_type": "stream",
     "text": [
      "Collecting deap\n",
      "  Downloading deap-1.4.1-cp310-cp310-win_amd64.whl (109 kB)\n",
      "     ------------------------------------ 109.3/109.3 kB 421.4 kB/s eta 0:00:00\n",
      "Requirement already satisfied: numpy in c:\\python310\\lib\\site-packages (from deap) (1.25.1)\n",
      "Installing collected packages: deap\n",
      "Successfully installed deap-1.4.1\n"
     ]
    },
    {
     "name": "stderr",
     "output_type": "stream",
     "text": [
      "WARNING: Ignoring invalid distribution -ip (c:\\python310\\lib\\site-packages)\n",
      "WARNING: Ignoring invalid distribution -ip (c:\\python310\\lib\\site-packages)\n",
      "WARNING: Ignoring invalid distribution -ip (c:\\python310\\lib\\site-packages)\n",
      "WARNING: Ignoring invalid distribution -ip (c:\\python310\\lib\\site-packages)\n",
      "WARNING: Ignoring invalid distribution -ip (c:\\python310\\lib\\site-packages)\n",
      "WARNING: Ignoring invalid distribution -ip (c:\\python310\\lib\\site-packages)\n",
      "WARNING: Ignoring invalid distribution -ip (c:\\python310\\lib\\site-packages)\n",
      "\n",
      "[notice] A new release of pip available: 22.2.1 -> 23.3\n",
      "[notice] To update, run: python.exe -m pip install --upgrade pip\n"
     ]
    }
   ],
   "source": [
    "!pip install deap"
   ]
  },
  {
   "cell_type": "code",
   "execution_count": 2,
   "id": "933580d0-5490-4b3c-9f30-46f94e3117b0",
   "metadata": {},
   "outputs": [],
   "source": [
    "import random\n",
    "import numpy as np\n",
    "import matplotlib.pyplot as plt\n",
    "from deap import base, creator, tools, algorithms\n",
    "import warnings\n",
    "warnings.filterwarnings(\"ignore\")"
   ]
  },
  {
   "cell_type": "markdown",
   "id": "93130e53-805f-4296-a879-1936372ecc64",
   "metadata": {},
   "source": [
    "# Ejercicio de la mochila"
   ]
  },
  {
   "cell_type": "code",
   "execution_count": 4,
   "id": "62777c4e-43ef-433e-9a20-29a840c57a5a",
   "metadata": {},
   "outputs": [],
   "source": [
    "#Definir los pesos y beneficios como listas de python\n",
    "beneficios = [50,35,45,20,35,40,50,50,45,40]\n",
    "pesos = [20,25,20,20,35,40,35,30,35,25]\n",
    "capacidad = 120"
   ]
  },
  {
   "cell_type": "code",
   "execution_count": 5,
   "id": "901ba71c-3c5d-45b7-a21a-9f11d64ecc99",
   "metadata": {},
   "outputs": [],
   "source": [
    "#Declarar el contenedor de operadores geneticos\n",
    "toolbox = base.Toolbox()\n"
   ]
  },
  {
   "cell_type": "code",
   "execution_count": 7,
   "id": "36ac0620-9d8a-43d2-bca9-f1b1935ae885",
   "metadata": {},
   "outputs": [],
   "source": [
    "#Crear la clase funcion de adaptabilidad y la clase individuo\n",
    "creator.create(\"FitnessMax\", base.Fitness, weights = (1.0, ))\n",
    "creator.create(\"Individual\", list, fitness = creator.FitnessMax)\n"
   ]
  },
  {
   "cell_type": "code",
   "execution_count": 9,
   "id": "ada47591-9936-49f0-8e39-55127b462c03",
   "metadata": {},
   "outputs": [],
   "source": [
    "# Construir los individuos\n",
    "# Determinar el comportamiento del gen\n",
    "toolbox.register(\"attribute\", random.randint, 0,1)\n",
    "# Determinar el tamaño del individuo\n",
    "toolbox.register(\"individual\", tools.initRepeat, creator.Individual, toolbox.attribute, n = 10)\n",
    "#Determinar la forma de la poblacion\n",
    "toolbox.register(\"population\", tools.initRepeat, list, toolbox.individual)\n"
   ]
  },
  {
   "cell_type": "markdown",
   "id": "17b5e872-dd16-4a9a-b888-f2ab8ba69002",
   "metadata": {},
   "source": [
    "# Confirmar individuo y poblacion"
   ]
  },
  {
   "cell_type": "code",
   "execution_count": 10,
   "id": "9c71f975-6cde-4ccd-8af1-2c7f2266becb",
   "metadata": {},
   "outputs": [
    {
     "name": "stdout",
     "output_type": "stream",
     "text": [
      "Individuo:  [1, 1, 1, 0, 1, 0, 0, 0, 0, 0]\n",
      "Poblacion:  [[1, 0, 0, 1, 1, 0, 0, 0, 1, 1], [0, 1, 1, 1, 1, 0, 0, 1, 1, 0], [0, 0, 1, 1, 1, 1, 0, 0, 0, 1], [0, 0, 0, 0, 0, 1, 0, 0, 0, 0], [0, 1, 1, 0, 1, 1, 0, 0, 1, 0], [1, 0, 0, 1, 1, 1, 0, 1, 0, 0]]\n"
     ]
    }
   ],
   "source": [
    "ind = toolbox.individual()\n",
    "print(\"Individuo: \", ind)\n",
    "pop = toolbox.population(n=6)\n",
    "print(\"Poblacion: \", pop)"
   ]
  },
  {
   "cell_type": "markdown",
   "id": "06dd3503-8307-4be0-b1b1-715cdc1dc97f",
   "metadata": {},
   "source": [
    "# Crear la funcion de adaptabilidad"
   ]
  },
  {
   "cell_type": "code",
   "execution_count": 11,
   "id": "b61c5eb3-405c-40ee-9c8e-e9006ba6c5a2",
   "metadata": {},
   "outputs": [],
   "source": [
    "def evaluarBeneficio(individual):\n",
    "    beneficio = 0.0\n",
    "    peso = 0.0\n",
    "    beneficio = np.dot(individual, beneficios)\n",
    "    peso = np.dot(individual, pesos)\n",
    "\n",
    "    if peso > capacidad:\n",
    "        beneficio = beneficio - peso\n",
    "    else:\n",
    "        beneficio\n",
    "    return beneficio,"
   ]
  },
  {
   "cell_type": "markdown",
   "id": "16c76f0a-22f1-4d83-a5fc-392c7572b7ab",
   "metadata": {},
   "source": [
    "# Confirmar la funcion de adaptabilidad\n"
   ]
  },
  {
   "cell_type": "code",
   "execution_count": 12,
   "id": "439c0150-da0d-4b49-ad42-89224cdb7b62",
   "metadata": {},
   "outputs": [
    {
     "name": "stdout",
     "output_type": "stream",
     "text": [
      "Individuo previo a evaluar\n",
      "[0, 0, 1, 1, 1, 1, 0, 0, 0, 1]\n",
      "False\n",
      "Individuo evaluado\n",
      "[0, 0, 1, 1, 1, 1, 0, 0, 0, 1]\n",
      "True\n",
      "(40.0,)\n"
     ]
    }
   ],
   "source": [
    "ind = toolbox.individual()\n",
    "print(\"Individuo previo a evaluar\")\n",
    "print(ind)\n",
    "print(ind.fitness.valid)\n",
    "ind.fitness.values = evaluarBeneficio(ind)\n",
    "print(\"Individuo evaluado\")\n",
    "print(ind)\n",
    "print(ind.fitness.valid)\n",
    "print(ind.fitness)\n"
   ]
  },
  {
   "cell_type": "markdown",
   "id": "f670bb4d-7f99-4deb-bb8d-eaf63e0347a4",
   "metadata": {},
   "source": [
    "# Definir los operadores geneticos"
   ]
  },
  {
   "cell_type": "code",
   "execution_count": 13,
   "id": "a535e4e2-036a-42d5-bc42-e506b6eea980",
   "metadata": {},
   "outputs": [],
   "source": [
    "# Seleccion\n",
    "toolbox.register(\"select\", tools.selTournament, tournsize = 3)\n",
    "#Cruce\n",
    "toolbox.register(\"mate\", tools.cxOnePoint)\n",
    "#Mutacion\n",
    "toolbox.register(\"mutate\", tools.mutFlipBit, indpb = 0.2)\n",
    "#Adaptabilidad\n",
    "toolbox.register(\"evaluate\", evaluarBeneficio)\n"
   ]
  },
  {
   "cell_type": "markdown",
   "id": "b1f6c137-2852-422d-9d98-969f0aa161d8",
   "metadata": {},
   "source": [
    "# Configuracion de los estadisticos para analisis"
   ]
  },
  {
   "cell_type": "code",
   "execution_count": 15,
   "id": "0655f8eb-fa13-429a-becb-081c3b737e4a",
   "metadata": {},
   "outputs": [],
   "source": [
    "stats = tools.Statistics(lambda ind: ind.fitness.values)\n",
    "stats.register(\"Promedio\", np.mean)\n",
    "stats.register(\"Desviacion estandar\", np.std)\n",
    "stats.register(\"Minimo\", np.min)\n",
    "stats.register(\"Maximo\",np.max)"
   ]
  },
  {
   "cell_type": "markdown",
   "id": "3afcc7e8-23bb-4bf6-a8f7-27db2129aa61",
   "metadata": {},
   "source": [
    "# Configurar la evolucion de las generaciones"
   ]
  },
  {
   "cell_type": "code",
   "execution_count": 24,
   "id": "db4db7f1-a597-4007-8576-a29c58470aa7",
   "metadata": {},
   "outputs": [
    {
     "name": "stdout",
     "output_type": "stream",
     "text": [
      "El resultado de la evolucion es: \n",
      "gen\tnevals\tPromedio\tDesviacion estandar\tMinimo\tMaximo\n",
      "0  \t512   \t94.6387 \t43.0379            \t15    \t220   \n",
      "1  \t438   \t115.957 \t42.6864            \t20    \t220   \n",
      "2  \t435   \t124.424 \t45.1345            \t0     \t220   \n",
      "3  \t427   \t135.84  \t45.7925            \t25    \t220   \n",
      "4  \t442   \t142.5   \t45.1138            \t40    \t220   \n",
      "5  \t423   \t147.344 \t46.7433            \t35    \t220   \n",
      "6  \t429   \t156.416 \t47.5298            \t35    \t220   \n",
      "7  \t430   \t165.352 \t46.144             \t40    \t220   \n",
      "8  \t435   \t164.854 \t48.5365            \t0     \t220   \n",
      "9  \t430   \t176.26  \t48.5133            \t45    \t220   \n",
      "10 \t439   \t188.125 \t46.849             \t0     \t220   \n",
      "11 \t427   \t197.578 \t43.2933            \t40    \t220   \n",
      "12 \t447   \t201.318 \t40.6355            \t45    \t220   \n",
      "13 \t432   \t203.076 \t40.433             \t70    \t220   \n",
      "14 \t430   \t202.119 \t39.45              \t75    \t220   \n",
      "15 \t437   \t204.287 \t39.5091            \t40    \t220   \n",
      "16 \t428   \t203.32  \t40.3223            \t45    \t220   \n",
      "17 \t435   \t201.494 \t40.5933            \t55    \t220   \n",
      "18 \t428   \t203.047 \t41.0827            \t35    \t220   \n",
      "19 \t439   \t201.123 \t43.0577            \t45    \t220   \n",
      "20 \t438   \t202.285 \t41.6195            \t35    \t220   \n",
      "21 \t431   \t204.307 \t38.9781            \t60    \t220   \n",
      "22 \t410   \t206.777 \t36.2468            \t60    \t220   \n",
      "23 \t442   \t202.09  \t41.5417            \t45    \t220   \n",
      "24 \t428   \t203.809 \t39.7434            \t50    \t220   \n",
      "25 \t417   \t202.578 \t40.2736            \t60    \t220   \n",
      "26 \t427   \t202.803 \t41.2726            \t60    \t220   \n",
      "27 \t424   \t203.75  \t38.8972            \t60    \t220   \n",
      "28 \t408   \t201.982 \t41.3532            \t50    \t220   \n",
      "29 \t418   \t203.799 \t39.6059            \t45    \t220   \n",
      "30 \t433   \t200.273 \t43.4288            \t60    \t220   \n",
      "31 \t437   \t202.91  \t40.4989            \t50    \t220   \n",
      "32 \t428   \t199.072 \t44.061             \t50    \t220   \n",
      "33 \t421   \t203.516 \t39.9676            \t35    \t220   \n",
      "34 \t415   \t201.553 \t42.3098            \t50    \t220   \n",
      "35 \t424   \t202.705 \t41.1523            \t60    \t220   \n",
      "36 \t437   \t200.508 \t43.9275            \t60    \t220   \n",
      "37 \t427   \t199.746 \t43.4806            \t60    \t220   \n",
      "38 \t435   \t201.826 \t41.7341            \t55    \t220   \n",
      "39 \t420   \t200.273 \t43.5186            \t45    \t220   \n",
      "40 \t433   \t199.609 \t42.1591            \t35    \t220   \n",
      "41 \t441   \t204.932 \t38.5851            \t50    \t220   \n",
      "42 \t418   \t202.783 \t40.8733            \t35    \t220   \n",
      "43 \t447   \t201.455 \t42.6432            \t35    \t220   \n",
      "44 \t444   \t200.225 \t42.6582            \t55    \t220   \n",
      "45 \t407   \t204.072 \t38.898             \t45    \t220   \n",
      "46 \t444   \t203.008 \t39.6769            \t55    \t220   \n",
      "47 \t426   \t200.967 \t43.828             \t35    \t220   \n",
      "48 \t416   \t201.338 \t41.5439            \t50    \t220   \n",
      "49 \t437   \t200.977 \t42.0243            \t55    \t220   \n",
      "50 \t406   \t202.822 \t41.4825            \t35    \t220   \n",
      "51 \t438   \t204.307 \t39.3397            \t70    \t220   \n",
      "52 \t405   \t204.707 \t37.9557            \t65    \t220   \n",
      "53 \t414   \t200.889 \t43.1323            \t40    \t220   \n",
      "54 \t410   \t199.717 \t44.1164            \t60    \t220   \n",
      "55 \t444   \t202.627 \t40.8011            \t45    \t220   \n",
      "56 \t407   \t202.627 \t40.549             \t65    \t220   \n",
      "57 \t432   \t204.033 \t39.1635            \t45    \t220   \n",
      "58 \t417   \t197.91  \t45.8474            \t45    \t220   \n",
      "59 \t429   \t201.904 \t41.4441            \t55    \t220   \n",
      "60 \t435   \t200.879 \t41.8238            \t50    \t220   \n",
      "61 \t418   \t200.557 \t42.7295            \t55    \t220   \n",
      "62 \t405   \t206.006 \t36.3336            \t65    \t220   \n",
      "63 \t434   \t204.736 \t37.4971            \t35    \t220   \n",
      "64 \t434   \t202.266 \t41.3782            \t60    \t220   \n",
      "65 \t446   \t200.293 \t42.324             \t45    \t220   \n",
      "66 \t435   \t201.641 \t40.6592            \t45    \t220   \n",
      "67 \t408   \t207.666 \t33.2335            \t55    \t220   \n",
      "68 \t439   \t203.271 \t40.3523            \t55    \t220   \n",
      "69 \t424   \t203.613 \t40.982             \t45    \t220   \n",
      "70 \t428   \t199.219 \t44.3868            \t65    \t220   \n",
      "71 \t439   \t205.342 \t38.5419            \t65    \t220   \n",
      "72 \t432   \t204.648 \t38.2627            \t60    \t220   \n",
      "73 \t408   \t203.164 \t41.0928            \t65    \t220   \n",
      "74 \t435   \t201.768 \t41.9653            \t50    \t220   \n",
      "75 \t426   \t201.797 \t41.1527            \t55    \t220   \n",
      "76 \t411   \t204.297 \t39.3638            \t45    \t220   \n",
      "77 \t442   \t203.164 \t39.822             \t35    \t220   \n",
      "78 \t413   \t202.041 \t41.5376            \t45    \t220   \n",
      "79 \t435   \t201.006 \t41.7139            \t45    \t220   \n",
      "80 \t439   \t203.828 \t40.8945            \t50    \t220   \n",
      "81 \t424   \t203.037 \t38.8859            \t60    \t220   \n",
      "82 \t418   \t204.922 \t37.6844            \t40    \t220   \n",
      "83 \t421   \t202.354 \t40.2443            \t40    \t220   \n",
      "84 \t430   \t201.689 \t41.7796            \t45    \t220   \n",
      "85 \t432   \t201.699 \t41.7225            \t60    \t220   \n",
      "86 \t414   \t205.137 \t38.1273            \t50    \t220   \n",
      "87 \t439   \t201.27  \t42.1197            \t55    \t220   \n",
      "88 \t441   \t204.258 \t38.5926            \t25    \t220   \n",
      "89 \t433   \t202.451 \t40.5624            \t50    \t220   \n",
      "90 \t433   \t202.129 \t40.1554            \t70    \t220   \n",
      "91 \t425   \t203.975 \t39.5985            \t50    \t220   \n",
      "92 \t429   \t201.211 \t42.2834            \t45    \t220   \n",
      "93 \t429   \t202.793 \t41.2146            \t50    \t220   \n",
      "94 \t434   \t203.809 \t40.3579            \t50    \t220   \n",
      "95 \t448   \t203.682 \t39.4972            \t60    \t220   \n",
      "96 \t429   \t201.758 \t41.6908            \t45    \t220   \n",
      "97 \t428   \t202.041 \t42.3421            \t0     \t220   \n",
      "98 \t426   \t201.846 \t41.7928            \t35    \t220   \n",
      "99 \t424   \t203.203 \t40.1084            \t75    \t220   \n",
      "100\t443   \t200.137 \t44.1652            \t65    \t220   \n",
      "La mejor solucion encontrada es: \n",
      "[1, 1, 1, 0, 0, 0, 0, 1, 0, 1]\n"
     ]
    }
   ],
   "source": [
    "#Inicializacion de la poblacion\n",
    "population = toolbox.population(n = 512)\n",
    "#Implementar el metodo evolutivo\n",
    "population, logbook = algorithms.eaSimple(population, toolbox, cxpb = 0.8,\n",
    "                                         mutpb = 0.2, ngen = 100,\n",
    "                                         verbose = False, stats = stats)\n",
    "print(\"El resultado de la evolucion es: \")\n",
    "print(logbook)\n",
    "\n",
    "print(\"La mejor solucion encontrada es: \")\n",
    "print(tools.selBest(population,1)[0])"
   ]
  },
  {
   "cell_type": "markdown",
   "id": "bef819b7-325b-43b0-9288-ec5a90e77275",
   "metadata": {},
   "source": [
    "# Grafico de la evolucion del algoritmo"
   ]
  },
  {
   "cell_type": "code",
   "execution_count": 21,
   "id": "d511695c-1a4b-4cd8-8554-fbb1c14ef46a",
   "metadata": {},
   "outputs": [
    {
     "data": {
      "image/png": "[encoded data removed]",
      "text/plain": [
       "<Figure size 640x480 with 1 Axes>"
      ]
     },
     "metadata": {},
     "output_type": "display_data"
    }
   ],
   "source": [
    "gen = logbook.select(\"gen\")\n",
    "avgs = logbook.select(\"Promedio\")\n",
    "fig = plt.figure()\n",
    "ax = plt.gca()\n",
    "line = ax.plot(gen, avgs,\"r-\",label = \"Adaptabilidad Promedio\")\n",
    "ax.set_xlabel(\"Generacion\")\n",
    "ax.set_ylabel(\"Adaptabilidad\")\n",
    "plt.show()"
   ]
  },
  {
   "cell_type": "code",
   "execution_count": 23,
   "id": "34ececa6-295a-4a69-878b-2da7c43072a5",
   "metadata": {},
   "outputs": [
    {
     "data": {
      "text/plain": [
       "(220,)"
      ]
     },
     "execution_count": 23,
     "metadata": {},
     "output_type": "execute_result"
    }
   ],
   "source": [
    "best = tools.selBest(population,1)[0]\n",
    "evaluarBeneficio(best)"
   ]
  },
  {
   "cell_type": "code",
   "execution_count": null,
   "id": "f46e75f1-7f73-4b3b-8ac2-598dbe17dbe0",
   "metadata": {},
   "outputs": [],
   "source": []
  }
 ],
 "metadata": {
  "kernelspec": {
   "display_name": "Python 3 (ipykernel)",
   "language": "python",
   "name": "python3"
  },
  "language_info": {
   "codemirror_mode": {
    "name": "ipython",
    "version": 3
   },
   "file_extension": ".py",
   "mimetype": "text/x-python",
   "name": "python",
   "nbconvert_exporter": "python",
   "pygments_lexer": "ipython3",
   "version": "3.10.6"
  }
 },
 "nbformat": 4,
 "nbformat_minor": 5
}
