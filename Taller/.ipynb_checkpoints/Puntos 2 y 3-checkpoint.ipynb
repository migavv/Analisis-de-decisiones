{
 "cells": [
  {
   "cell_type": "markdown",
   "id": "9462afba",
   "metadata": {},
   "source": [
    "# Taller Pto. 2"
   ]
  },
  {
   "cell_type": "markdown",
   "id": "ebc261c4",
   "metadata": {},
   "source": [
    "En la modalidad de préstamos en línea P2P no hay entrevista en persona y un prestatario\n",
    "puede simplemente rellenar un formulario en línea y obtener la aprobación de un préstamo.\n",
    "La información proporcionada únicamente por el prestatario es propensa a la exageración\n",
    "y la distorsión. La mayor pregunta para toda empresa de préstamos P2P es si un usuario\n",
    "incumplirá o no. El algoritmo para predecir la probabilidad de impago es el núcleo de un\n",
    "negocio P2P y debe construirse con cuidado. Su tarea es construir un modelo de clasificación\n",
    "para determinar si un usuario incumplirá su préstamo o no.\n",
    "\n",
    "Se cuenta con la siguiente información:\n",
    "\n",
    "* loan_status: Estado del préstamo\n",
    "* annual_inc: Ingresos anuales del cliente\n",
    "* verification_status: Estado de la verificación de los ingresos\n",
    "* emp_length: Tiempo de empleado\n",
    "* home_ownership: Tipo de vivienda\n",
    "* int_rate: Tasa de interés del crédito\n",
    "* loan_amnt: Monto del crédito\n",
    "* purpose: Propósito del crédito\n",
    "* term: Término del crédito\n",
    "* grade: Calificación del cliente"
   ]
  },
  {
   "cell_type": "markdown",
   "id": "aa3a7a2c",
   "metadata": {},
   "source": [
    "## Librerías"
   ]
  },
  {
   "cell_type": "code",
   "execution_count": 2,
   "id": "5806b1de",
   "metadata": {},
   "outputs": [],
   "source": [
    "#Advertencias\n",
    "import warnings\n",
    "warnings.filterwarnings('ignore')\n",
    "\n",
    "#tratamiento de datos\n",
    "import pandas as pd\n",
    "import numpy as np\n",
    "\n",
    "#Gráficos\n",
    "import matplotlib.pyplot as plt\n",
    "import seaborn as sb\n",
    "\n",
    "#Preparación de datos\n",
    "from sklearn.model_selection import train_test_split\n",
    "from sklearn.compose import ColumnTransformer\n",
    "from sklearn.pipeline import Pipeline\n",
    "from sklearn.preprocessing import MinMaxScaler\n",
    "from sklearn.preprocessing import OneHotEncoder\n",
    "from sklearn.preprocessing import OrdinalEncoder\n",
    "from sklearn.compose import make_column_selector\n",
    "from sklearn import set_config\n",
    "\n",
    "#Modelado\n",
    "from sklearn.linear_model import LogisticRegression\n",
    "from sklearn.svm import SVC\n",
    "from sklearn.neural_network import MLPClassifier\n",
    "\n",
    "#Evaluación\n",
    "from sklearn.metrics import accuracy_score, confusion_matrix"
   ]
  },
  {
   "cell_type": "markdown",
   "id": "6ecc53a7",
   "metadata": {},
   "source": [
    "## Cargue de datos"
   ]
  },
  {
   "cell_type": "code",
   "execution_count": 335,
   "id": "24b076df",
   "metadata": {},
   "outputs": [
    {
     "data": {
      "text/html": [
       "<div>\n",
       "<style scoped>\n",
       "    .dataframe tbody tr th:only-of-type {\n",
       "        vertical-align: middle;\n",
       "    }\n",
       "\n",
       "    .dataframe tbody tr th {\n",
       "        vertical-align: top;\n",
       "    }\n",
       "\n",
       "    .dataframe thead th {\n",
       "        text-align: right;\n",
       "    }\n",
       "</style>\n",
       "<table border=\"1\" class=\"dataframe\">\n",
       "  <thead>\n",
       "    <tr style=\"text-align: right;\">\n",
       "      <th></th>\n",
       "      <th>loan_status</th>\n",
       "      <th>annual_inc</th>\n",
       "      <th>verification_status</th>\n",
       "      <th>emp_length</th>\n",
       "      <th>home_ownership</th>\n",
       "      <th>int_rate</th>\n",
       "      <th>loan_amnt</th>\n",
       "      <th>purpose</th>\n",
       "      <th>term</th>\n",
       "      <th>grade</th>\n",
       "    </tr>\n",
       "  </thead>\n",
       "  <tbody>\n",
       "    <tr>\n",
       "      <th>0</th>\n",
       "      <td>Fully Paid</td>\n",
       "      <td>24000.0</td>\n",
       "      <td>Verified</td>\n",
       "      <td>10+ years</td>\n",
       "      <td>RENT</td>\n",
       "      <td>10.65%</td>\n",
       "      <td>5000</td>\n",
       "      <td>credit_card</td>\n",
       "      <td>36 months</td>\n",
       "      <td>B</td>\n",
       "    </tr>\n",
       "    <tr>\n",
       "      <th>1</th>\n",
       "      <td>Charged Off</td>\n",
       "      <td>30000.0</td>\n",
       "      <td>Source Verified</td>\n",
       "      <td>&lt; 1 year</td>\n",
       "      <td>RENT</td>\n",
       "      <td>15.27%</td>\n",
       "      <td>2500</td>\n",
       "      <td>car</td>\n",
       "      <td>60 months</td>\n",
       "      <td>C</td>\n",
       "    </tr>\n",
       "    <tr>\n",
       "      <th>2</th>\n",
       "      <td>Fully Paid</td>\n",
       "      <td>12252.0</td>\n",
       "      <td>Not Verified</td>\n",
       "      <td>10+ years</td>\n",
       "      <td>RENT</td>\n",
       "      <td>15.96%</td>\n",
       "      <td>2400</td>\n",
       "      <td>small_business</td>\n",
       "      <td>36 months</td>\n",
       "      <td>C</td>\n",
       "    </tr>\n",
       "    <tr>\n",
       "      <th>3</th>\n",
       "      <td>Fully Paid</td>\n",
       "      <td>49200.0</td>\n",
       "      <td>Source Verified</td>\n",
       "      <td>10+ years</td>\n",
       "      <td>RENT</td>\n",
       "      <td>13.49%</td>\n",
       "      <td>10000</td>\n",
       "      <td>other</td>\n",
       "      <td>36 months</td>\n",
       "      <td>C</td>\n",
       "    </tr>\n",
       "    <tr>\n",
       "      <th>4</th>\n",
       "      <td>Fully Paid</td>\n",
       "      <td>80000.0</td>\n",
       "      <td>Source Verified</td>\n",
       "      <td>1 year</td>\n",
       "      <td>RENT</td>\n",
       "      <td>12.69%</td>\n",
       "      <td>3000</td>\n",
       "      <td>other</td>\n",
       "      <td>60 months</td>\n",
       "      <td>B</td>\n",
       "    </tr>\n",
       "  </tbody>\n",
       "</table>\n",
       "</div>"
      ],
      "text/plain": [
       "   loan_status  annual_inc verification_status emp_length home_ownership  \\\n",
       "0   Fully Paid     24000.0            Verified  10+ years           RENT   \n",
       "1  Charged Off     30000.0     Source Verified   < 1 year           RENT   \n",
       "2   Fully Paid     12252.0        Not Verified  10+ years           RENT   \n",
       "3   Fully Paid     49200.0     Source Verified  10+ years           RENT   \n",
       "4   Fully Paid     80000.0     Source Verified     1 year           RENT   \n",
       "\n",
       "  int_rate  loan_amnt         purpose        term grade  \n",
       "0   10.65%       5000     credit_card   36 months     B  \n",
       "1   15.27%       2500             car   60 months     C  \n",
       "2   15.96%       2400  small_business   36 months     C  \n",
       "3   13.49%      10000           other   36 months     C  \n",
       "4   12.69%       3000           other   60 months     B  "
      ]
     },
     "execution_count": 335,
     "metadata": {},
     "output_type": "execute_result"
    }
   ],
   "source": [
    "datos = pd.read_csv('lcc.csv')\n",
    "datos.head()"
   ]
  },
  {
   "cell_type": "markdown",
   "id": "85c41968",
   "metadata": {},
   "source": [
    "## Exploaración de datos"
   ]
  },
  {
   "cell_type": "code",
   "execution_count": 8,
   "id": "5bcc466d",
   "metadata": {
    "scrolled": false
   },
   "outputs": [
    {
     "name": "stdout",
     "output_type": "stream",
     "text": [
      "<class 'pandas.core.frame.DataFrame'>\n",
      "RangeIndex: 38705 entries, 0 to 38704\n",
      "Data columns (total 10 columns):\n",
      " #   Column               Non-Null Count  Dtype  \n",
      "---  ------               --------------  -----  \n",
      " 0   loan_status          38705 non-null  object \n",
      " 1   annual_inc           38705 non-null  float64\n",
      " 2   verification_status  38705 non-null  object \n",
      " 3   emp_length           38705 non-null  object \n",
      " 4   home_ownership       38705 non-null  object \n",
      " 5   int_rate             38705 non-null  object \n",
      " 6   loan_amnt            38705 non-null  int64  \n",
      " 7   purpose              38705 non-null  object \n",
      " 8   term                 38705 non-null  object \n",
      " 9   grade                38705 non-null  object \n",
      "dtypes: float64(1), int64(1), object(8)\n",
      "memory usage: 3.0+ MB\n"
     ]
    }
   ],
   "source": [
    "datos.info()"
   ]
  },
  {
   "cell_type": "code",
   "execution_count": 125,
   "id": "c09e4f83",
   "metadata": {
    "scrolled": false
   },
   "outputs": [
    {
     "data": {
      "text/html": [
       "<div>\n",
       "<style scoped>\n",
       "    .dataframe tbody tr th:only-of-type {\n",
       "        vertical-align: middle;\n",
       "    }\n",
       "\n",
       "    .dataframe tbody tr th {\n",
       "        vertical-align: top;\n",
       "    }\n",
       "\n",
       "    .dataframe thead th {\n",
       "        text-align: right;\n",
       "    }\n",
       "</style>\n",
       "<table border=\"1\" class=\"dataframe\">\n",
       "  <thead>\n",
       "    <tr style=\"text-align: right;\">\n",
       "      <th></th>\n",
       "      <th>loan_status</th>\n",
       "      <th>annual_inc</th>\n",
       "      <th>verification_status</th>\n",
       "      <th>emp_length</th>\n",
       "      <th>home_ownership</th>\n",
       "      <th>int_rate</th>\n",
       "      <th>loan_amnt</th>\n",
       "      <th>purpose</th>\n",
       "      <th>term</th>\n",
       "      <th>grade</th>\n",
       "    </tr>\n",
       "  </thead>\n",
       "  <tbody>\n",
       "    <tr>\n",
       "      <th>count</th>\n",
       "      <td>81879</td>\n",
       "      <td>8.187900e+04</td>\n",
       "      <td>81879</td>\n",
       "      <td>81879</td>\n",
       "      <td>81879</td>\n",
       "      <td>81879.000000</td>\n",
       "      <td>81879.00000</td>\n",
       "      <td>81879</td>\n",
       "      <td>81879.000000</td>\n",
       "      <td>81879.000000</td>\n",
       "    </tr>\n",
       "    <tr>\n",
       "      <th>unique</th>\n",
       "      <td>2</td>\n",
       "      <td>NaN</td>\n",
       "      <td>3</td>\n",
       "      <td>11</td>\n",
       "      <td>4</td>\n",
       "      <td>NaN</td>\n",
       "      <td>NaN</td>\n",
       "      <td>14</td>\n",
       "      <td>NaN</td>\n",
       "      <td>NaN</td>\n",
       "    </tr>\n",
       "    <tr>\n",
       "      <th>top</th>\n",
       "      <td>Fully Paid</td>\n",
       "      <td>NaN</td>\n",
       "      <td>Verified</td>\n",
       "      <td>10+ years</td>\n",
       "      <td>RENT</td>\n",
       "      <td>NaN</td>\n",
       "      <td>NaN</td>\n",
       "      <td>debt_consolidation</td>\n",
       "      <td>NaN</td>\n",
       "      <td>NaN</td>\n",
       "    </tr>\n",
       "    <tr>\n",
       "      <th>freq</th>\n",
       "      <td>65254</td>\n",
       "      <td>NaN</td>\n",
       "      <td>34062</td>\n",
       "      <td>19731</td>\n",
       "      <td>38869</td>\n",
       "      <td>NaN</td>\n",
       "      <td>NaN</td>\n",
       "      <td>41239</td>\n",
       "      <td>NaN</td>\n",
       "      <td>NaN</td>\n",
       "    </tr>\n",
       "    <tr>\n",
       "      <th>mean</th>\n",
       "      <td>NaN</td>\n",
       "      <td>7.567183e+04</td>\n",
       "      <td>NaN</td>\n",
       "      <td>NaN</td>\n",
       "      <td>NaN</td>\n",
       "      <td>15.210047</td>\n",
       "      <td>13993.71878</td>\n",
       "      <td>NaN</td>\n",
       "      <td>47.187337</td>\n",
       "      <td>3.000000</td>\n",
       "    </tr>\n",
       "    <tr>\n",
       "      <th>std</th>\n",
       "      <td>NaN</td>\n",
       "      <td>6.126719e+04</td>\n",
       "      <td>NaN</td>\n",
       "      <td>NaN</td>\n",
       "      <td>NaN</td>\n",
       "      <td>4.743278</td>\n",
       "      <td>8795.90629</td>\n",
       "      <td>NaN</td>\n",
       "      <td>11.972524</td>\n",
       "      <td>2.000012</td>\n",
       "    </tr>\n",
       "    <tr>\n",
       "      <th>min</th>\n",
       "      <td>NaN</td>\n",
       "      <td>4.080000e+03</td>\n",
       "      <td>NaN</td>\n",
       "      <td>NaN</td>\n",
       "      <td>NaN</td>\n",
       "      <td>5.420000</td>\n",
       "      <td>500.00000</td>\n",
       "      <td>NaN</td>\n",
       "      <td>36.000000</td>\n",
       "      <td>0.000000</td>\n",
       "    </tr>\n",
       "    <tr>\n",
       "      <th>25%</th>\n",
       "      <td>NaN</td>\n",
       "      <td>4.500000e+04</td>\n",
       "      <td>NaN</td>\n",
       "      <td>NaN</td>\n",
       "      <td>NaN</td>\n",
       "      <td>11.710000</td>\n",
       "      <td>6600.00000</td>\n",
       "      <td>NaN</td>\n",
       "      <td>36.000000</td>\n",
       "      <td>1.000000</td>\n",
       "    </tr>\n",
       "    <tr>\n",
       "      <th>50%</th>\n",
       "      <td>NaN</td>\n",
       "      <td>6.382000e+04</td>\n",
       "      <td>NaN</td>\n",
       "      <td>NaN</td>\n",
       "      <td>NaN</td>\n",
       "      <td>15.620000</td>\n",
       "      <td>12000.00000</td>\n",
       "      <td>NaN</td>\n",
       "      <td>36.000000</td>\n",
       "      <td>3.000000</td>\n",
       "    </tr>\n",
       "    <tr>\n",
       "      <th>75%</th>\n",
       "      <td>NaN</td>\n",
       "      <td>9.099600e+04</td>\n",
       "      <td>NaN</td>\n",
       "      <td>NaN</td>\n",
       "      <td>NaN</td>\n",
       "      <td>19.040000</td>\n",
       "      <td>20000.00000</td>\n",
       "      <td>NaN</td>\n",
       "      <td>60.000000</td>\n",
       "      <td>5.000000</td>\n",
       "    </tr>\n",
       "    <tr>\n",
       "      <th>max</th>\n",
       "      <td>NaN</td>\n",
       "      <td>6.000000e+06</td>\n",
       "      <td>NaN</td>\n",
       "      <td>NaN</td>\n",
       "      <td>NaN</td>\n",
       "      <td>24.590000</td>\n",
       "      <td>35000.00000</td>\n",
       "      <td>NaN</td>\n",
       "      <td>60.000000</td>\n",
       "      <td>6.000000</td>\n",
       "    </tr>\n",
       "  </tbody>\n",
       "</table>\n",
       "</div>"
      ],
      "text/plain": [
       "       loan_status    annual_inc verification_status emp_length  \\\n",
       "count        81879  8.187900e+04               81879      81879   \n",
       "unique           2           NaN                   3         11   \n",
       "top     Fully Paid           NaN            Verified  10+ years   \n",
       "freq         65254           NaN               34062      19731   \n",
       "mean           NaN  7.567183e+04                 NaN        NaN   \n",
       "std            NaN  6.126719e+04                 NaN        NaN   \n",
       "min            NaN  4.080000e+03                 NaN        NaN   \n",
       "25%            NaN  4.500000e+04                 NaN        NaN   \n",
       "50%            NaN  6.382000e+04                 NaN        NaN   \n",
       "75%            NaN  9.099600e+04                 NaN        NaN   \n",
       "max            NaN  6.000000e+06                 NaN        NaN   \n",
       "\n",
       "       home_ownership      int_rate    loan_amnt             purpose  \\\n",
       "count           81879  81879.000000  81879.00000               81879   \n",
       "unique              4           NaN          NaN                  14   \n",
       "top              RENT           NaN          NaN  debt_consolidation   \n",
       "freq            38869           NaN          NaN               41239   \n",
       "mean              NaN     15.210047  13993.71878                 NaN   \n",
       "std               NaN      4.743278   8795.90629                 NaN   \n",
       "min               NaN      5.420000    500.00000                 NaN   \n",
       "25%               NaN     11.710000   6600.00000                 NaN   \n",
       "50%               NaN     15.620000  12000.00000                 NaN   \n",
       "75%               NaN     19.040000  20000.00000                 NaN   \n",
       "max               NaN     24.590000  35000.00000                 NaN   \n",
       "\n",
       "                term         grade  \n",
       "count   81879.000000  81879.000000  \n",
       "unique           NaN           NaN  \n",
       "top              NaN           NaN  \n",
       "freq             NaN           NaN  \n",
       "mean       47.187337      3.000000  \n",
       "std        11.972524      2.000012  \n",
       "min        36.000000      0.000000  \n",
       "25%        36.000000      1.000000  \n",
       "50%        36.000000      3.000000  \n",
       "75%        60.000000      5.000000  \n",
       "max        60.000000      6.000000  "
      ]
     },
     "execution_count": 125,
     "metadata": {},
     "output_type": "execute_result"
    }
   ],
   "source": [
    "datos.describe(include='all')"
   ]
  },
  {
   "cell_type": "markdown",
   "id": "6146343a",
   "metadata": {},
   "source": [
    "## Cálculo de la correlación"
   ]
  },
  {
   "cell_type": "code",
   "execution_count": 336,
   "id": "dc7e2585",
   "metadata": {},
   "outputs": [],
   "source": [
    "#Transformación de la y\n",
    "datos['grade'].replace(to_replace='A', value=0, inplace=True)\n",
    "datos['grade'].replace(to_replace='B', value=1, inplace=True)\n",
    "datos['grade'].replace(to_replace='C', value=2, inplace=True)\n",
    "datos['grade'].replace(to_replace='D', value=3, inplace=True)\n",
    "datos['grade'].replace(to_replace='E', value=4, inplace=True)\n",
    "datos['grade'].replace(to_replace='F', value=5, inplace=True)\n",
    "datos['grade'].replace(to_replace='G', value=6, inplace=True)"
   ]
  },
  {
   "cell_type": "code",
   "execution_count": 363,
   "id": "e2d0787b",
   "metadata": {
    "scrolled": true
   },
   "outputs": [
    {
     "data": {
      "text/plain": [
       "<seaborn.axisgrid.FacetGrid at 0x14d1b21dfd0>"
      ]
     },
     "execution_count": 363,
     "metadata": {},
     "output_type": "execute_result"
    },
    {
     "data": {
      "image/png": "[encoded data removed]",
      "text/plain": [
       "<Figure size 500x500 with 1 Axes>"
      ]
     },
     "metadata": {},
     "output_type": "display_data"
    }
   ],
   "source": [
    "sb.catplot(data=datos, x='grade', kind='count')"
   ]
  },
  {
   "cell_type": "code",
   "execution_count": 344,
   "id": "512d197e",
   "metadata": {},
   "outputs": [],
   "source": [
    "#Modificación de variables\n",
    "datos['int_rate'] = datos['int_rate'].replace({'%':''}, regex = True).astype(float)\n",
    "datos['term'] = datos['term'].replace({'months':''}, regex = True).astype(int)"
   ]
  },
  {
   "cell_type": "code",
   "execution_count": 359,
   "id": "445ece4e",
   "metadata": {},
   "outputs": [
    {
     "data": {
      "text/html": [
       "<style>#sk-container-id-34 {color: black;}#sk-container-id-34 pre{padding: 0;}#sk-container-id-34 div.sk-toggleable {background-color: white;}#sk-container-id-34 label.sk-toggleable__label {cursor: pointer;display: block;width: 100%;margin-bottom: 0;padding: 0.3em;box-sizing: border-box;text-align: center;}#sk-container-id-34 label.sk-toggleable__label-arrow:before {content: \"▸\";float: left;margin-right: 0.25em;color: #696969;}#sk-container-id-34 label.sk-toggleable__label-arrow:hover:before {color: black;}#sk-container-id-34 div.sk-estimator:hover label.sk-toggleable__label-arrow:before {color: black;}#sk-container-id-34 div.sk-toggleable__content {max-height: 0;max-width: 0;overflow: hidden;text-align: left;background-color: #f0f8ff;}#sk-container-id-34 div.sk-toggleable__content pre {margin: 0.2em;color: black;border-radius: 0.25em;background-color: #f0f8ff;}#sk-container-id-34 input.sk-toggleable__control:checked~div.sk-toggleable__content {max-height: 200px;max-width: 100%;overflow: auto;}#sk-container-id-34 input.sk-toggleable__control:checked~label.sk-toggleable__label-arrow:before {content: \"▾\";}#sk-container-id-34 div.sk-estimator input.sk-toggleable__control:checked~label.sk-toggleable__label {background-color: #d4ebff;}#sk-container-id-34 div.sk-label input.sk-toggleable__control:checked~label.sk-toggleable__label {background-color: #d4ebff;}#sk-container-id-34 input.sk-hidden--visually {border: 0;clip: rect(1px 1px 1px 1px);clip: rect(1px, 1px, 1px, 1px);height: 1px;margin: -1px;overflow: hidden;padding: 0;position: absolute;width: 1px;}#sk-container-id-34 div.sk-estimator {font-family: monospace;background-color: #f0f8ff;border: 1px dotted black;border-radius: 0.25em;box-sizing: border-box;margin-bottom: 0.5em;}#sk-container-id-34 div.sk-estimator:hover {background-color: #d4ebff;}#sk-container-id-34 div.sk-parallel-item::after {content: \"\";width: 100%;border-bottom: 1px solid gray;flex-grow: 1;}#sk-container-id-34 div.sk-label:hover label.sk-toggleable__label {background-color: #d4ebff;}#sk-container-id-34 div.sk-serial::before {content: \"\";position: absolute;border-left: 1px solid gray;box-sizing: border-box;top: 0;bottom: 0;left: 50%;z-index: 0;}#sk-container-id-34 div.sk-serial {display: flex;flex-direction: column;align-items: center;background-color: white;padding-right: 0.2em;padding-left: 0.2em;position: relative;}#sk-container-id-34 div.sk-item {position: relative;z-index: 1;}#sk-container-id-34 div.sk-parallel {display: flex;align-items: stretch;justify-content: center;background-color: white;position: relative;}#sk-container-id-34 div.sk-item::before, #sk-container-id-34 div.sk-parallel-item::before {content: \"\";position: absolute;border-left: 1px solid gray;box-sizing: border-box;top: 0;bottom: 0;left: 50%;z-index: -1;}#sk-container-id-34 div.sk-parallel-item {display: flex;flex-direction: column;z-index: 1;position: relative;background-color: white;}#sk-container-id-34 div.sk-parallel-item:first-child::after {align-self: flex-end;width: 50%;}#sk-container-id-34 div.sk-parallel-item:last-child::after {align-self: flex-start;width: 50%;}#sk-container-id-34 div.sk-parallel-item:only-child::after {width: 0;}#sk-container-id-34 div.sk-dashed-wrapped {border: 1px dashed gray;margin: 0 0.4em 0.5em 0.4em;box-sizing: border-box;padding-bottom: 0.4em;background-color: white;}#sk-container-id-34 div.sk-label label {font-family: monospace;font-weight: bold;display: inline-block;line-height: 1.2em;}#sk-container-id-34 div.sk-label-container {text-align: center;}#sk-container-id-34 div.sk-container {/* jupyter's `normalize.less` sets `[hidden] { display: none; }` but bootstrap.min.css set `[hidden] { display: none !important; }` so we also need the `!important` here to be able to override the default hidden behavior on the sphinx rendered scikit-learn.org. See: https://github.com/scikit-learn/scikit-learn/issues/21755 */display: inline-block !important;position: relative;}#sk-container-id-34 div.sk-text-repr-fallback {display: none;}</style><div id=\"sk-container-id-34\" class=\"sk-top-container\"><div class=\"sk-text-repr-fallback\"><pre>ColumnTransformer(remainder=&#x27;passthrough&#x27;,\n",
       "                  transformers=[(&#x27;cat&#x27;,\n",
       "                                 Pipeline(steps=[(&#x27;ordinal&#x27;,\n",
       "                                                  OrdinalEncoder())]),\n",
       "                                 [&#x27;loan_status&#x27;, &#x27;verification_status&#x27;,\n",
       "                                  &#x27;emp_length&#x27;, &#x27;home_ownership&#x27;, &#x27;purpose&#x27;])])</pre><b>In a Jupyter environment, please rerun this cell to show the HTML representation or trust the notebook. <br />On GitHub, the HTML representation is unable to render, please try loading this page with nbviewer.org.</b></div><div class=\"sk-container\" hidden><div class=\"sk-item sk-dashed-wrapped\"><div class=\"sk-label-container\"><div class=\"sk-label sk-toggleable\"><input class=\"sk-toggleable__control sk-hidden--visually\" id=\"sk-estimator-id-86\" type=\"checkbox\" ><label for=\"sk-estimator-id-86\" class=\"sk-toggleable__label sk-toggleable__label-arrow\">ColumnTransformer</label><div class=\"sk-toggleable__content\"><pre>ColumnTransformer(remainder=&#x27;passthrough&#x27;,\n",
       "                  transformers=[(&#x27;cat&#x27;,\n",
       "                                 Pipeline(steps=[(&#x27;ordinal&#x27;,\n",
       "                                                  OrdinalEncoder())]),\n",
       "                                 [&#x27;loan_status&#x27;, &#x27;verification_status&#x27;,\n",
       "                                  &#x27;emp_length&#x27;, &#x27;home_ownership&#x27;, &#x27;purpose&#x27;])])</pre></div></div></div><div class=\"sk-parallel\"><div class=\"sk-parallel-item\"><div class=\"sk-item\"><div class=\"sk-label-container\"><div class=\"sk-label sk-toggleable\"><input class=\"sk-toggleable__control sk-hidden--visually\" id=\"sk-estimator-id-87\" type=\"checkbox\" ><label for=\"sk-estimator-id-87\" class=\"sk-toggleable__label sk-toggleable__label-arrow\">cat</label><div class=\"sk-toggleable__content\"><pre>[&#x27;loan_status&#x27;, &#x27;verification_status&#x27;, &#x27;emp_length&#x27;, &#x27;home_ownership&#x27;, &#x27;purpose&#x27;]</pre></div></div></div><div class=\"sk-serial\"><div class=\"sk-item\"><div class=\"sk-serial\"><div class=\"sk-item\"><div class=\"sk-estimator sk-toggleable\"><input class=\"sk-toggleable__control sk-hidden--visually\" id=\"sk-estimator-id-88\" type=\"checkbox\" ><label for=\"sk-estimator-id-88\" class=\"sk-toggleable__label sk-toggleable__label-arrow\">OrdinalEncoder</label><div class=\"sk-toggleable__content\"><pre>OrdinalEncoder()</pre></div></div></div></div></div></div></div></div><div class=\"sk-parallel-item\"><div class=\"sk-item\"><div class=\"sk-label-container\"><div class=\"sk-label sk-toggleable\"><input class=\"sk-toggleable__control sk-hidden--visually\" id=\"sk-estimator-id-89\" type=\"checkbox\" ><label for=\"sk-estimator-id-89\" class=\"sk-toggleable__label sk-toggleable__label-arrow\">remainder</label><div class=\"sk-toggleable__content\"><pre></pre></div></div></div><div class=\"sk-serial\"><div class=\"sk-item\"><div class=\"sk-estimator sk-toggleable\"><input class=\"sk-toggleable__control sk-hidden--visually\" id=\"sk-estimator-id-90\" type=\"checkbox\" ><label for=\"sk-estimator-id-90\" class=\"sk-toggleable__label sk-toggleable__label-arrow\">passthrough</label><div class=\"sk-toggleable__content\"><pre>passthrough</pre></div></div></div></div></div></div></div></div></div></div>"
      ],
      "text/plain": [
       "ColumnTransformer(remainder='passthrough',\n",
       "                  transformers=[('cat',\n",
       "                                 Pipeline(steps=[('ordinal',\n",
       "                                                  OrdinalEncoder())]),\n",
       "                                 ['loan_status', 'verification_status',\n",
       "                                  'emp_length', 'home_ownership', 'purpose'])])"
      ]
     },
     "execution_count": 359,
     "metadata": {},
     "output_type": "execute_result"
    }
   ],
   "source": [
    "numCols = datos.select_dtypes(include = ['float64','int64', 'int32']).columns.to_list()\n",
    "catCols = datos.select_dtypes(include = ['object']).columns.to_list()\n",
    "catTransformer = Pipeline(steps = [('ordinal', OrdinalEncoder(handle_unknown = 'error'))])\n",
    "ppAux = ColumnTransformer(transformers = [('cat', catTransformer, catCols)], remainder = 'passthrough')\n",
    "ppAux"
   ]
  },
  {
   "cell_type": "code",
   "execution_count": 360,
   "id": "9e43a083",
   "metadata": {
    "scrolled": false
   },
   "outputs": [
    {
     "data": {
      "text/plain": [
       "array([[1.0e+00, 2.0e+00, 1.0e+00, ..., 5.0e+03, 3.6e+01, 1.0e+00],\n",
       "       [0.0e+00, 1.0e+00, 1.0e+01, ..., 2.5e+03, 6.0e+01, 2.0e+00],\n",
       "       [1.0e+00, 0.0e+00, 1.0e+00, ..., 2.4e+03, 3.6e+01, 2.0e+00],\n",
       "       ...,\n",
       "       [1.0e+00, 0.0e+00, 1.0e+01, ..., 5.0e+03, 3.6e+01, 0.0e+00],\n",
       "       [1.0e+00, 0.0e+00, 1.0e+01, ..., 5.0e+03, 3.6e+01, 0.0e+00],\n",
       "       [1.0e+00, 0.0e+00, 1.0e+01, ..., 7.5e+03, 3.6e+01, 4.0e+00]])"
      ]
     },
     "execution_count": 360,
     "metadata": {},
     "output_type": "execute_result"
    }
   ],
   "source": [
    "auxData = ppAux.fit_transform(datos)\n",
    "auxData"
   ]
  },
  {
   "cell_type": "code",
   "execution_count": 361,
   "id": "f70c486c",
   "metadata": {},
   "outputs": [
    {
     "data": {
      "text/html": [
       "<div>\n",
       "<style scoped>\n",
       "    .dataframe tbody tr th:only-of-type {\n",
       "        vertical-align: middle;\n",
       "    }\n",
       "\n",
       "    .dataframe tbody tr th {\n",
       "        vertical-align: top;\n",
       "    }\n",
       "\n",
       "    .dataframe thead th {\n",
       "        text-align: right;\n",
       "    }\n",
       "</style>\n",
       "<table border=\"1\" class=\"dataframe\">\n",
       "  <thead>\n",
       "    <tr style=\"text-align: right;\">\n",
       "      <th></th>\n",
       "      <th>loan_status</th>\n",
       "      <th>verification_status</th>\n",
       "      <th>emp_length</th>\n",
       "      <th>home_ownership</th>\n",
       "      <th>purpose</th>\n",
       "      <th>annual_inc</th>\n",
       "      <th>int_rate</th>\n",
       "      <th>loan_amnt</th>\n",
       "      <th>term</th>\n",
       "      <th>grade</th>\n",
       "    </tr>\n",
       "  </thead>\n",
       "  <tbody>\n",
       "    <tr>\n",
       "      <th>0</th>\n",
       "      <td>1.0</td>\n",
       "      <td>2.0</td>\n",
       "      <td>1.0</td>\n",
       "      <td>3.0</td>\n",
       "      <td>1.0</td>\n",
       "      <td>24000.0</td>\n",
       "      <td>10.65</td>\n",
       "      <td>5000.0</td>\n",
       "      <td>36.0</td>\n",
       "      <td>1.0</td>\n",
       "    </tr>\n",
       "    <tr>\n",
       "      <th>1</th>\n",
       "      <td>0.0</td>\n",
       "      <td>1.0</td>\n",
       "      <td>10.0</td>\n",
       "      <td>3.0</td>\n",
       "      <td>0.0</td>\n",
       "      <td>30000.0</td>\n",
       "      <td>15.27</td>\n",
       "      <td>2500.0</td>\n",
       "      <td>60.0</td>\n",
       "      <td>2.0</td>\n",
       "    </tr>\n",
       "    <tr>\n",
       "      <th>2</th>\n",
       "      <td>1.0</td>\n",
       "      <td>0.0</td>\n",
       "      <td>1.0</td>\n",
       "      <td>3.0</td>\n",
       "      <td>11.0</td>\n",
       "      <td>12252.0</td>\n",
       "      <td>15.96</td>\n",
       "      <td>2400.0</td>\n",
       "      <td>36.0</td>\n",
       "      <td>2.0</td>\n",
       "    </tr>\n",
       "    <tr>\n",
       "      <th>3</th>\n",
       "      <td>1.0</td>\n",
       "      <td>1.0</td>\n",
       "      <td>1.0</td>\n",
       "      <td>3.0</td>\n",
       "      <td>9.0</td>\n",
       "      <td>49200.0</td>\n",
       "      <td>13.49</td>\n",
       "      <td>10000.0</td>\n",
       "      <td>36.0</td>\n",
       "      <td>2.0</td>\n",
       "    </tr>\n",
       "    <tr>\n",
       "      <th>4</th>\n",
       "      <td>1.0</td>\n",
       "      <td>1.0</td>\n",
       "      <td>0.0</td>\n",
       "      <td>3.0</td>\n",
       "      <td>9.0</td>\n",
       "      <td>80000.0</td>\n",
       "      <td>12.69</td>\n",
       "      <td>3000.0</td>\n",
       "      <td>60.0</td>\n",
       "      <td>1.0</td>\n",
       "    </tr>\n",
       "    <tr>\n",
       "      <th>...</th>\n",
       "      <td>...</td>\n",
       "      <td>...</td>\n",
       "      <td>...</td>\n",
       "      <td>...</td>\n",
       "      <td>...</td>\n",
       "      <td>...</td>\n",
       "      <td>...</td>\n",
       "      <td>...</td>\n",
       "      <td>...</td>\n",
       "      <td>...</td>\n",
       "    </tr>\n",
       "    <tr>\n",
       "      <th>38700</th>\n",
       "      <td>1.0</td>\n",
       "      <td>0.0</td>\n",
       "      <td>4.0</td>\n",
       "      <td>0.0</td>\n",
       "      <td>4.0</td>\n",
       "      <td>110000.0</td>\n",
       "      <td>8.07</td>\n",
       "      <td>2500.0</td>\n",
       "      <td>36.0</td>\n",
       "      <td>0.0</td>\n",
       "    </tr>\n",
       "    <tr>\n",
       "      <th>38701</th>\n",
       "      <td>1.0</td>\n",
       "      <td>0.0</td>\n",
       "      <td>3.0</td>\n",
       "      <td>3.0</td>\n",
       "      <td>1.0</td>\n",
       "      <td>18000.0</td>\n",
       "      <td>10.28</td>\n",
       "      <td>8500.0</td>\n",
       "      <td>36.0</td>\n",
       "      <td>2.0</td>\n",
       "    </tr>\n",
       "    <tr>\n",
       "      <th>38702</th>\n",
       "      <td>1.0</td>\n",
       "      <td>0.0</td>\n",
       "      <td>10.0</td>\n",
       "      <td>0.0</td>\n",
       "      <td>2.0</td>\n",
       "      <td>100000.0</td>\n",
       "      <td>8.07</td>\n",
       "      <td>5000.0</td>\n",
       "      <td>36.0</td>\n",
       "      <td>0.0</td>\n",
       "    </tr>\n",
       "    <tr>\n",
       "      <th>38703</th>\n",
       "      <td>1.0</td>\n",
       "      <td>0.0</td>\n",
       "      <td>10.0</td>\n",
       "      <td>0.0</td>\n",
       "      <td>9.0</td>\n",
       "      <td>200000.0</td>\n",
       "      <td>7.43</td>\n",
       "      <td>5000.0</td>\n",
       "      <td>36.0</td>\n",
       "      <td>0.0</td>\n",
       "    </tr>\n",
       "    <tr>\n",
       "      <th>38704</th>\n",
       "      <td>1.0</td>\n",
       "      <td>0.0</td>\n",
       "      <td>10.0</td>\n",
       "      <td>2.0</td>\n",
       "      <td>2.0</td>\n",
       "      <td>22000.0</td>\n",
       "      <td>13.75</td>\n",
       "      <td>7500.0</td>\n",
       "      <td>36.0</td>\n",
       "      <td>4.0</td>\n",
       "    </tr>\n",
       "  </tbody>\n",
       "</table>\n",
       "<p>38705 rows × 10 columns</p>\n",
       "</div>"
      ],
      "text/plain": [
       "       loan_status  verification_status  emp_length  home_ownership  purpose  \\\n",
       "0              1.0                  2.0         1.0             3.0      1.0   \n",
       "1              0.0                  1.0        10.0             3.0      0.0   \n",
       "2              1.0                  0.0         1.0             3.0     11.0   \n",
       "3              1.0                  1.0         1.0             3.0      9.0   \n",
       "4              1.0                  1.0         0.0             3.0      9.0   \n",
       "...            ...                  ...         ...             ...      ...   \n",
       "38700          1.0                  0.0         4.0             0.0      4.0   \n",
       "38701          1.0                  0.0         3.0             3.0      1.0   \n",
       "38702          1.0                  0.0        10.0             0.0      2.0   \n",
       "38703          1.0                  0.0        10.0             0.0      9.0   \n",
       "38704          1.0                  0.0        10.0             2.0      2.0   \n",
       "\n",
       "       annual_inc  int_rate  loan_amnt  term  grade  \n",
       "0         24000.0     10.65     5000.0  36.0    1.0  \n",
       "1         30000.0     15.27     2500.0  60.0    2.0  \n",
       "2         12252.0     15.96     2400.0  36.0    2.0  \n",
       "3         49200.0     13.49    10000.0  36.0    2.0  \n",
       "4         80000.0     12.69     3000.0  60.0    1.0  \n",
       "...           ...       ...        ...   ...    ...  \n",
       "38700    110000.0      8.07     2500.0  36.0    0.0  \n",
       "38701     18000.0     10.28     8500.0  36.0    2.0  \n",
       "38702    100000.0      8.07     5000.0  36.0    0.0  \n",
       "38703    200000.0      7.43     5000.0  36.0    0.0  \n",
       "38704     22000.0     13.75     7500.0  36.0    4.0  \n",
       "\n",
       "[38705 rows x 10 columns]"
      ]
     },
     "execution_count": 361,
     "metadata": {},
     "output_type": "execute_result"
    }
   ],
   "source": [
    "codCat = ppAux.named_transformers_['cat']['ordinal'].get_feature_names_out(catCols)\n",
    "labels = np.concatenate([codCat, numCols])\n",
    "auxData = pd.DataFrame(auxData, columns = labels)\n",
    "auxData"
   ]
  },
  {
   "cell_type": "code",
   "execution_count": 362,
   "id": "c63db3a4",
   "metadata": {
    "scrolled": true
   },
   "outputs": [
    {
     "data": {
      "text/html": [
       "<div>\n",
       "<style scoped>\n",
       "    .dataframe tbody tr th:only-of-type {\n",
       "        vertical-align: middle;\n",
       "    }\n",
       "\n",
       "    .dataframe tbody tr th {\n",
       "        vertical-align: top;\n",
       "    }\n",
       "\n",
       "    .dataframe thead th {\n",
       "        text-align: right;\n",
       "    }\n",
       "</style>\n",
       "<table border=\"1\" class=\"dataframe\">\n",
       "  <thead>\n",
       "    <tr style=\"text-align: right;\">\n",
       "      <th></th>\n",
       "      <th>loan_status</th>\n",
       "      <th>verification_status</th>\n",
       "      <th>emp_length</th>\n",
       "      <th>home_ownership</th>\n",
       "      <th>purpose</th>\n",
       "      <th>annual_inc</th>\n",
       "      <th>int_rate</th>\n",
       "      <th>loan_amnt</th>\n",
       "      <th>term</th>\n",
       "      <th>grade</th>\n",
       "    </tr>\n",
       "  </thead>\n",
       "  <tbody>\n",
       "    <tr>\n",
       "      <th>loan_status</th>\n",
       "      <td>1.000000</td>\n",
       "      <td>-0.043782</td>\n",
       "      <td>0.006689</td>\n",
       "      <td>-0.023700</td>\n",
       "      <td>-0.040767</td>\n",
       "      <td>0.038905</td>\n",
       "      <td>-0.200111</td>\n",
       "      <td>-0.053193</td>\n",
       "      <td>-0.151221</td>\n",
       "      <td>-0.193650</td>\n",
       "    </tr>\n",
       "    <tr>\n",
       "      <th>verification_status</th>\n",
       "      <td>-0.043782</td>\n",
       "      <td>1.000000</td>\n",
       "      <td>-0.032566</td>\n",
       "      <td>-0.082250</td>\n",
       "      <td>-0.034392</td>\n",
       "      <td>0.128609</td>\n",
       "      <td>0.214416</td>\n",
       "      <td>0.421443</td>\n",
       "      <td>0.260829</td>\n",
       "      <td>0.196053</td>\n",
       "    </tr>\n",
       "    <tr>\n",
       "      <th>emp_length</th>\n",
       "      <td>0.006689</td>\n",
       "      <td>-0.032566</td>\n",
       "      <td>1.000000</td>\n",
       "      <td>0.073510</td>\n",
       "      <td>0.008734</td>\n",
       "      <td>-0.044886</td>\n",
       "      <td>-0.013219</td>\n",
       "      <td>-0.060109</td>\n",
       "      <td>-0.036984</td>\n",
       "      <td>-0.009452</td>\n",
       "    </tr>\n",
       "    <tr>\n",
       "      <th>home_ownership</th>\n",
       "      <td>-0.023700</td>\n",
       "      <td>-0.082250</td>\n",
       "      <td>0.073510</td>\n",
       "      <td>1.000000</td>\n",
       "      <td>0.027213</td>\n",
       "      <td>-0.196103</td>\n",
       "      <td>0.063349</td>\n",
       "      <td>-0.175567</td>\n",
       "      <td>-0.107107</td>\n",
       "      <td>0.053509</td>\n",
       "    </tr>\n",
       "    <tr>\n",
       "      <th>purpose</th>\n",
       "      <td>-0.040767</td>\n",
       "      <td>-0.034392</td>\n",
       "      <td>0.008734</td>\n",
       "      <td>0.027213</td>\n",
       "      <td>1.000000</td>\n",
       "      <td>0.000671</td>\n",
       "      <td>-0.012213</td>\n",
       "      <td>-0.124094</td>\n",
       "      <td>-0.034283</td>\n",
       "      <td>-0.005104</td>\n",
       "    </tr>\n",
       "    <tr>\n",
       "      <th>annual_inc</th>\n",
       "      <td>0.038905</td>\n",
       "      <td>0.128609</td>\n",
       "      <td>-0.044886</td>\n",
       "      <td>-0.196103</td>\n",
       "      <td>0.000671</td>\n",
       "      <td>1.000000</td>\n",
       "      <td>0.050614</td>\n",
       "      <td>0.268672</td>\n",
       "      <td>0.046435</td>\n",
       "      <td>0.052457</td>\n",
       "    </tr>\n",
       "    <tr>\n",
       "      <th>int_rate</th>\n",
       "      <td>-0.200111</td>\n",
       "      <td>0.214416</td>\n",
       "      <td>-0.013219</td>\n",
       "      <td>0.063349</td>\n",
       "      <td>-0.012213</td>\n",
       "      <td>0.050614</td>\n",
       "      <td>1.000000</td>\n",
       "      <td>0.308663</td>\n",
       "      <td>0.453779</td>\n",
       "      <td>0.948552</td>\n",
       "    </tr>\n",
       "    <tr>\n",
       "      <th>loan_amnt</th>\n",
       "      <td>-0.053193</td>\n",
       "      <td>0.421443</td>\n",
       "      <td>-0.060109</td>\n",
       "      <td>-0.175567</td>\n",
       "      <td>-0.124094</td>\n",
       "      <td>0.268672</td>\n",
       "      <td>0.308663</td>\n",
       "      <td>1.000000</td>\n",
       "      <td>0.361222</td>\n",
       "      <td>0.289297</td>\n",
       "    </tr>\n",
       "    <tr>\n",
       "      <th>term</th>\n",
       "      <td>-0.151221</td>\n",
       "      <td>0.260829</td>\n",
       "      <td>-0.036984</td>\n",
       "      <td>-0.107107</td>\n",
       "      <td>-0.034283</td>\n",
       "      <td>0.046435</td>\n",
       "      <td>0.453779</td>\n",
       "      <td>0.361222</td>\n",
       "      <td>1.000000</td>\n",
       "      <td>0.432002</td>\n",
       "    </tr>\n",
       "    <tr>\n",
       "      <th>grade</th>\n",
       "      <td>-0.193650</td>\n",
       "      <td>0.196053</td>\n",
       "      <td>-0.009452</td>\n",
       "      <td>0.053509</td>\n",
       "      <td>-0.005104</td>\n",
       "      <td>0.052457</td>\n",
       "      <td>0.948552</td>\n",
       "      <td>0.289297</td>\n",
       "      <td>0.432002</td>\n",
       "      <td>1.000000</td>\n",
       "    </tr>\n",
       "  </tbody>\n",
       "</table>\n",
       "</div>"
      ],
      "text/plain": [
       "                     loan_status  verification_status  emp_length  \\\n",
       "loan_status             1.000000            -0.043782    0.006689   \n",
       "verification_status    -0.043782             1.000000   -0.032566   \n",
       "emp_length              0.006689            -0.032566    1.000000   \n",
       "home_ownership         -0.023700            -0.082250    0.073510   \n",
       "purpose                -0.040767            -0.034392    0.008734   \n",
       "annual_inc              0.038905             0.128609   -0.044886   \n",
       "int_rate               -0.200111             0.214416   -0.013219   \n",
       "loan_amnt              -0.053193             0.421443   -0.060109   \n",
       "term                   -0.151221             0.260829   -0.036984   \n",
       "grade                  -0.193650             0.196053   -0.009452   \n",
       "\n",
       "                     home_ownership   purpose  annual_inc  int_rate  \\\n",
       "loan_status               -0.023700 -0.040767    0.038905 -0.200111   \n",
       "verification_status       -0.082250 -0.034392    0.128609  0.214416   \n",
       "emp_length                 0.073510  0.008734   -0.044886 -0.013219   \n",
       "home_ownership             1.000000  0.027213   -0.196103  0.063349   \n",
       "purpose                    0.027213  1.000000    0.000671 -0.012213   \n",
       "annual_inc                -0.196103  0.000671    1.000000  0.050614   \n",
       "int_rate                   0.063349 -0.012213    0.050614  1.000000   \n",
       "loan_amnt                 -0.175567 -0.124094    0.268672  0.308663   \n",
       "term                      -0.107107 -0.034283    0.046435  0.453779   \n",
       "grade                      0.053509 -0.005104    0.052457  0.948552   \n",
       "\n",
       "                     loan_amnt      term     grade  \n",
       "loan_status          -0.053193 -0.151221 -0.193650  \n",
       "verification_status   0.421443  0.260829  0.196053  \n",
       "emp_length           -0.060109 -0.036984 -0.009452  \n",
       "home_ownership       -0.175567 -0.107107  0.053509  \n",
       "purpose              -0.124094 -0.034283 -0.005104  \n",
       "annual_inc            0.268672  0.046435  0.052457  \n",
       "int_rate              0.308663  0.453779  0.948552  \n",
       "loan_amnt             1.000000  0.361222  0.289297  \n",
       "term                  0.361222  1.000000  0.432002  \n",
       "grade                 0.289297  0.432002  1.000000  "
      ]
     },
     "execution_count": 362,
     "metadata": {},
     "output_type": "execute_result"
    }
   ],
   "source": [
    "auxData.corr()"
   ]
  },
  {
   "cell_type": "markdown",
   "id": "d8200906",
   "metadata": {},
   "source": [
    "int_rate es la variable más estrechamente relacionada con grade, luego le siguen term y loan_amnt"
   ]
  },
  {
   "cell_type": "markdown",
   "id": "95a3fca3",
   "metadata": {},
   "source": [
    "## Preparación de los datos"
   ]
  },
  {
   "cell_type": "code",
   "execution_count": 365,
   "id": "030b9bd8",
   "metadata": {
    "scrolled": true
   },
   "outputs": [
    {
     "data": {
      "image/png": "[encoded data removed]",
      "text/plain": [
       "<Figure size 640x480 with 1 Axes>"
      ]
     },
     "metadata": {},
     "output_type": "display_data"
    }
   ],
   "source": [
    "plt.pie(x = datos.grade.value_counts(), labels = datos.grade.value_counts().index, autopct = '%0.1f%%')\n",
    "plt.show()"
   ]
  },
  {
   "cell_type": "code",
   "execution_count": 441,
   "id": "d48c7b97",
   "metadata": {},
   "outputs": [],
   "source": [
    "datosA = datos[datos['grade'] == 0]\n",
    "datosB = datos[datos['grade'] == 1]\n",
    "datosC = datos[datos['grade'] == 2]\n",
    "datosD = datos[datos['grade'] == 3]\n",
    "datosE = datos[datos['grade'] == 4]\n",
    "datosF = datos[datos['grade'] == 5]\n",
    "datosG = datos[datos['grade'] == 6]"
   ]
  },
  {
   "cell_type": "code",
   "execution_count": 442,
   "id": "b98a08a2",
   "metadata": {},
   "outputs": [
    {
     "name": "stdout",
     "output_type": "stream",
     "text": [
      "A = (9694, 10)\n",
      "B = (11697, 10)\n",
      "C = (7938, 10)\n",
      "D = (5213, 10)\n",
      "E = (2811, 10)\n",
      "F = (1035, 10)\n",
      "G = (317, 10)\n"
     ]
    }
   ],
   "source": [
    "print('A =', datosA.shape)\n",
    "print('B =', datosB.shape)\n",
    "print('C =', datosC.shape)\n",
    "print('D =', datosD.shape)\n",
    "print('E =', datosE.shape)\n",
    "print('F =', datosF.shape)\n",
    "print('G =', datosG.shape)"
   ]
  },
  {
   "cell_type": "code",
   "execution_count": 443,
   "id": "d51ff9ff",
   "metadata": {},
   "outputs": [],
   "source": [
    "datosA = datosA.sample(datosB.shape[0], replace=True)"
   ]
  },
  {
   "cell_type": "code",
   "execution_count": 444,
   "id": "1de15187",
   "metadata": {},
   "outputs": [
    {
     "data": {
      "text/plain": [
       "(11697, 10)"
      ]
     },
     "execution_count": 444,
     "metadata": {},
     "output_type": "execute_result"
    }
   ],
   "source": [
    "datosA.shape"
   ]
  },
  {
   "cell_type": "code",
   "execution_count": 445,
   "id": "b89c43f1",
   "metadata": {},
   "outputs": [],
   "source": [
    "datosC = datosC.sample(datosB.shape[0], replace=True)\n",
    "datosD = datosD.sample(datosB.shape[0], replace=True)\n",
    "datosE = datosE.sample(datosB.shape[0], replace=True)\n",
    "datosF = datosF.sample(datosB.shape[0], replace=True)\n",
    "datosG = datosG.sample(datosB.shape[0], replace=True)"
   ]
  },
  {
   "cell_type": "code",
   "execution_count": 446,
   "id": "f7836944",
   "metadata": {},
   "outputs": [
    {
     "name": "stdout",
     "output_type": "stream",
     "text": [
      "A = (11697, 10)\n",
      "B = (11697, 10)\n",
      "C = (11697, 10)\n",
      "D = (11697, 10)\n",
      "E = (11697, 10)\n",
      "F = (11697, 10)\n",
      "G = (11697, 10)\n"
     ]
    }
   ],
   "source": [
    "print('A =', datosA.shape)\n",
    "print('B =', datosB.shape)\n",
    "print('C =', datosC.shape)\n",
    "print('D =', datosD.shape)\n",
    "print('E =', datosE.shape)\n",
    "print('F =', datosF.shape)\n",
    "print('G =', datosG.shape)"
   ]
  },
  {
   "cell_type": "code",
   "execution_count": 447,
   "id": "b6c7d3ba",
   "metadata": {},
   "outputs": [],
   "source": [
    "datos = pd.concat([datosA, datosB, datosC, datosD, datosE, datosF, datosG])"
   ]
  },
  {
   "cell_type": "code",
   "execution_count": 448,
   "id": "5b65496d",
   "metadata": {},
   "outputs": [
    {
     "data": {
      "text/plain": [
       "(81879, 10)"
      ]
     },
     "execution_count": 448,
     "metadata": {},
     "output_type": "execute_result"
    }
   ],
   "source": [
    "datos.shape"
   ]
  },
  {
   "cell_type": "code",
   "execution_count": 449,
   "id": "9d9b67ce",
   "metadata": {},
   "outputs": [
    {
     "data": {
      "text/html": [
       "<div>\n",
       "<style scoped>\n",
       "    .dataframe tbody tr th:only-of-type {\n",
       "        vertical-align: middle;\n",
       "    }\n",
       "\n",
       "    .dataframe tbody tr th {\n",
       "        vertical-align: top;\n",
       "    }\n",
       "\n",
       "    .dataframe thead th {\n",
       "        text-align: right;\n",
       "    }\n",
       "</style>\n",
       "<table border=\"1\" class=\"dataframe\">\n",
       "  <thead>\n",
       "    <tr style=\"text-align: right;\">\n",
       "      <th></th>\n",
       "      <th>loan_status</th>\n",
       "      <th>annual_inc</th>\n",
       "      <th>verification_status</th>\n",
       "      <th>emp_length</th>\n",
       "      <th>home_ownership</th>\n",
       "      <th>int_rate</th>\n",
       "      <th>loan_amnt</th>\n",
       "      <th>purpose</th>\n",
       "      <th>term</th>\n",
       "      <th>grade</th>\n",
       "    </tr>\n",
       "  </thead>\n",
       "  <tbody>\n",
       "    <tr>\n",
       "      <th>7915</th>\n",
       "      <td>Fully Paid</td>\n",
       "      <td>79000.0</td>\n",
       "      <td>Not Verified</td>\n",
       "      <td>4 years</td>\n",
       "      <td>MORTGAGE</td>\n",
       "      <td>5.99</td>\n",
       "      <td>8000</td>\n",
       "      <td>debt_consolidation</td>\n",
       "      <td>36</td>\n",
       "      <td>0</td>\n",
       "    </tr>\n",
       "    <tr>\n",
       "      <th>35679</th>\n",
       "      <td>Fully Paid</td>\n",
       "      <td>85000.0</td>\n",
       "      <td>Verified</td>\n",
       "      <td>10+ years</td>\n",
       "      <td>MORTGAGE</td>\n",
       "      <td>9.32</td>\n",
       "      <td>10400</td>\n",
       "      <td>medical</td>\n",
       "      <td>36</td>\n",
       "      <td>0</td>\n",
       "    </tr>\n",
       "    <tr>\n",
       "      <th>14637</th>\n",
       "      <td>Fully Paid</td>\n",
       "      <td>36000.0</td>\n",
       "      <td>Verified</td>\n",
       "      <td>10+ years</td>\n",
       "      <td>RENT</td>\n",
       "      <td>5.99</td>\n",
       "      <td>6400</td>\n",
       "      <td>debt_consolidation</td>\n",
       "      <td>36</td>\n",
       "      <td>0</td>\n",
       "    </tr>\n",
       "    <tr>\n",
       "      <th>2278</th>\n",
       "      <td>Fully Paid</td>\n",
       "      <td>32000.0</td>\n",
       "      <td>Not Verified</td>\n",
       "      <td>4 years</td>\n",
       "      <td>RENT</td>\n",
       "      <td>7.51</td>\n",
       "      <td>12000</td>\n",
       "      <td>credit_card</td>\n",
       "      <td>36</td>\n",
       "      <td>0</td>\n",
       "    </tr>\n",
       "    <tr>\n",
       "      <th>15219</th>\n",
       "      <td>Fully Paid</td>\n",
       "      <td>76663.0</td>\n",
       "      <td>Not Verified</td>\n",
       "      <td>9 years</td>\n",
       "      <td>RENT</td>\n",
       "      <td>7.49</td>\n",
       "      <td>12000</td>\n",
       "      <td>debt_consolidation</td>\n",
       "      <td>36</td>\n",
       "      <td>0</td>\n",
       "    </tr>\n",
       "    <tr>\n",
       "      <th>...</th>\n",
       "      <td>...</td>\n",
       "      <td>...</td>\n",
       "      <td>...</td>\n",
       "      <td>...</td>\n",
       "      <td>...</td>\n",
       "      <td>...</td>\n",
       "      <td>...</td>\n",
       "      <td>...</td>\n",
       "      <td>...</td>\n",
       "      <td>...</td>\n",
       "    </tr>\n",
       "    <tr>\n",
       "      <th>23353</th>\n",
       "      <td>Fully Paid</td>\n",
       "      <td>42000.0</td>\n",
       "      <td>Source Verified</td>\n",
       "      <td>10+ years</td>\n",
       "      <td>OWN</td>\n",
       "      <td>20.03</td>\n",
       "      <td>13000</td>\n",
       "      <td>debt_consolidation</td>\n",
       "      <td>60</td>\n",
       "      <td>6</td>\n",
       "    </tr>\n",
       "    <tr>\n",
       "      <th>19864</th>\n",
       "      <td>Fully Paid</td>\n",
       "      <td>225000.0</td>\n",
       "      <td>Verified</td>\n",
       "      <td>10+ years</td>\n",
       "      <td>MORTGAGE</td>\n",
       "      <td>20.85</td>\n",
       "      <td>25000</td>\n",
       "      <td>credit_card</td>\n",
       "      <td>60</td>\n",
       "      <td>6</td>\n",
       "    </tr>\n",
       "    <tr>\n",
       "      <th>24667</th>\n",
       "      <td>Charged Off</td>\n",
       "      <td>203000.0</td>\n",
       "      <td>Verified</td>\n",
       "      <td>10+ years</td>\n",
       "      <td>RENT</td>\n",
       "      <td>21.64</td>\n",
       "      <td>25000</td>\n",
       "      <td>renewable_energy</td>\n",
       "      <td>36</td>\n",
       "      <td>6</td>\n",
       "    </tr>\n",
       "    <tr>\n",
       "      <th>3212</th>\n",
       "      <td>Fully Paid</td>\n",
       "      <td>120000.0</td>\n",
       "      <td>Verified</td>\n",
       "      <td>10+ years</td>\n",
       "      <td>MORTGAGE</td>\n",
       "      <td>22.74</td>\n",
       "      <td>35000</td>\n",
       "      <td>house</td>\n",
       "      <td>60</td>\n",
       "      <td>6</td>\n",
       "    </tr>\n",
       "    <tr>\n",
       "      <th>10265</th>\n",
       "      <td>Fully Paid</td>\n",
       "      <td>145000.0</td>\n",
       "      <td>Verified</td>\n",
       "      <td>10+ years</td>\n",
       "      <td>MORTGAGE</td>\n",
       "      <td>22.48</td>\n",
       "      <td>35000</td>\n",
       "      <td>debt_consolidation</td>\n",
       "      <td>60</td>\n",
       "      <td>6</td>\n",
       "    </tr>\n",
       "  </tbody>\n",
       "</table>\n",
       "<p>81879 rows × 10 columns</p>\n",
       "</div>"
      ],
      "text/plain": [
       "       loan_status  annual_inc verification_status emp_length home_ownership  \\\n",
       "7915    Fully Paid     79000.0        Not Verified    4 years       MORTGAGE   \n",
       "35679   Fully Paid     85000.0            Verified  10+ years       MORTGAGE   \n",
       "14637   Fully Paid     36000.0            Verified  10+ years           RENT   \n",
       "2278    Fully Paid     32000.0        Not Verified    4 years           RENT   \n",
       "15219   Fully Paid     76663.0        Not Verified    9 years           RENT   \n",
       "...            ...         ...                 ...        ...            ...   \n",
       "23353   Fully Paid     42000.0     Source Verified  10+ years            OWN   \n",
       "19864   Fully Paid    225000.0            Verified  10+ years       MORTGAGE   \n",
       "24667  Charged Off    203000.0            Verified  10+ years           RENT   \n",
       "3212    Fully Paid    120000.0            Verified  10+ years       MORTGAGE   \n",
       "10265   Fully Paid    145000.0            Verified  10+ years       MORTGAGE   \n",
       "\n",
       "       int_rate  loan_amnt             purpose  term  grade  \n",
       "7915       5.99       8000  debt_consolidation    36      0  \n",
       "35679      9.32      10400             medical    36      0  \n",
       "14637      5.99       6400  debt_consolidation    36      0  \n",
       "2278       7.51      12000         credit_card    36      0  \n",
       "15219      7.49      12000  debt_consolidation    36      0  \n",
       "...         ...        ...                 ...   ...    ...  \n",
       "23353     20.03      13000  debt_consolidation    60      6  \n",
       "19864     20.85      25000         credit_card    60      6  \n",
       "24667     21.64      25000    renewable_energy    36      6  \n",
       "3212      22.74      35000               house    60      6  \n",
       "10265     22.48      35000  debt_consolidation    60      6  \n",
       "\n",
       "[81879 rows x 10 columns]"
      ]
     },
     "execution_count": 449,
     "metadata": {},
     "output_type": "execute_result"
    }
   ],
   "source": [
    "datos"
   ]
  },
  {
   "cell_type": "code",
   "execution_count": 120,
   "id": "6d2ad907",
   "metadata": {},
   "outputs": [],
   "source": [
    "x = datos.drop('grade', axis=1)\n",
    "y = datos[['grade']]"
   ]
  },
  {
   "cell_type": "code",
   "execution_count": 121,
   "id": "521022cf",
   "metadata": {},
   "outputs": [
    {
     "data": {
      "text/html": [
       "<div>\n",
       "<style scoped>\n",
       "    .dataframe tbody tr th:only-of-type {\n",
       "        vertical-align: middle;\n",
       "    }\n",
       "\n",
       "    .dataframe tbody tr th {\n",
       "        vertical-align: top;\n",
       "    }\n",
       "\n",
       "    .dataframe thead th {\n",
       "        text-align: right;\n",
       "    }\n",
       "</style>\n",
       "<table border=\"1\" class=\"dataframe\">\n",
       "  <thead>\n",
       "    <tr style=\"text-align: right;\">\n",
       "      <th></th>\n",
       "      <th>loan_status</th>\n",
       "      <th>annual_inc</th>\n",
       "      <th>verification_status</th>\n",
       "      <th>emp_length</th>\n",
       "      <th>home_ownership</th>\n",
       "      <th>int_rate</th>\n",
       "      <th>loan_amnt</th>\n",
       "      <th>purpose</th>\n",
       "      <th>term</th>\n",
       "    </tr>\n",
       "  </thead>\n",
       "  <tbody>\n",
       "    <tr>\n",
       "      <th>7715</th>\n",
       "      <td>Fully Paid</td>\n",
       "      <td>60000.0</td>\n",
       "      <td>Not Verified</td>\n",
       "      <td>5 years</td>\n",
       "      <td>MORTGAGE</td>\n",
       "      <td>7.49</td>\n",
       "      <td>7000</td>\n",
       "      <td>credit_card</td>\n",
       "      <td>36</td>\n",
       "    </tr>\n",
       "    <tr>\n",
       "      <th>38459</th>\n",
       "      <td>Fully Paid</td>\n",
       "      <td>29376.0</td>\n",
       "      <td>Not Verified</td>\n",
       "      <td>1 year</td>\n",
       "      <td>RENT</td>\n",
       "      <td>7.43</td>\n",
       "      <td>2800</td>\n",
       "      <td>moving</td>\n",
       "      <td>36</td>\n",
       "    </tr>\n",
       "    <tr>\n",
       "      <th>19557</th>\n",
       "      <td>Fully Paid</td>\n",
       "      <td>40000.0</td>\n",
       "      <td>Verified</td>\n",
       "      <td>3 years</td>\n",
       "      <td>RENT</td>\n",
       "      <td>6.92</td>\n",
       "      <td>11800</td>\n",
       "      <td>debt_consolidation</td>\n",
       "      <td>36</td>\n",
       "    </tr>\n",
       "    <tr>\n",
       "      <th>8984</th>\n",
       "      <td>Fully Paid</td>\n",
       "      <td>32000.0</td>\n",
       "      <td>Not Verified</td>\n",
       "      <td>2 years</td>\n",
       "      <td>RENT</td>\n",
       "      <td>7.49</td>\n",
       "      <td>1500</td>\n",
       "      <td>major_purchase</td>\n",
       "      <td>36</td>\n",
       "    </tr>\n",
       "    <tr>\n",
       "      <th>9457</th>\n",
       "      <td>Fully Paid</td>\n",
       "      <td>26400.0</td>\n",
       "      <td>Not Verified</td>\n",
       "      <td>1 year</td>\n",
       "      <td>RENT</td>\n",
       "      <td>7.49</td>\n",
       "      <td>10000</td>\n",
       "      <td>debt_consolidation</td>\n",
       "      <td>36</td>\n",
       "    </tr>\n",
       "  </tbody>\n",
       "</table>\n",
       "</div>"
      ],
      "text/plain": [
       "      loan_status  annual_inc verification_status emp_length home_ownership  \\\n",
       "7715   Fully Paid     60000.0        Not Verified    5 years       MORTGAGE   \n",
       "38459  Fully Paid     29376.0        Not Verified     1 year           RENT   \n",
       "19557  Fully Paid     40000.0            Verified    3 years           RENT   \n",
       "8984   Fully Paid     32000.0        Not Verified    2 years           RENT   \n",
       "9457   Fully Paid     26400.0        Not Verified     1 year           RENT   \n",
       "\n",
       "       int_rate  loan_amnt             purpose  term  \n",
       "7715       7.49       7000         credit_card    36  \n",
       "38459      7.43       2800              moving    36  \n",
       "19557      6.92      11800  debt_consolidation    36  \n",
       "8984       7.49       1500      major_purchase    36  \n",
       "9457       7.49      10000  debt_consolidation    36  "
      ]
     },
     "execution_count": 121,
     "metadata": {},
     "output_type": "execute_result"
    }
   ],
   "source": [
    "x.head()"
   ]
  },
  {
   "cell_type": "code",
   "execution_count": 117,
   "id": "e14a3494",
   "metadata": {},
   "outputs": [
    {
     "data": {
      "text/html": [
       "<div>\n",
       "<style scoped>\n",
       "    .dataframe tbody tr th:only-of-type {\n",
       "        vertical-align: middle;\n",
       "    }\n",
       "\n",
       "    .dataframe tbody tr th {\n",
       "        vertical-align: top;\n",
       "    }\n",
       "\n",
       "    .dataframe thead th {\n",
       "        text-align: right;\n",
       "    }\n",
       "</style>\n",
       "<table border=\"1\" class=\"dataframe\">\n",
       "  <thead>\n",
       "    <tr style=\"text-align: right;\">\n",
       "      <th></th>\n",
       "      <th>grade</th>\n",
       "    </tr>\n",
       "  </thead>\n",
       "  <tbody>\n",
       "    <tr>\n",
       "      <th>7715</th>\n",
       "      <td>0</td>\n",
       "    </tr>\n",
       "    <tr>\n",
       "      <th>38459</th>\n",
       "      <td>0</td>\n",
       "    </tr>\n",
       "    <tr>\n",
       "      <th>19557</th>\n",
       "      <td>0</td>\n",
       "    </tr>\n",
       "    <tr>\n",
       "      <th>8984</th>\n",
       "      <td>0</td>\n",
       "    </tr>\n",
       "    <tr>\n",
       "      <th>9457</th>\n",
       "      <td>0</td>\n",
       "    </tr>\n",
       "    <tr>\n",
       "      <th>...</th>\n",
       "      <td>...</td>\n",
       "    </tr>\n",
       "    <tr>\n",
       "      <th>7504</th>\n",
       "      <td>6</td>\n",
       "    </tr>\n",
       "    <tr>\n",
       "      <th>17671</th>\n",
       "      <td>6</td>\n",
       "    </tr>\n",
       "    <tr>\n",
       "      <th>27734</th>\n",
       "      <td>6</td>\n",
       "    </tr>\n",
       "    <tr>\n",
       "      <th>13920</th>\n",
       "      <td>6</td>\n",
       "    </tr>\n",
       "    <tr>\n",
       "      <th>20185</th>\n",
       "      <td>6</td>\n",
       "    </tr>\n",
       "  </tbody>\n",
       "</table>\n",
       "<p>81879 rows × 1 columns</p>\n",
       "</div>"
      ],
      "text/plain": [
       "       grade\n",
       "7715       0\n",
       "38459      0\n",
       "19557      0\n",
       "8984       0\n",
       "9457       0\n",
       "...      ...\n",
       "7504       6\n",
       "17671      6\n",
       "27734      6\n",
       "13920      6\n",
       "20185      6\n",
       "\n",
       "[81879 rows x 1 columns]"
      ]
     },
     "execution_count": 117,
     "metadata": {},
     "output_type": "execute_result"
    }
   ],
   "source": [
    "y"
   ]
  },
  {
   "cell_type": "code",
   "execution_count": 136,
   "id": "9dece24b",
   "metadata": {},
   "outputs": [
    {
     "data": {
      "text/html": [
       "<style>#sk-container-id-4 {color: black;}#sk-container-id-4 pre{padding: 0;}#sk-container-id-4 div.sk-toggleable {background-color: white;}#sk-container-id-4 label.sk-toggleable__label {cursor: pointer;display: block;width: 100%;margin-bottom: 0;padding: 0.3em;box-sizing: border-box;text-align: center;}#sk-container-id-4 label.sk-toggleable__label-arrow:before {content: \"▸\";float: left;margin-right: 0.25em;color: #696969;}#sk-container-id-4 label.sk-toggleable__label-arrow:hover:before {color: black;}#sk-container-id-4 div.sk-estimator:hover label.sk-toggleable__label-arrow:before {color: black;}#sk-container-id-4 div.sk-toggleable__content {max-height: 0;max-width: 0;overflow: hidden;text-align: left;background-color: #f0f8ff;}#sk-container-id-4 div.sk-toggleable__content pre {margin: 0.2em;color: black;border-radius: 0.25em;background-color: #f0f8ff;}#sk-container-id-4 input.sk-toggleable__control:checked~div.sk-toggleable__content {max-height: 200px;max-width: 100%;overflow: auto;}#sk-container-id-4 input.sk-toggleable__control:checked~label.sk-toggleable__label-arrow:before {content: \"▾\";}#sk-container-id-4 div.sk-estimator input.sk-toggleable__control:checked~label.sk-toggleable__label {background-color: #d4ebff;}#sk-container-id-4 div.sk-label input.sk-toggleable__control:checked~label.sk-toggleable__label {background-color: #d4ebff;}#sk-container-id-4 input.sk-hidden--visually {border: 0;clip: rect(1px 1px 1px 1px);clip: rect(1px, 1px, 1px, 1px);height: 1px;margin: -1px;overflow: hidden;padding: 0;position: absolute;width: 1px;}#sk-container-id-4 div.sk-estimator {font-family: monospace;background-color: #f0f8ff;border: 1px dotted black;border-radius: 0.25em;box-sizing: border-box;margin-bottom: 0.5em;}#sk-container-id-4 div.sk-estimator:hover {background-color: #d4ebff;}#sk-container-id-4 div.sk-parallel-item::after {content: \"\";width: 100%;border-bottom: 1px solid gray;flex-grow: 1;}#sk-container-id-4 div.sk-label:hover label.sk-toggleable__label {background-color: #d4ebff;}#sk-container-id-4 div.sk-serial::before {content: \"\";position: absolute;border-left: 1px solid gray;box-sizing: border-box;top: 0;bottom: 0;left: 50%;z-index: 0;}#sk-container-id-4 div.sk-serial {display: flex;flex-direction: column;align-items: center;background-color: white;padding-right: 0.2em;padding-left: 0.2em;position: relative;}#sk-container-id-4 div.sk-item {position: relative;z-index: 1;}#sk-container-id-4 div.sk-parallel {display: flex;align-items: stretch;justify-content: center;background-color: white;position: relative;}#sk-container-id-4 div.sk-item::before, #sk-container-id-4 div.sk-parallel-item::before {content: \"\";position: absolute;border-left: 1px solid gray;box-sizing: border-box;top: 0;bottom: 0;left: 50%;z-index: -1;}#sk-container-id-4 div.sk-parallel-item {display: flex;flex-direction: column;z-index: 1;position: relative;background-color: white;}#sk-container-id-4 div.sk-parallel-item:first-child::after {align-self: flex-end;width: 50%;}#sk-container-id-4 div.sk-parallel-item:last-child::after {align-self: flex-start;width: 50%;}#sk-container-id-4 div.sk-parallel-item:only-child::after {width: 0;}#sk-container-id-4 div.sk-dashed-wrapped {border: 1px dashed gray;margin: 0 0.4em 0.5em 0.4em;box-sizing: border-box;padding-bottom: 0.4em;background-color: white;}#sk-container-id-4 div.sk-label label {font-family: monospace;font-weight: bold;display: inline-block;line-height: 1.2em;}#sk-container-id-4 div.sk-label-container {text-align: center;}#sk-container-id-4 div.sk-container {/* jupyter's `normalize.less` sets `[hidden] { display: none; }` but bootstrap.min.css set `[hidden] { display: none !important; }` so we also need the `!important` here to be able to override the default hidden behavior on the sphinx rendered scikit-learn.org. See: https://github.com/scikit-learn/scikit-learn/issues/21755 */display: inline-block !important;position: relative;}#sk-container-id-4 div.sk-text-repr-fallback {display: none;}</style><div id=\"sk-container-id-4\" class=\"sk-top-container\"><div class=\"sk-text-repr-fallback\"><pre>ColumnTransformer(remainder=&#x27;passthrough&#x27;,\n",
       "                  transformers=[(&#x27;num&#x27;,\n",
       "                                 Pipeline(steps=[(&#x27;scaler&#x27;, MinMaxScaler())]),\n",
       "                                 [&#x27;annual_inc&#x27;, &#x27;int_rate&#x27;, &#x27;loan_amnt&#x27;,\n",
       "                                  &#x27;term&#x27;]),\n",
       "                                (&#x27;cat&#x27;,\n",
       "                                 Pipeline(steps=[(&#x27;ordinal&#x27;,\n",
       "                                                  OrdinalEncoder())]),\n",
       "                                 [&#x27;loan_status&#x27;, &#x27;verification_status&#x27;,\n",
       "                                  &#x27;emp_length&#x27;, &#x27;home_ownership&#x27;, &#x27;purpose&#x27;])])</pre><b>In a Jupyter environment, please rerun this cell to show the HTML representation or trust the notebook. <br />On GitHub, the HTML representation is unable to render, please try loading this page with nbviewer.org.</b></div><div class=\"sk-container\" hidden><div class=\"sk-item sk-dashed-wrapped\"><div class=\"sk-label-container\"><div class=\"sk-label sk-toggleable\"><input class=\"sk-toggleable__control sk-hidden--visually\" id=\"sk-estimator-id-22\" type=\"checkbox\" ><label for=\"sk-estimator-id-22\" class=\"sk-toggleable__label sk-toggleable__label-arrow\">ColumnTransformer</label><div class=\"sk-toggleable__content\"><pre>ColumnTransformer(remainder=&#x27;passthrough&#x27;,\n",
       "                  transformers=[(&#x27;num&#x27;,\n",
       "                                 Pipeline(steps=[(&#x27;scaler&#x27;, MinMaxScaler())]),\n",
       "                                 [&#x27;annual_inc&#x27;, &#x27;int_rate&#x27;, &#x27;loan_amnt&#x27;,\n",
       "                                  &#x27;term&#x27;]),\n",
       "                                (&#x27;cat&#x27;,\n",
       "                                 Pipeline(steps=[(&#x27;ordinal&#x27;,\n",
       "                                                  OrdinalEncoder())]),\n",
       "                                 [&#x27;loan_status&#x27;, &#x27;verification_status&#x27;,\n",
       "                                  &#x27;emp_length&#x27;, &#x27;home_ownership&#x27;, &#x27;purpose&#x27;])])</pre></div></div></div><div class=\"sk-parallel\"><div class=\"sk-parallel-item\"><div class=\"sk-item\"><div class=\"sk-label-container\"><div class=\"sk-label sk-toggleable\"><input class=\"sk-toggleable__control sk-hidden--visually\" id=\"sk-estimator-id-23\" type=\"checkbox\" ><label for=\"sk-estimator-id-23\" class=\"sk-toggleable__label sk-toggleable__label-arrow\">num</label><div class=\"sk-toggleable__content\"><pre>[&#x27;annual_inc&#x27;, &#x27;int_rate&#x27;, &#x27;loan_amnt&#x27;, &#x27;term&#x27;]</pre></div></div></div><div class=\"sk-serial\"><div class=\"sk-item\"><div class=\"sk-serial\"><div class=\"sk-item\"><div class=\"sk-estimator sk-toggleable\"><input class=\"sk-toggleable__control sk-hidden--visually\" id=\"sk-estimator-id-24\" type=\"checkbox\" ><label for=\"sk-estimator-id-24\" class=\"sk-toggleable__label sk-toggleable__label-arrow\">MinMaxScaler</label><div class=\"sk-toggleable__content\"><pre>MinMaxScaler()</pre></div></div></div></div></div></div></div></div><div class=\"sk-parallel-item\"><div class=\"sk-item\"><div class=\"sk-label-container\"><div class=\"sk-label sk-toggleable\"><input class=\"sk-toggleable__control sk-hidden--visually\" id=\"sk-estimator-id-25\" type=\"checkbox\" ><label for=\"sk-estimator-id-25\" class=\"sk-toggleable__label sk-toggleable__label-arrow\">cat</label><div class=\"sk-toggleable__content\"><pre>[&#x27;loan_status&#x27;, &#x27;verification_status&#x27;, &#x27;emp_length&#x27;, &#x27;home_ownership&#x27;, &#x27;purpose&#x27;]</pre></div></div></div><div class=\"sk-serial\"><div class=\"sk-item\"><div class=\"sk-serial\"><div class=\"sk-item\"><div class=\"sk-estimator sk-toggleable\"><input class=\"sk-toggleable__control sk-hidden--visually\" id=\"sk-estimator-id-26\" type=\"checkbox\" ><label for=\"sk-estimator-id-26\" class=\"sk-toggleable__label sk-toggleable__label-arrow\">OrdinalEncoder</label><div class=\"sk-toggleable__content\"><pre>OrdinalEncoder()</pre></div></div></div></div></div></div></div></div><div class=\"sk-parallel-item\"><div class=\"sk-item\"><div class=\"sk-label-container\"><div class=\"sk-label sk-toggleable\"><input class=\"sk-toggleable__control sk-hidden--visually\" id=\"sk-estimator-id-27\" type=\"checkbox\" ><label for=\"sk-estimator-id-27\" class=\"sk-toggleable__label sk-toggleable__label-arrow\">remainder</label><div class=\"sk-toggleable__content\"><pre></pre></div></div></div><div class=\"sk-serial\"><div class=\"sk-item\"><div class=\"sk-estimator sk-toggleable\"><input class=\"sk-toggleable__control sk-hidden--visually\" id=\"sk-estimator-id-28\" type=\"checkbox\" ><label for=\"sk-estimator-id-28\" class=\"sk-toggleable__label sk-toggleable__label-arrow\">passthrough</label><div class=\"sk-toggleable__content\"><pre>passthrough</pre></div></div></div></div></div></div></div></div></div></div>"
      ],
      "text/plain": [
       "ColumnTransformer(remainder='passthrough',\n",
       "                  transformers=[('num',\n",
       "                                 Pipeline(steps=[('scaler', MinMaxScaler())]),\n",
       "                                 ['annual_inc', 'int_rate', 'loan_amnt',\n",
       "                                  'term']),\n",
       "                                ('cat',\n",
       "                                 Pipeline(steps=[('ordinal',\n",
       "                                                  OrdinalEncoder())]),\n",
       "                                 ['loan_status', 'verification_status',\n",
       "                                  'emp_length', 'home_ownership', 'purpose'])])"
      ]
     },
     "execution_count": 136,
     "metadata": {},
     "output_type": "execute_result"
    }
   ],
   "source": [
    "numCols = x.select_dtypes(include = ['float64','int64', 'int32']).columns.to_list()\n",
    "catCols = x.select_dtypes(include = ['object']).columns.to_list()\n",
    "numTransformer = Pipeline(steps = [('scaler', MinMaxScaler())])\n",
    "catTransformer = Pipeline(steps = [('ordinal', OrdinalEncoder(handle_unknown = 'error'))])\n",
    "preprocesador = ColumnTransformer(transformers = [\n",
    "    ('num', numTransformer, numCols), \n",
    "    ('cat', catTransformer, catCols)], \n",
    "                                  remainder = 'passthrough')\n",
    "set_config(display = 'diagram')\n",
    "preprocesador"
   ]
  },
  {
   "cell_type": "code",
   "execution_count": 140,
   "id": "98713858",
   "metadata": {},
   "outputs": [
    {
     "data": {
      "text/plain": [
       "array([[9.32634191e-03, 1.07981221e-01, 1.88405797e-01, ...,\n",
       "        5.00000000e+00, 0.00000000e+00, 1.00000000e+00],\n",
       "       [4.21886883e-03, 1.04851330e-01, 6.66666667e-02, ...,\n",
       "        0.00000000e+00, 3.00000000e+00, 8.00000000e+00],\n",
       "       [5.99074037e-03, 7.82472613e-02, 3.27536232e-01, ...,\n",
       "        3.00000000e+00, 3.00000000e+00, 2.00000000e+00],\n",
       "       ...,\n",
       "       [1.22449933e-02, 8.07511737e-01, 5.65217391e-01, ...,\n",
       "        1.00000000e+01, 0.00000000e+00, 2.00000000e+00],\n",
       "       [1.93331465e-02, 7.66301513e-01, 9.94202899e-01, ...,\n",
       "        1.00000000e+01, 3.00000000e+00, 2.00000000e+00],\n",
       "       [2.45033289e-02, 7.66301513e-01, 7.10144928e-01, ...,\n",
       "        1.00000000e+00, 0.00000000e+00, 1.00000000e+00]])"
      ]
     },
     "execution_count": 140,
     "metadata": {},
     "output_type": "execute_result"
    }
   ],
   "source": [
    "Xpre = preprocesador.fit_transform(x)\n",
    "Xpre"
   ]
  },
  {
   "cell_type": "code",
   "execution_count": 141,
   "id": "49229c50",
   "metadata": {},
   "outputs": [
    {
     "data": {
      "text/html": [
       "<div>\n",
       "<style scoped>\n",
       "    .dataframe tbody tr th:only-of-type {\n",
       "        vertical-align: middle;\n",
       "    }\n",
       "\n",
       "    .dataframe tbody tr th {\n",
       "        vertical-align: top;\n",
       "    }\n",
       "\n",
       "    .dataframe thead th {\n",
       "        text-align: right;\n",
       "    }\n",
       "</style>\n",
       "<table border=\"1\" class=\"dataframe\">\n",
       "  <thead>\n",
       "    <tr style=\"text-align: right;\">\n",
       "      <th></th>\n",
       "      <th>annual_inc</th>\n",
       "      <th>int_rate</th>\n",
       "      <th>loan_amnt</th>\n",
       "      <th>term</th>\n",
       "      <th>loan_status</th>\n",
       "      <th>verification_status</th>\n",
       "      <th>emp_length</th>\n",
       "      <th>home_ownership</th>\n",
       "      <th>purpose</th>\n",
       "    </tr>\n",
       "  </thead>\n",
       "  <tbody>\n",
       "    <tr>\n",
       "      <th>0</th>\n",
       "      <td>0.009326</td>\n",
       "      <td>0.107981</td>\n",
       "      <td>0.188406</td>\n",
       "      <td>0.0</td>\n",
       "      <td>1.0</td>\n",
       "      <td>0.0</td>\n",
       "      <td>5.0</td>\n",
       "      <td>0.0</td>\n",
       "      <td>1.0</td>\n",
       "    </tr>\n",
       "    <tr>\n",
       "      <th>1</th>\n",
       "      <td>0.004219</td>\n",
       "      <td>0.104851</td>\n",
       "      <td>0.066667</td>\n",
       "      <td>0.0</td>\n",
       "      <td>1.0</td>\n",
       "      <td>0.0</td>\n",
       "      <td>0.0</td>\n",
       "      <td>3.0</td>\n",
       "      <td>8.0</td>\n",
       "    </tr>\n",
       "    <tr>\n",
       "      <th>2</th>\n",
       "      <td>0.005991</td>\n",
       "      <td>0.078247</td>\n",
       "      <td>0.327536</td>\n",
       "      <td>0.0</td>\n",
       "      <td>1.0</td>\n",
       "      <td>2.0</td>\n",
       "      <td>3.0</td>\n",
       "      <td>3.0</td>\n",
       "      <td>2.0</td>\n",
       "    </tr>\n",
       "    <tr>\n",
       "      <th>3</th>\n",
       "      <td>0.004656</td>\n",
       "      <td>0.107981</td>\n",
       "      <td>0.028986</td>\n",
       "      <td>0.0</td>\n",
       "      <td>1.0</td>\n",
       "      <td>0.0</td>\n",
       "      <td>2.0</td>\n",
       "      <td>3.0</td>\n",
       "      <td>6.0</td>\n",
       "    </tr>\n",
       "    <tr>\n",
       "      <th>4</th>\n",
       "      <td>0.003723</td>\n",
       "      <td>0.107981</td>\n",
       "      <td>0.275362</td>\n",
       "      <td>0.0</td>\n",
       "      <td>1.0</td>\n",
       "      <td>0.0</td>\n",
       "      <td>0.0</td>\n",
       "      <td>3.0</td>\n",
       "      <td>2.0</td>\n",
       "    </tr>\n",
       "    <tr>\n",
       "      <th>...</th>\n",
       "      <td>...</td>\n",
       "      <td>...</td>\n",
       "      <td>...</td>\n",
       "      <td>...</td>\n",
       "      <td>...</td>\n",
       "      <td>...</td>\n",
       "      <td>...</td>\n",
       "      <td>...</td>\n",
       "      <td>...</td>\n",
       "    </tr>\n",
       "    <tr>\n",
       "      <th>81874</th>\n",
       "      <td>0.026004</td>\n",
       "      <td>0.909233</td>\n",
       "      <td>0.893478</td>\n",
       "      <td>1.0</td>\n",
       "      <td>1.0</td>\n",
       "      <td>2.0</td>\n",
       "      <td>10.0</td>\n",
       "      <td>3.0</td>\n",
       "      <td>2.0</td>\n",
       "    </tr>\n",
       "    <tr>\n",
       "      <th>81875</th>\n",
       "      <td>0.008780</td>\n",
       "      <td>0.804903</td>\n",
       "      <td>0.449275</td>\n",
       "      <td>1.0</td>\n",
       "      <td>1.0</td>\n",
       "      <td>2.0</td>\n",
       "      <td>1.0</td>\n",
       "      <td>0.0</td>\n",
       "      <td>2.0</td>\n",
       "    </tr>\n",
       "    <tr>\n",
       "      <th>81876</th>\n",
       "      <td>0.012245</td>\n",
       "      <td>0.807512</td>\n",
       "      <td>0.565217</td>\n",
       "      <td>1.0</td>\n",
       "      <td>1.0</td>\n",
       "      <td>1.0</td>\n",
       "      <td>10.0</td>\n",
       "      <td>0.0</td>\n",
       "      <td>2.0</td>\n",
       "    </tr>\n",
       "    <tr>\n",
       "      <th>81877</th>\n",
       "      <td>0.019333</td>\n",
       "      <td>0.766302</td>\n",
       "      <td>0.994203</td>\n",
       "      <td>1.0</td>\n",
       "      <td>1.0</td>\n",
       "      <td>1.0</td>\n",
       "      <td>10.0</td>\n",
       "      <td>3.0</td>\n",
       "      <td>2.0</td>\n",
       "    </tr>\n",
       "    <tr>\n",
       "      <th>81878</th>\n",
       "      <td>0.024503</td>\n",
       "      <td>0.766302</td>\n",
       "      <td>0.710145</td>\n",
       "      <td>1.0</td>\n",
       "      <td>1.0</td>\n",
       "      <td>1.0</td>\n",
       "      <td>1.0</td>\n",
       "      <td>0.0</td>\n",
       "      <td>1.0</td>\n",
       "    </tr>\n",
       "  </tbody>\n",
       "</table>\n",
       "<p>81879 rows × 9 columns</p>\n",
       "</div>"
      ],
      "text/plain": [
       "       annual_inc  int_rate  loan_amnt  term  loan_status  \\\n",
       "0        0.009326  0.107981   0.188406   0.0          1.0   \n",
       "1        0.004219  0.104851   0.066667   0.0          1.0   \n",
       "2        0.005991  0.078247   0.327536   0.0          1.0   \n",
       "3        0.004656  0.107981   0.028986   0.0          1.0   \n",
       "4        0.003723  0.107981   0.275362   0.0          1.0   \n",
       "...           ...       ...        ...   ...          ...   \n",
       "81874    0.026004  0.909233   0.893478   1.0          1.0   \n",
       "81875    0.008780  0.804903   0.449275   1.0          1.0   \n",
       "81876    0.012245  0.807512   0.565217   1.0          1.0   \n",
       "81877    0.019333  0.766302   0.994203   1.0          1.0   \n",
       "81878    0.024503  0.766302   0.710145   1.0          1.0   \n",
       "\n",
       "       verification_status  emp_length  home_ownership  purpose  \n",
       "0                      0.0         5.0             0.0      1.0  \n",
       "1                      0.0         0.0             3.0      8.0  \n",
       "2                      2.0         3.0             3.0      2.0  \n",
       "3                      0.0         2.0             3.0      6.0  \n",
       "4                      0.0         0.0             3.0      2.0  \n",
       "...                    ...         ...             ...      ...  \n",
       "81874                  2.0        10.0             3.0      2.0  \n",
       "81875                  2.0         1.0             0.0      2.0  \n",
       "81876                  1.0        10.0             0.0      2.0  \n",
       "81877                  1.0        10.0             3.0      2.0  \n",
       "81878                  1.0         1.0             0.0      1.0  \n",
       "\n",
       "[81879 rows x 9 columns]"
      ]
     },
     "execution_count": 141,
     "metadata": {},
     "output_type": "execute_result"
    }
   ],
   "source": [
    "codCat = preprocesador.named_transformers_['cat']['ordinal'].get_feature_names_out(catCols)\n",
    "labels = np.concatenate([numCols, codCat])\n",
    "Xpro = pd.DataFrame(Xpre, columns = labels)\n",
    "Xpro"
   ]
  },
  {
   "cell_type": "markdown",
   "id": "40bc3ae7",
   "metadata": {},
   "source": [
    "## Regresión logísitca con una variable"
   ]
  },
  {
   "cell_type": "code",
   "execution_count": 256,
   "id": "c8f48725",
   "metadata": {},
   "outputs": [],
   "source": [
    "X_train, X_test, Y_train, Y_test = train_test_split(Xpro[['int_rate']], y, train_size = 0.7, random_state = 123)"
   ]
  },
  {
   "cell_type": "code",
   "execution_count": 257,
   "id": "c89f7aa3",
   "metadata": {
    "scrolled": true
   },
   "outputs": [
    {
     "data": {
      "text/html": [
       "<style>#sk-container-id-17 {color: black;}#sk-container-id-17 pre{padding: 0;}#sk-container-id-17 div.sk-toggleable {background-color: white;}#sk-container-id-17 label.sk-toggleable__label {cursor: pointer;display: block;width: 100%;margin-bottom: 0;padding: 0.3em;box-sizing: border-box;text-align: center;}#sk-container-id-17 label.sk-toggleable__label-arrow:before {content: \"▸\";float: left;margin-right: 0.25em;color: #696969;}#sk-container-id-17 label.sk-toggleable__label-arrow:hover:before {color: black;}#sk-container-id-17 div.sk-estimator:hover label.sk-toggleable__label-arrow:before {color: black;}#sk-container-id-17 div.sk-toggleable__content {max-height: 0;max-width: 0;overflow: hidden;text-align: left;background-color: #f0f8ff;}#sk-container-id-17 div.sk-toggleable__content pre {margin: 0.2em;color: black;border-radius: 0.25em;background-color: #f0f8ff;}#sk-container-id-17 input.sk-toggleable__control:checked~div.sk-toggleable__content {max-height: 200px;max-width: 100%;overflow: auto;}#sk-container-id-17 input.sk-toggleable__control:checked~label.sk-toggleable__label-arrow:before {content: \"▾\";}#sk-container-id-17 div.sk-estimator input.sk-toggleable__control:checked~label.sk-toggleable__label {background-color: #d4ebff;}#sk-container-id-17 div.sk-label input.sk-toggleable__control:checked~label.sk-toggleable__label {background-color: #d4ebff;}#sk-container-id-17 input.sk-hidden--visually {border: 0;clip: rect(1px 1px 1px 1px);clip: rect(1px, 1px, 1px, 1px);height: 1px;margin: -1px;overflow: hidden;padding: 0;position: absolute;width: 1px;}#sk-container-id-17 div.sk-estimator {font-family: monospace;background-color: #f0f8ff;border: 1px dotted black;border-radius: 0.25em;box-sizing: border-box;margin-bottom: 0.5em;}#sk-container-id-17 div.sk-estimator:hover {background-color: #d4ebff;}#sk-container-id-17 div.sk-parallel-item::after {content: \"\";width: 100%;border-bottom: 1px solid gray;flex-grow: 1;}#sk-container-id-17 div.sk-label:hover label.sk-toggleable__label {background-color: #d4ebff;}#sk-container-id-17 div.sk-serial::before {content: \"\";position: absolute;border-left: 1px solid gray;box-sizing: border-box;top: 0;bottom: 0;left: 50%;z-index: 0;}#sk-container-id-17 div.sk-serial {display: flex;flex-direction: column;align-items: center;background-color: white;padding-right: 0.2em;padding-left: 0.2em;position: relative;}#sk-container-id-17 div.sk-item {position: relative;z-index: 1;}#sk-container-id-17 div.sk-parallel {display: flex;align-items: stretch;justify-content: center;background-color: white;position: relative;}#sk-container-id-17 div.sk-item::before, #sk-container-id-17 div.sk-parallel-item::before {content: \"\";position: absolute;border-left: 1px solid gray;box-sizing: border-box;top: 0;bottom: 0;left: 50%;z-index: -1;}#sk-container-id-17 div.sk-parallel-item {display: flex;flex-direction: column;z-index: 1;position: relative;background-color: white;}#sk-container-id-17 div.sk-parallel-item:first-child::after {align-self: flex-end;width: 50%;}#sk-container-id-17 div.sk-parallel-item:last-child::after {align-self: flex-start;width: 50%;}#sk-container-id-17 div.sk-parallel-item:only-child::after {width: 0;}#sk-container-id-17 div.sk-dashed-wrapped {border: 1px dashed gray;margin: 0 0.4em 0.5em 0.4em;box-sizing: border-box;padding-bottom: 0.4em;background-color: white;}#sk-container-id-17 div.sk-label label {font-family: monospace;font-weight: bold;display: inline-block;line-height: 1.2em;}#sk-container-id-17 div.sk-label-container {text-align: center;}#sk-container-id-17 div.sk-container {/* jupyter's `normalize.less` sets `[hidden] { display: none; }` but bootstrap.min.css set `[hidden] { display: none !important; }` so we also need the `!important` here to be able to override the default hidden behavior on the sphinx rendered scikit-learn.org. See: https://github.com/scikit-learn/scikit-learn/issues/21755 */display: inline-block !important;position: relative;}#sk-container-id-17 div.sk-text-repr-fallback {display: none;}</style><div id=\"sk-container-id-17\" class=\"sk-top-container\"><div class=\"sk-text-repr-fallback\"><pre>LogisticRegression()</pre><b>In a Jupyter environment, please rerun this cell to show the HTML representation or trust the notebook. <br />On GitHub, the HTML representation is unable to render, please try loading this page with nbviewer.org.</b></div><div class=\"sk-container\" hidden><div class=\"sk-item\"><div class=\"sk-estimator sk-toggleable\"><input class=\"sk-toggleable__control sk-hidden--visually\" id=\"sk-estimator-id-41\" type=\"checkbox\" checked><label for=\"sk-estimator-id-41\" class=\"sk-toggleable__label sk-toggleable__label-arrow\">LogisticRegression</label><div class=\"sk-toggleable__content\"><pre>LogisticRegression()</pre></div></div></div></div></div>"
      ],
      "text/plain": [
       "LogisticRegression()"
      ]
     },
     "execution_count": 257,
     "metadata": {},
     "output_type": "execute_result"
    }
   ],
   "source": [
    "# Regresión logística\n",
    "modelo_1 = LogisticRegression()\n",
    "modelo_1.fit(X_train, Y_train)"
   ]
  },
  {
   "cell_type": "code",
   "execution_count": 258,
   "id": "ae1d3639",
   "metadata": {
    "scrolled": true
   },
   "outputs": [
    {
     "data": {
      "text/plain": [
       "array([ 24.08320006,  18.03694675,   9.65766233,   0.94108067,\n",
       "        -7.50323609, -17.50734402, -27.7083097 ])"
      ]
     },
     "execution_count": 258,
     "metadata": {},
     "output_type": "execute_result"
    }
   ],
   "source": [
    "# Traer información\n",
    "modelo_1.intercept_"
   ]
  },
  {
   "cell_type": "code",
   "execution_count": 259,
   "id": "1ad5e451",
   "metadata": {
    "scrolled": true
   },
   "outputs": [
    {
     "data": {
      "text/plain": [
       "array([[-64.99203395],\n",
       "       [-34.88437645],\n",
       "       [-11.64596752],\n",
       "       [  6.59960005],\n",
       "       [ 21.00442284],\n",
       "       [ 35.47455751],\n",
       "       [ 48.44379752]])"
      ]
     },
     "execution_count": 259,
     "metadata": {},
     "output_type": "execute_result"
    }
   ],
   "source": [
    "modelo_1.coef_"
   ]
  },
  {
   "cell_type": "code",
   "execution_count": 260,
   "id": "b7ecf785",
   "metadata": {},
   "outputs": [
    {
     "name": "stdout",
     "output_type": "stream",
     "text": [
      "0.6706970252115502\n"
     ]
    },
    {
     "data": {
      "text/plain": [
       "<function matplotlib.pyplot.show(close=None, block=None)>"
      ]
     },
     "execution_count": 260,
     "metadata": {},
     "output_type": "execute_result"
    },
    {
     "data": {
      "image/png": "[encoded data removed]",
      "text/plain": [
       "<Figure size 640x480 with 2 Axes>"
      ]
     },
     "metadata": {},
     "output_type": "display_data"
    }
   ],
   "source": [
    "# Modelo 1: entrenamiento\n",
    "\n",
    "pred_train_1 = modelo_1.predict(X_train)\n",
    "pred_test_1 = modelo_1.predict(X_test)\n",
    "\n",
    "acc_train_1 = accuracy_score(Y_train, pred_train_1)\n",
    "print(acc_train_1)\n",
    "\n",
    "mat_train_1 = confusion_matrix(Y_train, pred_train_1)\n",
    "sb.heatmap(mat_train_1, annot = True, fmt = 'd')\n",
    "plt.show"
   ]
  },
  {
   "cell_type": "code",
   "execution_count": 261,
   "id": "98d4bc27",
   "metadata": {},
   "outputs": [
    {
     "name": "stdout",
     "output_type": "stream",
     "text": [
      "0.6764777723497801\n"
     ]
    },
    {
     "data": {
      "text/plain": [
       "<function matplotlib.pyplot.show(close=None, block=None)>"
      ]
     },
     "execution_count": 261,
     "metadata": {},
     "output_type": "execute_result"
    },
    {
     "data": {
      "image/png": "[encoded data removed]",
      "text/plain": [
       "<Figure size 640x480 with 2 Axes>"
      ]
     },
     "metadata": {},
     "output_type": "display_data"
    }
   ],
   "source": [
    "# Modelo 1: prueba\n",
    "\n",
    "acc_test_1 = accuracy_score(Y_test, pred_test_1)\n",
    "print(acc_test_1)\n",
    "\n",
    "mat_test_1 = confusion_matrix(Y_test, pred_test_1)\n",
    "sb.heatmap(mat_test_1, annot = True, fmt = 'd')\n",
    "plt.show"
   ]
  },
  {
   "cell_type": "markdown",
   "id": "54fb6f7c",
   "metadata": {},
   "source": [
    "## Regresión logística con todas las variables"
   ]
  },
  {
   "cell_type": "code",
   "execution_count": 262,
   "id": "183768d6",
   "metadata": {},
   "outputs": [],
   "source": [
    "X2_train, X2_test, Y2_train, Y2_test = train_test_split(Xpro, y, train_size = 0.7, random_state = 123)"
   ]
  },
  {
   "cell_type": "code",
   "execution_count": 263,
   "id": "be847e47",
   "metadata": {},
   "outputs": [
    {
     "data": {
      "text/html": [
       "<style>#sk-container-id-18 {color: black;}#sk-container-id-18 pre{padding: 0;}#sk-container-id-18 div.sk-toggleable {background-color: white;}#sk-container-id-18 label.sk-toggleable__label {cursor: pointer;display: block;width: 100%;margin-bottom: 0;padding: 0.3em;box-sizing: border-box;text-align: center;}#sk-container-id-18 label.sk-toggleable__label-arrow:before {content: \"▸\";float: left;margin-right: 0.25em;color: #696969;}#sk-container-id-18 label.sk-toggleable__label-arrow:hover:before {color: black;}#sk-container-id-18 div.sk-estimator:hover label.sk-toggleable__label-arrow:before {color: black;}#sk-container-id-18 div.sk-toggleable__content {max-height: 0;max-width: 0;overflow: hidden;text-align: left;background-color: #f0f8ff;}#sk-container-id-18 div.sk-toggleable__content pre {margin: 0.2em;color: black;border-radius: 0.25em;background-color: #f0f8ff;}#sk-container-id-18 input.sk-toggleable__control:checked~div.sk-toggleable__content {max-height: 200px;max-width: 100%;overflow: auto;}#sk-container-id-18 input.sk-toggleable__control:checked~label.sk-toggleable__label-arrow:before {content: \"▾\";}#sk-container-id-18 div.sk-estimator input.sk-toggleable__control:checked~label.sk-toggleable__label {background-color: #d4ebff;}#sk-container-id-18 div.sk-label input.sk-toggleable__control:checked~label.sk-toggleable__label {background-color: #d4ebff;}#sk-container-id-18 input.sk-hidden--visually {border: 0;clip: rect(1px 1px 1px 1px);clip: rect(1px, 1px, 1px, 1px);height: 1px;margin: -1px;overflow: hidden;padding: 0;position: absolute;width: 1px;}#sk-container-id-18 div.sk-estimator {font-family: monospace;background-color: #f0f8ff;border: 1px dotted black;border-radius: 0.25em;box-sizing: border-box;margin-bottom: 0.5em;}#sk-container-id-18 div.sk-estimator:hover {background-color: #d4ebff;}#sk-container-id-18 div.sk-parallel-item::after {content: \"\";width: 100%;border-bottom: 1px solid gray;flex-grow: 1;}#sk-container-id-18 div.sk-label:hover label.sk-toggleable__label {background-color: #d4ebff;}#sk-container-id-18 div.sk-serial::before {content: \"\";position: absolute;border-left: 1px solid gray;box-sizing: border-box;top: 0;bottom: 0;left: 50%;z-index: 0;}#sk-container-id-18 div.sk-serial {display: flex;flex-direction: column;align-items: center;background-color: white;padding-right: 0.2em;padding-left: 0.2em;position: relative;}#sk-container-id-18 div.sk-item {position: relative;z-index: 1;}#sk-container-id-18 div.sk-parallel {display: flex;align-items: stretch;justify-content: center;background-color: white;position: relative;}#sk-container-id-18 div.sk-item::before, #sk-container-id-18 div.sk-parallel-item::before {content: \"\";position: absolute;border-left: 1px solid gray;box-sizing: border-box;top: 0;bottom: 0;left: 50%;z-index: -1;}#sk-container-id-18 div.sk-parallel-item {display: flex;flex-direction: column;z-index: 1;position: relative;background-color: white;}#sk-container-id-18 div.sk-parallel-item:first-child::after {align-self: flex-end;width: 50%;}#sk-container-id-18 div.sk-parallel-item:last-child::after {align-self: flex-start;width: 50%;}#sk-container-id-18 div.sk-parallel-item:only-child::after {width: 0;}#sk-container-id-18 div.sk-dashed-wrapped {border: 1px dashed gray;margin: 0 0.4em 0.5em 0.4em;box-sizing: border-box;padding-bottom: 0.4em;background-color: white;}#sk-container-id-18 div.sk-label label {font-family: monospace;font-weight: bold;display: inline-block;line-height: 1.2em;}#sk-container-id-18 div.sk-label-container {text-align: center;}#sk-container-id-18 div.sk-container {/* jupyter's `normalize.less` sets `[hidden] { display: none; }` but bootstrap.min.css set `[hidden] { display: none !important; }` so we also need the `!important` here to be able to override the default hidden behavior on the sphinx rendered scikit-learn.org. See: https://github.com/scikit-learn/scikit-learn/issues/21755 */display: inline-block !important;position: relative;}#sk-container-id-18 div.sk-text-repr-fallback {display: none;}</style><div id=\"sk-container-id-18\" class=\"sk-top-container\"><div class=\"sk-text-repr-fallback\"><pre>LogisticRegression()</pre><b>In a Jupyter environment, please rerun this cell to show the HTML representation or trust the notebook. <br />On GitHub, the HTML representation is unable to render, please try loading this page with nbviewer.org.</b></div><div class=\"sk-container\" hidden><div class=\"sk-item\"><div class=\"sk-estimator sk-toggleable\"><input class=\"sk-toggleable__control sk-hidden--visually\" id=\"sk-estimator-id-42\" type=\"checkbox\" checked><label for=\"sk-estimator-id-42\" class=\"sk-toggleable__label sk-toggleable__label-arrow\">LogisticRegression</label><div class=\"sk-toggleable__content\"><pre>LogisticRegression()</pre></div></div></div></div></div>"
      ],
      "text/plain": [
       "LogisticRegression()"
      ]
     },
     "execution_count": 263,
     "metadata": {},
     "output_type": "execute_result"
    }
   ],
   "source": [
    "# Regresión logística\n",
    "modelo_2 = LogisticRegression()\n",
    "modelo_2.fit(X2_train, Y2_train)"
   ]
  },
  {
   "cell_type": "code",
   "execution_count": 264,
   "id": "1de42bc7",
   "metadata": {},
   "outputs": [
    {
     "data": {
      "text/plain": [
       "array([ 10.32777498,  10.83885797,   5.84816796,   0.87563281,\n",
       "        -3.30064046,  -8.78030522, -15.80948803])"
      ]
     },
     "execution_count": 264,
     "metadata": {},
     "output_type": "execute_result"
    }
   ],
   "source": [
    "modelo_2.intercept_"
   ]
  },
  {
   "cell_type": "code",
   "execution_count": 265,
   "id": "d9fa8714",
   "metadata": {},
   "outputs": [
    {
     "data": {
      "text/plain": [
       "array([[ 4.09568940e-02, -4.34636871e+01, -3.88545200e+00,\n",
       "        -1.01805956e+01,  5.20755987e+00,  3.23286419e-01,\n",
       "         1.43386925e-01, -2.05303192e-01,  1.33867578e-01],\n",
       "       [-1.73837719e-02, -1.88112832e+01, -1.21413029e+00,\n",
       "         1.81727659e+00, -5.94793278e-01,  2.26226906e-01,\n",
       "         2.34865954e-02, -5.37289430e-02,  3.95401204e-03],\n",
       "       [ 5.16004163e-02, -5.24279608e+00, -3.03635611e-01,\n",
       "         1.91197077e+00, -7.51899686e-01, -4.71470841e-02,\n",
       "         2.82288110e-02,  4.94527189e-02, -2.41907756e-02],\n",
       "       [-9.93903932e-02,  4.43572236e+00,  1.23184264e+00,\n",
       "         1.73571758e+00, -6.66907745e-01, -1.59489506e-01,\n",
       "        -1.50652236e-02,  1.59907805e-01, -4.51618579e-02],\n",
       "       [-1.00293075e-02,  1.13152425e+01,  1.49266682e+00,\n",
       "         2.09743005e+00, -9.47677436e-01, -3.06799156e-02,\n",
       "        -3.19756640e-02,  1.32042494e-01, -4.60290180e-02],\n",
       "       [-7.14890392e-03,  2.10023030e+01,  1.43242497e+00,\n",
       "         1.68210671e+00, -1.11748329e+00, -2.17733450e-01,\n",
       "        -7.66151187e-02, -2.74957638e-02, -2.40782874e-02],\n",
       "       [ 4.13950662e-02,  3.07644986e+01,  1.24628348e+00,\n",
       "         9.36093921e-01, -1.12879844e+00, -9.44633685e-02,\n",
       "        -7.14463249e-02, -5.48751188e-02,  1.63834867e-03]])"
      ]
     },
     "execution_count": 265,
     "metadata": {},
     "output_type": "execute_result"
    }
   ],
   "source": [
    "modelo_2.coef_"
   ]
  },
  {
   "cell_type": "code",
   "execution_count": 266,
   "id": "af356415",
   "metadata": {},
   "outputs": [
    {
     "name": "stdout",
     "output_type": "stream",
     "text": [
      "0.651592078862427\n"
     ]
    },
    {
     "data": {
      "text/plain": [
       "<function matplotlib.pyplot.show(close=None, block=None)>"
      ]
     },
     "execution_count": 266,
     "metadata": {},
     "output_type": "execute_result"
    },
    {
     "data": {
      "image/png": "[encoded data removed]",
      "text/plain": [
       "<Figure size 640x480 with 2 Axes>"
      ]
     },
     "metadata": {},
     "output_type": "display_data"
    }
   ],
   "source": [
    "# Modelo 2: entrenamiento\n",
    "\n",
    "pred_train_2 = modelo_2.predict(X2_train)\n",
    "pred_test_2 = modelo_2.predict(X2_test)\n",
    "\n",
    "acc_train_2 = accuracy_score(Y2_train, pred_train_2)\n",
    "print(acc_train_2)\n",
    "\n",
    "mat_train_2 = confusion_matrix(Y2_train, pred_train_2)\n",
    "sb.heatmap(mat_train_2, annot = True, fmt = 'd')\n",
    "plt.show"
   ]
  },
  {
   "cell_type": "code",
   "execution_count": 267,
   "id": "96e4a557",
   "metadata": {},
   "outputs": [
    {
     "name": "stdout",
     "output_type": "stream",
     "text": [
      "0.6577511805894806\n"
     ]
    },
    {
     "data": {
      "text/plain": [
       "<function matplotlib.pyplot.show(close=None, block=None)>"
      ]
     },
     "execution_count": 267,
     "metadata": {},
     "output_type": "execute_result"
    },
    {
     "data": {
      "image/png": "[encoded data removed]",
      "text/plain": [
       "<Figure size 640x480 with 2 Axes>"
      ]
     },
     "metadata": {},
     "output_type": "display_data"
    }
   ],
   "source": [
    "# Modelo 2: prueba\n",
    "\n",
    "acc_test_2 = accuracy_score(Y2_test, pred_test_2)\n",
    "print(acc_test_2)\n",
    "\n",
    "mat_test_2 = confusion_matrix(Y2_test, pred_test_2)\n",
    "sb.heatmap(mat_test_2, annot = True, fmt = 'd')\n",
    "plt.show"
   ]
  },
  {
   "cell_type": "markdown",
   "id": "d7f0e58b",
   "metadata": {},
   "source": [
    "## Maquina de soporte vectorial"
   ]
  },
  {
   "cell_type": "code",
   "execution_count": 288,
   "id": "f5c9337c",
   "metadata": {},
   "outputs": [
    {
     "data": {
      "text/html": [
       "<style>#sk-container-id-24 {color: black;}#sk-container-id-24 pre{padding: 0;}#sk-container-id-24 div.sk-toggleable {background-color: white;}#sk-container-id-24 label.sk-toggleable__label {cursor: pointer;display: block;width: 100%;margin-bottom: 0;padding: 0.3em;box-sizing: border-box;text-align: center;}#sk-container-id-24 label.sk-toggleable__label-arrow:before {content: \"▸\";float: left;margin-right: 0.25em;color: #696969;}#sk-container-id-24 label.sk-toggleable__label-arrow:hover:before {color: black;}#sk-container-id-24 div.sk-estimator:hover label.sk-toggleable__label-arrow:before {color: black;}#sk-container-id-24 div.sk-toggleable__content {max-height: 0;max-width: 0;overflow: hidden;text-align: left;background-color: #f0f8ff;}#sk-container-id-24 div.sk-toggleable__content pre {margin: 0.2em;color: black;border-radius: 0.25em;background-color: #f0f8ff;}#sk-container-id-24 input.sk-toggleable__control:checked~div.sk-toggleable__content {max-height: 200px;max-width: 100%;overflow: auto;}#sk-container-id-24 input.sk-toggleable__control:checked~label.sk-toggleable__label-arrow:before {content: \"▾\";}#sk-container-id-24 div.sk-estimator input.sk-toggleable__control:checked~label.sk-toggleable__label {background-color: #d4ebff;}#sk-container-id-24 div.sk-label input.sk-toggleable__control:checked~label.sk-toggleable__label {background-color: #d4ebff;}#sk-container-id-24 input.sk-hidden--visually {border: 0;clip: rect(1px 1px 1px 1px);clip: rect(1px, 1px, 1px, 1px);height: 1px;margin: -1px;overflow: hidden;padding: 0;position: absolute;width: 1px;}#sk-container-id-24 div.sk-estimator {font-family: monospace;background-color: #f0f8ff;border: 1px dotted black;border-radius: 0.25em;box-sizing: border-box;margin-bottom: 0.5em;}#sk-container-id-24 div.sk-estimator:hover {background-color: #d4ebff;}#sk-container-id-24 div.sk-parallel-item::after {content: \"\";width: 100%;border-bottom: 1px solid gray;flex-grow: 1;}#sk-container-id-24 div.sk-label:hover label.sk-toggleable__label {background-color: #d4ebff;}#sk-container-id-24 div.sk-serial::before {content: \"\";position: absolute;border-left: 1px solid gray;box-sizing: border-box;top: 0;bottom: 0;left: 50%;z-index: 0;}#sk-container-id-24 div.sk-serial {display: flex;flex-direction: column;align-items: center;background-color: white;padding-right: 0.2em;padding-left: 0.2em;position: relative;}#sk-container-id-24 div.sk-item {position: relative;z-index: 1;}#sk-container-id-24 div.sk-parallel {display: flex;align-items: stretch;justify-content: center;background-color: white;position: relative;}#sk-container-id-24 div.sk-item::before, #sk-container-id-24 div.sk-parallel-item::before {content: \"\";position: absolute;border-left: 1px solid gray;box-sizing: border-box;top: 0;bottom: 0;left: 50%;z-index: -1;}#sk-container-id-24 div.sk-parallel-item {display: flex;flex-direction: column;z-index: 1;position: relative;background-color: white;}#sk-container-id-24 div.sk-parallel-item:first-child::after {align-self: flex-end;width: 50%;}#sk-container-id-24 div.sk-parallel-item:last-child::after {align-self: flex-start;width: 50%;}#sk-container-id-24 div.sk-parallel-item:only-child::after {width: 0;}#sk-container-id-24 div.sk-dashed-wrapped {border: 1px dashed gray;margin: 0 0.4em 0.5em 0.4em;box-sizing: border-box;padding-bottom: 0.4em;background-color: white;}#sk-container-id-24 div.sk-label label {font-family: monospace;font-weight: bold;display: inline-block;line-height: 1.2em;}#sk-container-id-24 div.sk-label-container {text-align: center;}#sk-container-id-24 div.sk-container {/* jupyter's `normalize.less` sets `[hidden] { display: none; }` but bootstrap.min.css set `[hidden] { display: none !important; }` so we also need the `!important` here to be able to override the default hidden behavior on the sphinx rendered scikit-learn.org. See: https://github.com/scikit-learn/scikit-learn/issues/21755 */display: inline-block !important;position: relative;}#sk-container-id-24 div.sk-text-repr-fallback {display: none;}</style><div id=\"sk-container-id-24\" class=\"sk-top-container\"><div class=\"sk-text-repr-fallback\"><pre>SVC()</pre><b>In a Jupyter environment, please rerun this cell to show the HTML representation or trust the notebook. <br />On GitHub, the HTML representation is unable to render, please try loading this page with nbviewer.org.</b></div><div class=\"sk-container\" hidden><div class=\"sk-item\"><div class=\"sk-estimator sk-toggleable\"><input class=\"sk-toggleable__control sk-hidden--visually\" id=\"sk-estimator-id-48\" type=\"checkbox\" checked><label for=\"sk-estimator-id-48\" class=\"sk-toggleable__label sk-toggleable__label-arrow\">SVC</label><div class=\"sk-toggleable__content\"><pre>SVC()</pre></div></div></div></div></div>"
      ],
      "text/plain": [
       "SVC()"
      ]
     },
     "execution_count": 288,
     "metadata": {},
     "output_type": "execute_result"
    }
   ],
   "source": [
    "X3_train, X3_test, Y3_train, Y3_test = train_test_split(Xpro[['int_rate','term','loan_amnt']], y, train_size = 0.7, random_state = 123)\n",
    "modelo_3 = SVC()\n",
    "modelo_3.fit(X3_train, Y3_train)"
   ]
  },
  {
   "cell_type": "code",
   "execution_count": 289,
   "id": "b54f4474",
   "metadata": {},
   "outputs": [
    {
     "data": {
      "text/plain": [
       "1.0"
      ]
     },
     "execution_count": 289,
     "metadata": {},
     "output_type": "execute_result"
    }
   ],
   "source": [
    "modelo_3.C"
   ]
  },
  {
   "cell_type": "markdown",
   "id": "b093d69c",
   "metadata": {},
   "source": [
    "Entrenamiento Modelo 3"
   ]
  },
  {
   "cell_type": "code",
   "execution_count": 290,
   "id": "1c0b224b",
   "metadata": {},
   "outputs": [
    {
     "name": "stdout",
     "output_type": "stream",
     "text": [
      "0.7181715083311524\n"
     ]
    },
    {
     "data": {
      "text/plain": [
       "<function matplotlib.pyplot.show(close=None, block=None)>"
      ]
     },
     "execution_count": 290,
     "metadata": {},
     "output_type": "execute_result"
    },
    {
     "data": {
      "image/png": "[encoded data removed]",
      "text/plain": [
       "<Figure size 640x480 with 2 Axes>"
      ]
     },
     "metadata": {},
     "output_type": "display_data"
    }
   ],
   "source": [
    "pred_train_3 = modelo_3.predict(X3_train)\n",
    "pred_test_3 = modelo_3.predict(X3_test)\n",
    "\n",
    "acc_train_3 = accuracy_score(Y3_train, pred_train_3)\n",
    "print(acc_train_3)\n",
    "\n",
    "mat_train_3 = confusion_matrix(Y3_train, pred_train_3)\n",
    "sb.heatmap(mat_train_3, annot = True, fmt = 'd')\n",
    "plt.show"
   ]
  },
  {
   "cell_type": "markdown",
   "id": "aa2854de",
   "metadata": {},
   "source": [
    "Prueba Modelo 3"
   ]
  },
  {
   "cell_type": "code",
   "execution_count": 291,
   "id": "1a6ca2cf",
   "metadata": {},
   "outputs": [
    {
     "name": "stdout",
     "output_type": "stream",
     "text": [
      "0.7241084513922814\n"
     ]
    },
    {
     "data": {
      "text/plain": [
       "<function matplotlib.pyplot.show(close=None, block=None)>"
      ]
     },
     "execution_count": 291,
     "metadata": {},
     "output_type": "execute_result"
    },
    {
     "data": {
      "image/png": "[encoded data removed]",
      "text/plain": [
       "<Figure size 640x480 with 2 Axes>"
      ]
     },
     "metadata": {},
     "output_type": "display_data"
    }
   ],
   "source": [
    "acc_test_3 = accuracy_score(Y3_test, pred_test_3)\n",
    "print(acc_test_3)\n",
    "\n",
    "mat_test_3 = confusion_matrix(Y3_test, pred_test_3)\n",
    "sb.heatmap(mat_test_3, annot = True, fmt = 'd')\n",
    "plt.show"
   ]
  },
  {
   "cell_type": "markdown",
   "id": "f554e721",
   "metadata": {},
   "source": [
    "## Red Neuronal"
   ]
  },
  {
   "cell_type": "code",
   "execution_count": 281,
   "id": "ef47b823",
   "metadata": {},
   "outputs": [
    {
     "data": {
      "text/html": [
       "<style>#sk-container-id-22 {color: black;}#sk-container-id-22 pre{padding: 0;}#sk-container-id-22 div.sk-toggleable {background-color: white;}#sk-container-id-22 label.sk-toggleable__label {cursor: pointer;display: block;width: 100%;margin-bottom: 0;padding: 0.3em;box-sizing: border-box;text-align: center;}#sk-container-id-22 label.sk-toggleable__label-arrow:before {content: \"▸\";float: left;margin-right: 0.25em;color: #696969;}#sk-container-id-22 label.sk-toggleable__label-arrow:hover:before {color: black;}#sk-container-id-22 div.sk-estimator:hover label.sk-toggleable__label-arrow:before {color: black;}#sk-container-id-22 div.sk-toggleable__content {max-height: 0;max-width: 0;overflow: hidden;text-align: left;background-color: #f0f8ff;}#sk-container-id-22 div.sk-toggleable__content pre {margin: 0.2em;color: black;border-radius: 0.25em;background-color: #f0f8ff;}#sk-container-id-22 input.sk-toggleable__control:checked~div.sk-toggleable__content {max-height: 200px;max-width: 100%;overflow: auto;}#sk-container-id-22 input.sk-toggleable__control:checked~label.sk-toggleable__label-arrow:before {content: \"▾\";}#sk-container-id-22 div.sk-estimator input.sk-toggleable__control:checked~label.sk-toggleable__label {background-color: #d4ebff;}#sk-container-id-22 div.sk-label input.sk-toggleable__control:checked~label.sk-toggleable__label {background-color: #d4ebff;}#sk-container-id-22 input.sk-hidden--visually {border: 0;clip: rect(1px 1px 1px 1px);clip: rect(1px, 1px, 1px, 1px);height: 1px;margin: -1px;overflow: hidden;padding: 0;position: absolute;width: 1px;}#sk-container-id-22 div.sk-estimator {font-family: monospace;background-color: #f0f8ff;border: 1px dotted black;border-radius: 0.25em;box-sizing: border-box;margin-bottom: 0.5em;}#sk-container-id-22 div.sk-estimator:hover {background-color: #d4ebff;}#sk-container-id-22 div.sk-parallel-item::after {content: \"\";width: 100%;border-bottom: 1px solid gray;flex-grow: 1;}#sk-container-id-22 div.sk-label:hover label.sk-toggleable__label {background-color: #d4ebff;}#sk-container-id-22 div.sk-serial::before {content: \"\";position: absolute;border-left: 1px solid gray;box-sizing: border-box;top: 0;bottom: 0;left: 50%;z-index: 0;}#sk-container-id-22 div.sk-serial {display: flex;flex-direction: column;align-items: center;background-color: white;padding-right: 0.2em;padding-left: 0.2em;position: relative;}#sk-container-id-22 div.sk-item {position: relative;z-index: 1;}#sk-container-id-22 div.sk-parallel {display: flex;align-items: stretch;justify-content: center;background-color: white;position: relative;}#sk-container-id-22 div.sk-item::before, #sk-container-id-22 div.sk-parallel-item::before {content: \"\";position: absolute;border-left: 1px solid gray;box-sizing: border-box;top: 0;bottom: 0;left: 50%;z-index: -1;}#sk-container-id-22 div.sk-parallel-item {display: flex;flex-direction: column;z-index: 1;position: relative;background-color: white;}#sk-container-id-22 div.sk-parallel-item:first-child::after {align-self: flex-end;width: 50%;}#sk-container-id-22 div.sk-parallel-item:last-child::after {align-self: flex-start;width: 50%;}#sk-container-id-22 div.sk-parallel-item:only-child::after {width: 0;}#sk-container-id-22 div.sk-dashed-wrapped {border: 1px dashed gray;margin: 0 0.4em 0.5em 0.4em;box-sizing: border-box;padding-bottom: 0.4em;background-color: white;}#sk-container-id-22 div.sk-label label {font-family: monospace;font-weight: bold;display: inline-block;line-height: 1.2em;}#sk-container-id-22 div.sk-label-container {text-align: center;}#sk-container-id-22 div.sk-container {/* jupyter's `normalize.less` sets `[hidden] { display: none; }` but bootstrap.min.css set `[hidden] { display: none !important; }` so we also need the `!important` here to be able to override the default hidden behavior on the sphinx rendered scikit-learn.org. See: https://github.com/scikit-learn/scikit-learn/issues/21755 */display: inline-block !important;position: relative;}#sk-container-id-22 div.sk-text-repr-fallback {display: none;}</style><div id=\"sk-container-id-22\" class=\"sk-top-container\"><div class=\"sk-text-repr-fallback\"><pre>MLPClassifier()</pre><b>In a Jupyter environment, please rerun this cell to show the HTML representation or trust the notebook. <br />On GitHub, the HTML representation is unable to render, please try loading this page with nbviewer.org.</b></div><div class=\"sk-container\" hidden><div class=\"sk-item\"><div class=\"sk-estimator sk-toggleable\"><input class=\"sk-toggleable__control sk-hidden--visually\" id=\"sk-estimator-id-46\" type=\"checkbox\" checked><label for=\"sk-estimator-id-46\" class=\"sk-toggleable__label sk-toggleable__label-arrow\">MLPClassifier</label><div class=\"sk-toggleable__content\"><pre>MLPClassifier()</pre></div></div></div></div></div>"
      ],
      "text/plain": [
       "MLPClassifier()"
      ]
     },
     "execution_count": 281,
     "metadata": {},
     "output_type": "execute_result"
    }
   ],
   "source": [
    "X4_train, X4_test, Y4_train, Y4_test = train_test_split(Xpro, y, train_size = 0.7, random_state = 123)\n",
    "modelo_4 = MLPClassifier()\n",
    "modelo_4.fit(X4_train, Y4_train)"
   ]
  },
  {
   "cell_type": "markdown",
   "id": "e6a910b3",
   "metadata": {},
   "source": [
    "Entrenamiento modelo 4"
   ]
  },
  {
   "cell_type": "code",
   "execution_count": 282,
   "id": "11e4b7bd",
   "metadata": {},
   "outputs": [
    {
     "name": "stdout",
     "output_type": "stream",
     "text": [
      "0.7606734711681061\n"
     ]
    },
    {
     "data": {
      "text/plain": [
       "<function matplotlib.pyplot.show(close=None, block=None)>"
      ]
     },
     "execution_count": 282,
     "metadata": {},
     "output_type": "execute_result"
    },
    {
     "data": {
      "image/png": "[encoded data removed]",
      "text/plain": [
       "<Figure size 640x480 with 2 Axes>"
      ]
     },
     "metadata": {},
     "output_type": "display_data"
    }
   ],
   "source": [
    "pred_train_4 = modelo_4.predict(X4_train)\n",
    "pred_test_4 = modelo_4.predict(X4_test)\n",
    "\n",
    "acc_train_4 = accuracy_score(Y4_train, pred_train_4)\n",
    "print(acc_train_4)\n",
    "\n",
    "mat_train_4 = confusion_matrix(Y4_train, pred_train_4)\n",
    "sb.heatmap(mat_train_4, annot = True, fmt = 'd')\n",
    "plt.show"
   ]
  },
  {
   "cell_type": "markdown",
   "id": "1404b56d",
   "metadata": {},
   "source": [
    "Prueba modelo 4"
   ]
  },
  {
   "cell_type": "code",
   "execution_count": 283,
   "id": "47ed4b5c",
   "metadata": {},
   "outputs": [
    {
     "name": "stdout",
     "output_type": "stream",
     "text": [
      "0.7605031753786028\n"
     ]
    },
    {
     "data": {
      "text/plain": [
       "<function matplotlib.pyplot.show(close=None, block=None)>"
      ]
     },
     "execution_count": 283,
     "metadata": {},
     "output_type": "execute_result"
    },
    {
     "data": {
      "image/png": "[encoded data removed]",
      "text/plain": [
       "<Figure size 640x480 with 2 Axes>"
      ]
     },
     "metadata": {},
     "output_type": "display_data"
    }
   ],
   "source": [
    "acc_test_4 = accuracy_score(Y4_test, pred_test_4)\n",
    "print(acc_test_4)\n",
    "\n",
    "mat_test_4 = confusion_matrix(Y4_test, pred_test_4)\n",
    "sb.heatmap(mat_test_4, annot = True, fmt = 'd')\n",
    "plt.show"
   ]
  },
  {
   "cell_type": "markdown",
   "id": "d73b4196",
   "metadata": {},
   "source": [
    "## Conclusiones"
   ]
  },
  {
   "cell_type": "markdown",
   "id": "ef36ef59",
   "metadata": {},
   "source": [
    "Entre los 3 modelos utilizados, determinamos que para este caso, el mejor es la red neuronal artificial, dado el porcentaje de éxito que tuvo este en el proceso de clasificación durante el entrenamiento y la prueba."
   ]
  },
  {
   "cell_type": "markdown",
   "id": "8bd76682",
   "metadata": {},
   "source": [
    "# Taller Pto. 3"
   ]
  },
  {
   "cell_type": "code",
   "execution_count": 519,
   "id": "ed9446c9",
   "metadata": {},
   "outputs": [
    {
     "data": {
      "text/html": [
       "<div>\n",
       "<style scoped>\n",
       "    .dataframe tbody tr th:only-of-type {\n",
       "        vertical-align: middle;\n",
       "    }\n",
       "\n",
       "    .dataframe tbody tr th {\n",
       "        vertical-align: top;\n",
       "    }\n",
       "\n",
       "    .dataframe thead th {\n",
       "        text-align: right;\n",
       "    }\n",
       "</style>\n",
       "<table border=\"1\" class=\"dataframe\">\n",
       "  <thead>\n",
       "    <tr style=\"text-align: right;\">\n",
       "      <th></th>\n",
       "      <th>loan_status</th>\n",
       "      <th>annual_inc</th>\n",
       "      <th>verification_status</th>\n",
       "      <th>emp_length</th>\n",
       "      <th>home_ownership</th>\n",
       "      <th>int_rate</th>\n",
       "      <th>loan_amnt</th>\n",
       "      <th>purpose</th>\n",
       "      <th>term</th>\n",
       "      <th>grade</th>\n",
       "    </tr>\n",
       "  </thead>\n",
       "  <tbody>\n",
       "    <tr>\n",
       "      <th>0</th>\n",
       "      <td>Fully Paid</td>\n",
       "      <td>24000.0</td>\n",
       "      <td>Verified</td>\n",
       "      <td>10+ years</td>\n",
       "      <td>RENT</td>\n",
       "      <td>10.65%</td>\n",
       "      <td>5000</td>\n",
       "      <td>credit_card</td>\n",
       "      <td>36 months</td>\n",
       "      <td>B</td>\n",
       "    </tr>\n",
       "    <tr>\n",
       "      <th>1</th>\n",
       "      <td>Charged Off</td>\n",
       "      <td>30000.0</td>\n",
       "      <td>Source Verified</td>\n",
       "      <td>&lt; 1 year</td>\n",
       "      <td>RENT</td>\n",
       "      <td>15.27%</td>\n",
       "      <td>2500</td>\n",
       "      <td>car</td>\n",
       "      <td>60 months</td>\n",
       "      <td>C</td>\n",
       "    </tr>\n",
       "    <tr>\n",
       "      <th>2</th>\n",
       "      <td>Fully Paid</td>\n",
       "      <td>12252.0</td>\n",
       "      <td>Not Verified</td>\n",
       "      <td>10+ years</td>\n",
       "      <td>RENT</td>\n",
       "      <td>15.96%</td>\n",
       "      <td>2400</td>\n",
       "      <td>small_business</td>\n",
       "      <td>36 months</td>\n",
       "      <td>C</td>\n",
       "    </tr>\n",
       "    <tr>\n",
       "      <th>3</th>\n",
       "      <td>Fully Paid</td>\n",
       "      <td>49200.0</td>\n",
       "      <td>Source Verified</td>\n",
       "      <td>10+ years</td>\n",
       "      <td>RENT</td>\n",
       "      <td>13.49%</td>\n",
       "      <td>10000</td>\n",
       "      <td>other</td>\n",
       "      <td>36 months</td>\n",
       "      <td>C</td>\n",
       "    </tr>\n",
       "    <tr>\n",
       "      <th>4</th>\n",
       "      <td>Fully Paid</td>\n",
       "      <td>80000.0</td>\n",
       "      <td>Source Verified</td>\n",
       "      <td>1 year</td>\n",
       "      <td>RENT</td>\n",
       "      <td>12.69%</td>\n",
       "      <td>3000</td>\n",
       "      <td>other</td>\n",
       "      <td>60 months</td>\n",
       "      <td>B</td>\n",
       "    </tr>\n",
       "    <tr>\n",
       "      <th>...</th>\n",
       "      <td>...</td>\n",
       "      <td>...</td>\n",
       "      <td>...</td>\n",
       "      <td>...</td>\n",
       "      <td>...</td>\n",
       "      <td>...</td>\n",
       "      <td>...</td>\n",
       "      <td>...</td>\n",
       "      <td>...</td>\n",
       "      <td>...</td>\n",
       "    </tr>\n",
       "    <tr>\n",
       "      <th>38700</th>\n",
       "      <td>Fully Paid</td>\n",
       "      <td>110000.0</td>\n",
       "      <td>Not Verified</td>\n",
       "      <td>4 years</td>\n",
       "      <td>MORTGAGE</td>\n",
       "      <td>8.07%</td>\n",
       "      <td>2500</td>\n",
       "      <td>home_improvement</td>\n",
       "      <td>36 months</td>\n",
       "      <td>A</td>\n",
       "    </tr>\n",
       "    <tr>\n",
       "      <th>38701</th>\n",
       "      <td>Fully Paid</td>\n",
       "      <td>18000.0</td>\n",
       "      <td>Not Verified</td>\n",
       "      <td>3 years</td>\n",
       "      <td>RENT</td>\n",
       "      <td>10.28%</td>\n",
       "      <td>8500</td>\n",
       "      <td>credit_card</td>\n",
       "      <td>36 months</td>\n",
       "      <td>C</td>\n",
       "    </tr>\n",
       "    <tr>\n",
       "      <th>38702</th>\n",
       "      <td>Fully Paid</td>\n",
       "      <td>100000.0</td>\n",
       "      <td>Not Verified</td>\n",
       "      <td>&lt; 1 year</td>\n",
       "      <td>MORTGAGE</td>\n",
       "      <td>8.07%</td>\n",
       "      <td>5000</td>\n",
       "      <td>debt_consolidation</td>\n",
       "      <td>36 months</td>\n",
       "      <td>A</td>\n",
       "    </tr>\n",
       "    <tr>\n",
       "      <th>38703</th>\n",
       "      <td>Fully Paid</td>\n",
       "      <td>200000.0</td>\n",
       "      <td>Not Verified</td>\n",
       "      <td>&lt; 1 year</td>\n",
       "      <td>MORTGAGE</td>\n",
       "      <td>7.43%</td>\n",
       "      <td>5000</td>\n",
       "      <td>other</td>\n",
       "      <td>36 months</td>\n",
       "      <td>A</td>\n",
       "    </tr>\n",
       "    <tr>\n",
       "      <th>38704</th>\n",
       "      <td>Fully Paid</td>\n",
       "      <td>22000.0</td>\n",
       "      <td>Not Verified</td>\n",
       "      <td>&lt; 1 year</td>\n",
       "      <td>OWN</td>\n",
       "      <td>13.75%</td>\n",
       "      <td>7500</td>\n",
       "      <td>debt_consolidation</td>\n",
       "      <td>36 months</td>\n",
       "      <td>E</td>\n",
       "    </tr>\n",
       "  </tbody>\n",
       "</table>\n",
       "<p>38705 rows × 10 columns</p>\n",
       "</div>"
      ],
      "text/plain": [
       "       loan_status  annual_inc verification_status emp_length home_ownership  \\\n",
       "0       Fully Paid     24000.0            Verified  10+ years           RENT   \n",
       "1      Charged Off     30000.0     Source Verified   < 1 year           RENT   \n",
       "2       Fully Paid     12252.0        Not Verified  10+ years           RENT   \n",
       "3       Fully Paid     49200.0     Source Verified  10+ years           RENT   \n",
       "4       Fully Paid     80000.0     Source Verified     1 year           RENT   \n",
       "...            ...         ...                 ...        ...            ...   \n",
       "38700   Fully Paid    110000.0        Not Verified    4 years       MORTGAGE   \n",
       "38701   Fully Paid     18000.0        Not Verified    3 years           RENT   \n",
       "38702   Fully Paid    100000.0        Not Verified   < 1 year       MORTGAGE   \n",
       "38703   Fully Paid    200000.0        Not Verified   < 1 year       MORTGAGE   \n",
       "38704   Fully Paid     22000.0        Not Verified   < 1 year            OWN   \n",
       "\n",
       "      int_rate  loan_amnt             purpose        term grade  \n",
       "0       10.65%       5000         credit_card   36 months     B  \n",
       "1       15.27%       2500                 car   60 months     C  \n",
       "2       15.96%       2400      small_business   36 months     C  \n",
       "3       13.49%      10000               other   36 months     C  \n",
       "4       12.69%       3000               other   60 months     B  \n",
       "...        ...        ...                 ...         ...   ...  \n",
       "38700    8.07%       2500    home_improvement   36 months     A  \n",
       "38701   10.28%       8500         credit_card   36 months     C  \n",
       "38702    8.07%       5000  debt_consolidation   36 months     A  \n",
       "38703    7.43%       5000               other   36 months     A  \n",
       "38704   13.75%       7500  debt_consolidation   36 months     E  \n",
       "\n",
       "[38705 rows x 10 columns]"
      ]
     },
     "execution_count": 519,
     "metadata": {},
     "output_type": "execute_result"
    }
   ],
   "source": [
    "datos3 = pd.read_csv('lcc.csv')\n",
    "datos3"
   ]
  },
  {
   "cell_type": "code",
   "execution_count": 520,
   "id": "51a9b522",
   "metadata": {},
   "outputs": [],
   "source": [
    "#Transformación de la y\n",
    "datos3['grade'].replace(to_replace='A', value=0, inplace=True)\n",
    "datos3['grade'].replace(to_replace='B', value=1, inplace=True)\n",
    "datos3['grade'].replace(to_replace='C', value=2, inplace=True)\n",
    "datos3['grade'].replace(to_replace='D', value=3, inplace=True)\n",
    "datos3['grade'].replace(to_replace='E', value=4, inplace=True)\n",
    "datos3['grade'].replace(to_replace='F', value=5, inplace=True)\n",
    "datos3['grade'].replace(to_replace='G', value=6, inplace=True)"
   ]
  },
  {
   "cell_type": "code",
   "execution_count": 521,
   "id": "63d96681",
   "metadata": {},
   "outputs": [],
   "source": [
    "#Modificación de variables\n",
    "datos3['int_rate'] = datos3['int_rate'].replace({'%':''}, regex = True).astype(float)\n",
    "datos3['term'] = datos3['term'].replace({'months':''}, regex = True).astype(int)"
   ]
  },
  {
   "cell_type": "markdown",
   "id": "27411c0e",
   "metadata": {},
   "source": [
    "**Los grados de calificación se separan en 2 grupos, buenas califiaciones [A, C] y malas calificaciones [D, G]**"
   ]
  },
  {
   "cell_type": "code",
   "execution_count": 522,
   "id": "a6bc7323",
   "metadata": {},
   "outputs": [],
   "source": [
    "datos3['grade'] = np.where(datos3['grade']<3,1,0)"
   ]
  },
  {
   "cell_type": "code",
   "execution_count": 523,
   "id": "9db41dff",
   "metadata": {},
   "outputs": [
    {
     "data": {
      "text/plain": [
       "<seaborn.axisgrid.FacetGrid at 0x14d21d42b50>"
      ]
     },
     "execution_count": 523,
     "metadata": {},
     "output_type": "execute_result"
    },
    {
     "data": {
      "image/png": "[encoded data removed]",
      "text/plain": [
       "<Figure size 500x500 with 1 Axes>"
      ]
     },
     "metadata": {},
     "output_type": "display_data"
    }
   ],
   "source": [
    "sb.catplot(data=datos3, x='grade', kind='count')"
   ]
  },
  {
   "cell_type": "code",
   "execution_count": 524,
   "id": "be8824de",
   "metadata": {},
   "outputs": [],
   "source": [
    "good = datos3[datos3['grade'] == 1]\n",
    "bad = datos3[datos3['grade'] == 0]"
   ]
  },
  {
   "cell_type": "code",
   "execution_count": 525,
   "id": "b77a2bec",
   "metadata": {},
   "outputs": [
    {
     "data": {
      "text/plain": [
       "(29329, 10)"
      ]
     },
     "execution_count": 525,
     "metadata": {},
     "output_type": "execute_result"
    }
   ],
   "source": [
    "good.shape"
   ]
  },
  {
   "cell_type": "code",
   "execution_count": 526,
   "id": "ecc02aef",
   "metadata": {},
   "outputs": [
    {
     "data": {
      "text/plain": [
       "(9376, 10)"
      ]
     },
     "execution_count": 526,
     "metadata": {},
     "output_type": "execute_result"
    }
   ],
   "source": [
    "bad.shape"
   ]
  },
  {
   "cell_type": "code",
   "execution_count": 527,
   "id": "1950e68c",
   "metadata": {},
   "outputs": [
    {
     "data": {
      "text/plain": [
       "(29329, 10)"
      ]
     },
     "execution_count": 527,
     "metadata": {},
     "output_type": "execute_result"
    }
   ],
   "source": [
    "bad = bad.sample(good.shape[0], replace = True)\n",
    "bad.shape"
   ]
  },
  {
   "cell_type": "code",
   "execution_count": 528,
   "id": "b4d4b086",
   "metadata": {},
   "outputs": [
    {
     "data": {
      "text/plain": [
       "(58658, 10)"
      ]
     },
     "execution_count": 528,
     "metadata": {},
     "output_type": "execute_result"
    }
   ],
   "source": [
    "datos3 = pd.concat([good, bad])\n",
    "datos3.shape"
   ]
  },
  {
   "cell_type": "code",
   "execution_count": 529,
   "id": "79f7011e",
   "metadata": {},
   "outputs": [],
   "source": [
    "X = datos3[['verification_status']]\n",
    "Y = datos3[['grade']]"
   ]
  },
  {
   "cell_type": "code",
   "execution_count": 530,
   "id": "57471ee7",
   "metadata": {
    "scrolled": false
   },
   "outputs": [
    {
     "data": {
      "text/html": [
       "<style>#sk-container-id-46 {color: black;}#sk-container-id-46 pre{padding: 0;}#sk-container-id-46 div.sk-toggleable {background-color: white;}#sk-container-id-46 label.sk-toggleable__label {cursor: pointer;display: block;width: 100%;margin-bottom: 0;padding: 0.3em;box-sizing: border-box;text-align: center;}#sk-container-id-46 label.sk-toggleable__label-arrow:before {content: \"▸\";float: left;margin-right: 0.25em;color: #696969;}#sk-container-id-46 label.sk-toggleable__label-arrow:hover:before {color: black;}#sk-container-id-46 div.sk-estimator:hover label.sk-toggleable__label-arrow:before {color: black;}#sk-container-id-46 div.sk-toggleable__content {max-height: 0;max-width: 0;overflow: hidden;text-align: left;background-color: #f0f8ff;}#sk-container-id-46 div.sk-toggleable__content pre {margin: 0.2em;color: black;border-radius: 0.25em;background-color: #f0f8ff;}#sk-container-id-46 input.sk-toggleable__control:checked~div.sk-toggleable__content {max-height: 200px;max-width: 100%;overflow: auto;}#sk-container-id-46 input.sk-toggleable__control:checked~label.sk-toggleable__label-arrow:before {content: \"▾\";}#sk-container-id-46 div.sk-estimator input.sk-toggleable__control:checked~label.sk-toggleable__label {background-color: #d4ebff;}#sk-container-id-46 div.sk-label input.sk-toggleable__control:checked~label.sk-toggleable__label {background-color: #d4ebff;}#sk-container-id-46 input.sk-hidden--visually {border: 0;clip: rect(1px 1px 1px 1px);clip: rect(1px, 1px, 1px, 1px);height: 1px;margin: -1px;overflow: hidden;padding: 0;position: absolute;width: 1px;}#sk-container-id-46 div.sk-estimator {font-family: monospace;background-color: #f0f8ff;border: 1px dotted black;border-radius: 0.25em;box-sizing: border-box;margin-bottom: 0.5em;}#sk-container-id-46 div.sk-estimator:hover {background-color: #d4ebff;}#sk-container-id-46 div.sk-parallel-item::after {content: \"\";width: 100%;border-bottom: 1px solid gray;flex-grow: 1;}#sk-container-id-46 div.sk-label:hover label.sk-toggleable__label {background-color: #d4ebff;}#sk-container-id-46 div.sk-serial::before {content: \"\";position: absolute;border-left: 1px solid gray;box-sizing: border-box;top: 0;bottom: 0;left: 50%;z-index: 0;}#sk-container-id-46 div.sk-serial {display: flex;flex-direction: column;align-items: center;background-color: white;padding-right: 0.2em;padding-left: 0.2em;position: relative;}#sk-container-id-46 div.sk-item {position: relative;z-index: 1;}#sk-container-id-46 div.sk-parallel {display: flex;align-items: stretch;justify-content: center;background-color: white;position: relative;}#sk-container-id-46 div.sk-item::before, #sk-container-id-46 div.sk-parallel-item::before {content: \"\";position: absolute;border-left: 1px solid gray;box-sizing: border-box;top: 0;bottom: 0;left: 50%;z-index: -1;}#sk-container-id-46 div.sk-parallel-item {display: flex;flex-direction: column;z-index: 1;position: relative;background-color: white;}#sk-container-id-46 div.sk-parallel-item:first-child::after {align-self: flex-end;width: 50%;}#sk-container-id-46 div.sk-parallel-item:last-child::after {align-self: flex-start;width: 50%;}#sk-container-id-46 div.sk-parallel-item:only-child::after {width: 0;}#sk-container-id-46 div.sk-dashed-wrapped {border: 1px dashed gray;margin: 0 0.4em 0.5em 0.4em;box-sizing: border-box;padding-bottom: 0.4em;background-color: white;}#sk-container-id-46 div.sk-label label {font-family: monospace;font-weight: bold;display: inline-block;line-height: 1.2em;}#sk-container-id-46 div.sk-label-container {text-align: center;}#sk-container-id-46 div.sk-container {/* jupyter's `normalize.less` sets `[hidden] { display: none; }` but bootstrap.min.css set `[hidden] { display: none !important; }` so we also need the `!important` here to be able to override the default hidden behavior on the sphinx rendered scikit-learn.org. See: https://github.com/scikit-learn/scikit-learn/issues/21755 */display: inline-block !important;position: relative;}#sk-container-id-46 div.sk-text-repr-fallback {display: none;}</style><div id=\"sk-container-id-46\" class=\"sk-top-container\"><div class=\"sk-text-repr-fallback\"><pre>ColumnTransformer(remainder=&#x27;passthrough&#x27;,\n",
       "                  transformers=[(&#x27;cat&#x27;,\n",
       "                                 Pipeline(steps=[(&#x27;onehot&#x27;,\n",
       "                                                  OneHotEncoder(handle_unknown=&#x27;ignore&#x27;))]),\n",
       "                                 [&#x27;verification_status&#x27;])])</pre><b>In a Jupyter environment, please rerun this cell to show the HTML representation or trust the notebook. <br />On GitHub, the HTML representation is unable to render, please try loading this page with nbviewer.org.</b></div><div class=\"sk-container\" hidden><div class=\"sk-item sk-dashed-wrapped\"><div class=\"sk-label-container\"><div class=\"sk-label sk-toggleable\"><input class=\"sk-toggleable__control sk-hidden--visually\" id=\"sk-estimator-id-110\" type=\"checkbox\" ><label for=\"sk-estimator-id-110\" class=\"sk-toggleable__label sk-toggleable__label-arrow\">ColumnTransformer</label><div class=\"sk-toggleable__content\"><pre>ColumnTransformer(remainder=&#x27;passthrough&#x27;,\n",
       "                  transformers=[(&#x27;cat&#x27;,\n",
       "                                 Pipeline(steps=[(&#x27;onehot&#x27;,\n",
       "                                                  OneHotEncoder(handle_unknown=&#x27;ignore&#x27;))]),\n",
       "                                 [&#x27;verification_status&#x27;])])</pre></div></div></div><div class=\"sk-parallel\"><div class=\"sk-parallel-item\"><div class=\"sk-item\"><div class=\"sk-label-container\"><div class=\"sk-label sk-toggleable\"><input class=\"sk-toggleable__control sk-hidden--visually\" id=\"sk-estimator-id-111\" type=\"checkbox\" ><label for=\"sk-estimator-id-111\" class=\"sk-toggleable__label sk-toggleable__label-arrow\">cat</label><div class=\"sk-toggleable__content\"><pre>[&#x27;verification_status&#x27;]</pre></div></div></div><div class=\"sk-serial\"><div class=\"sk-item\"><div class=\"sk-serial\"><div class=\"sk-item\"><div class=\"sk-estimator sk-toggleable\"><input class=\"sk-toggleable__control sk-hidden--visually\" id=\"sk-estimator-id-112\" type=\"checkbox\" ><label for=\"sk-estimator-id-112\" class=\"sk-toggleable__label sk-toggleable__label-arrow\">OneHotEncoder</label><div class=\"sk-toggleable__content\"><pre>OneHotEncoder(handle_unknown=&#x27;ignore&#x27;)</pre></div></div></div></div></div></div></div></div><div class=\"sk-parallel-item\"><div class=\"sk-item\"><div class=\"sk-label-container\"><div class=\"sk-label sk-toggleable\"><input class=\"sk-toggleable__control sk-hidden--visually\" id=\"sk-estimator-id-113\" type=\"checkbox\" ><label for=\"sk-estimator-id-113\" class=\"sk-toggleable__label sk-toggleable__label-arrow\">remainder</label><div class=\"sk-toggleable__content\"><pre></pre></div></div></div><div class=\"sk-serial\"><div class=\"sk-item\"><div class=\"sk-estimator sk-toggleable\"><input class=\"sk-toggleable__control sk-hidden--visually\" id=\"sk-estimator-id-114\" type=\"checkbox\" ><label for=\"sk-estimator-id-114\" class=\"sk-toggleable__label sk-toggleable__label-arrow\">passthrough</label><div class=\"sk-toggleable__content\"><pre>passthrough</pre></div></div></div></div></div></div></div></div></div></div>"
      ],
      "text/plain": [
       "ColumnTransformer(remainder='passthrough',\n",
       "                  transformers=[('cat',\n",
       "                                 Pipeline(steps=[('onehot',\n",
       "                                                  OneHotEncoder(handle_unknown='ignore'))]),\n",
       "                                 ['verification_status'])])"
      ]
     },
     "execution_count": 530,
     "metadata": {},
     "output_type": "execute_result"
    }
   ],
   "source": [
    "##numCols = X.select_dtypes(include = ['float64','int64', 'int32']).columns.to_list()\n",
    "##catCols = x.select_dtypes(include = ['object']).columns.to_list()\n",
    "catTransformer = Pipeline(steps = [('onehot', OneHotEncoder(handle_unknown = 'ignore'))])\n",
    "preprocesador = ColumnTransformer(transformers = [('cat', catTransformer, ['verification_status'])],\n",
    "                                  remainder = 'passthrough')\n",
    "set_config(display = 'diagram')\n",
    "preprocesador"
   ]
  },
  {
   "cell_type": "code",
   "execution_count": 531,
   "id": "1b8e4ae5",
   "metadata": {},
   "outputs": [
    {
     "data": {
      "text/plain": [
       "array([[0., 0., 1.],\n",
       "       [0., 1., 0.],\n",
       "       [1., 0., 0.],\n",
       "       ...,\n",
       "       [0., 0., 1.],\n",
       "       [0., 0., 1.],\n",
       "       [1., 0., 0.]])"
      ]
     },
     "execution_count": 531,
     "metadata": {},
     "output_type": "execute_result"
    }
   ],
   "source": [
    "Xpre = preprocesador.fit_transform(X)\n",
    "Xpre"
   ]
  },
  {
   "cell_type": "code",
   "execution_count": 532,
   "id": "59205e26",
   "metadata": {},
   "outputs": [
    {
     "data": {
      "text/html": [
       "<div>\n",
       "<style scoped>\n",
       "    .dataframe tbody tr th:only-of-type {\n",
       "        vertical-align: middle;\n",
       "    }\n",
       "\n",
       "    .dataframe tbody tr th {\n",
       "        vertical-align: top;\n",
       "    }\n",
       "\n",
       "    .dataframe thead th {\n",
       "        text-align: right;\n",
       "    }\n",
       "</style>\n",
       "<table border=\"1\" class=\"dataframe\">\n",
       "  <thead>\n",
       "    <tr style=\"text-align: right;\">\n",
       "      <th></th>\n",
       "      <th>verification_status_Not Verified</th>\n",
       "      <th>verification_status_Source Verified</th>\n",
       "      <th>verification_status_Verified</th>\n",
       "    </tr>\n",
       "  </thead>\n",
       "  <tbody>\n",
       "    <tr>\n",
       "      <th>0</th>\n",
       "      <td>0.0</td>\n",
       "      <td>0.0</td>\n",
       "      <td>1.0</td>\n",
       "    </tr>\n",
       "    <tr>\n",
       "      <th>1</th>\n",
       "      <td>0.0</td>\n",
       "      <td>1.0</td>\n",
       "      <td>0.0</td>\n",
       "    </tr>\n",
       "    <tr>\n",
       "      <th>2</th>\n",
       "      <td>1.0</td>\n",
       "      <td>0.0</td>\n",
       "      <td>0.0</td>\n",
       "    </tr>\n",
       "    <tr>\n",
       "      <th>3</th>\n",
       "      <td>0.0</td>\n",
       "      <td>1.0</td>\n",
       "      <td>0.0</td>\n",
       "    </tr>\n",
       "    <tr>\n",
       "      <th>4</th>\n",
       "      <td>0.0</td>\n",
       "      <td>1.0</td>\n",
       "      <td>0.0</td>\n",
       "    </tr>\n",
       "    <tr>\n",
       "      <th>...</th>\n",
       "      <td>...</td>\n",
       "      <td>...</td>\n",
       "      <td>...</td>\n",
       "    </tr>\n",
       "    <tr>\n",
       "      <th>58653</th>\n",
       "      <td>0.0</td>\n",
       "      <td>1.0</td>\n",
       "      <td>0.0</td>\n",
       "    </tr>\n",
       "    <tr>\n",
       "      <th>58654</th>\n",
       "      <td>0.0</td>\n",
       "      <td>0.0</td>\n",
       "      <td>1.0</td>\n",
       "    </tr>\n",
       "    <tr>\n",
       "      <th>58655</th>\n",
       "      <td>0.0</td>\n",
       "      <td>0.0</td>\n",
       "      <td>1.0</td>\n",
       "    </tr>\n",
       "    <tr>\n",
       "      <th>58656</th>\n",
       "      <td>0.0</td>\n",
       "      <td>0.0</td>\n",
       "      <td>1.0</td>\n",
       "    </tr>\n",
       "    <tr>\n",
       "      <th>58657</th>\n",
       "      <td>1.0</td>\n",
       "      <td>0.0</td>\n",
       "      <td>0.0</td>\n",
       "    </tr>\n",
       "  </tbody>\n",
       "</table>\n",
       "<p>58658 rows × 3 columns</p>\n",
       "</div>"
      ],
      "text/plain": [
       "       verification_status_Not Verified  verification_status_Source Verified  \\\n",
       "0                                   0.0                                  0.0   \n",
       "1                                   0.0                                  1.0   \n",
       "2                                   1.0                                  0.0   \n",
       "3                                   0.0                                  1.0   \n",
       "4                                   0.0                                  1.0   \n",
       "...                                 ...                                  ...   \n",
       "58653                               0.0                                  1.0   \n",
       "58654                               0.0                                  0.0   \n",
       "58655                               0.0                                  0.0   \n",
       "58656                               0.0                                  0.0   \n",
       "58657                               1.0                                  0.0   \n",
       "\n",
       "       verification_status_Verified  \n",
       "0                               1.0  \n",
       "1                               0.0  \n",
       "2                               0.0  \n",
       "3                               0.0  \n",
       "4                               0.0  \n",
       "...                             ...  \n",
       "58653                           0.0  \n",
       "58654                           1.0  \n",
       "58655                           1.0  \n",
       "58656                           1.0  \n",
       "58657                           0.0  \n",
       "\n",
       "[58658 rows x 3 columns]"
      ]
     },
     "execution_count": 532,
     "metadata": {},
     "output_type": "execute_result"
    }
   ],
   "source": [
    "labels = preprocesador.named_transformers_['cat']['onehot'].get_feature_names_out(['verification_status'])\n",
    "X3pro = pd.DataFrame(Xpre, columns = labels)\n",
    "X3pro"
   ]
  },
  {
   "cell_type": "code",
   "execution_count": 533,
   "id": "566c7a8e",
   "metadata": {},
   "outputs": [],
   "source": [
    "# Separación en entrenamiento y prueba\n",
    "\n",
    "X5_train, X5_test, Y5_train, Y5_test = train_test_split(X3pro[['verification_status_Source Verified']], Y, train_size = 0.7, random_state = 123)"
   ]
  },
  {
   "cell_type": "markdown",
   "id": "3c2b877b",
   "metadata": {},
   "source": [
    "## Regresión Logísitca"
   ]
  },
  {
   "cell_type": "code",
   "execution_count": 534,
   "id": "0a1c0088",
   "metadata": {},
   "outputs": [
    {
     "data": {
      "text/html": [
       "<style>#sk-container-id-47 {color: black;}#sk-container-id-47 pre{padding: 0;}#sk-container-id-47 div.sk-toggleable {background-color: white;}#sk-container-id-47 label.sk-toggleable__label {cursor: pointer;display: block;width: 100%;margin-bottom: 0;padding: 0.3em;box-sizing: border-box;text-align: center;}#sk-container-id-47 label.sk-toggleable__label-arrow:before {content: \"▸\";float: left;margin-right: 0.25em;color: #696969;}#sk-container-id-47 label.sk-toggleable__label-arrow:hover:before {color: black;}#sk-container-id-47 div.sk-estimator:hover label.sk-toggleable__label-arrow:before {color: black;}#sk-container-id-47 div.sk-toggleable__content {max-height: 0;max-width: 0;overflow: hidden;text-align: left;background-color: #f0f8ff;}#sk-container-id-47 div.sk-toggleable__content pre {margin: 0.2em;color: black;border-radius: 0.25em;background-color: #f0f8ff;}#sk-container-id-47 input.sk-toggleable__control:checked~div.sk-toggleable__content {max-height: 200px;max-width: 100%;overflow: auto;}#sk-container-id-47 input.sk-toggleable__control:checked~label.sk-toggleable__label-arrow:before {content: \"▾\";}#sk-container-id-47 div.sk-estimator input.sk-toggleable__control:checked~label.sk-toggleable__label {background-color: #d4ebff;}#sk-container-id-47 div.sk-label input.sk-toggleable__control:checked~label.sk-toggleable__label {background-color: #d4ebff;}#sk-container-id-47 input.sk-hidden--visually {border: 0;clip: rect(1px 1px 1px 1px);clip: rect(1px, 1px, 1px, 1px);height: 1px;margin: -1px;overflow: hidden;padding: 0;position: absolute;width: 1px;}#sk-container-id-47 div.sk-estimator {font-family: monospace;background-color: #f0f8ff;border: 1px dotted black;border-radius: 0.25em;box-sizing: border-box;margin-bottom: 0.5em;}#sk-container-id-47 div.sk-estimator:hover {background-color: #d4ebff;}#sk-container-id-47 div.sk-parallel-item::after {content: \"\";width: 100%;border-bottom: 1px solid gray;flex-grow: 1;}#sk-container-id-47 div.sk-label:hover label.sk-toggleable__label {background-color: #d4ebff;}#sk-container-id-47 div.sk-serial::before {content: \"\";position: absolute;border-left: 1px solid gray;box-sizing: border-box;top: 0;bottom: 0;left: 50%;z-index: 0;}#sk-container-id-47 div.sk-serial {display: flex;flex-direction: column;align-items: center;background-color: white;padding-right: 0.2em;padding-left: 0.2em;position: relative;}#sk-container-id-47 div.sk-item {position: relative;z-index: 1;}#sk-container-id-47 div.sk-parallel {display: flex;align-items: stretch;justify-content: center;background-color: white;position: relative;}#sk-container-id-47 div.sk-item::before, #sk-container-id-47 div.sk-parallel-item::before {content: \"\";position: absolute;border-left: 1px solid gray;box-sizing: border-box;top: 0;bottom: 0;left: 50%;z-index: -1;}#sk-container-id-47 div.sk-parallel-item {display: flex;flex-direction: column;z-index: 1;position: relative;background-color: white;}#sk-container-id-47 div.sk-parallel-item:first-child::after {align-self: flex-end;width: 50%;}#sk-container-id-47 div.sk-parallel-item:last-child::after {align-self: flex-start;width: 50%;}#sk-container-id-47 div.sk-parallel-item:only-child::after {width: 0;}#sk-container-id-47 div.sk-dashed-wrapped {border: 1px dashed gray;margin: 0 0.4em 0.5em 0.4em;box-sizing: border-box;padding-bottom: 0.4em;background-color: white;}#sk-container-id-47 div.sk-label label {font-family: monospace;font-weight: bold;display: inline-block;line-height: 1.2em;}#sk-container-id-47 div.sk-label-container {text-align: center;}#sk-container-id-47 div.sk-container {/* jupyter's `normalize.less` sets `[hidden] { display: none; }` but bootstrap.min.css set `[hidden] { display: none !important; }` so we also need the `!important` here to be able to override the default hidden behavior on the sphinx rendered scikit-learn.org. See: https://github.com/scikit-learn/scikit-learn/issues/21755 */display: inline-block !important;position: relative;}#sk-container-id-47 div.sk-text-repr-fallback {display: none;}</style><div id=\"sk-container-id-47\" class=\"sk-top-container\"><div class=\"sk-text-repr-fallback\"><pre>LogisticRegression()</pre><b>In a Jupyter environment, please rerun this cell to show the HTML representation or trust the notebook. <br />On GitHub, the HTML representation is unable to render, please try loading this page with nbviewer.org.</b></div><div class=\"sk-container\" hidden><div class=\"sk-item\"><div class=\"sk-estimator sk-toggleable\"><input class=\"sk-toggleable__control sk-hidden--visually\" id=\"sk-estimator-id-115\" type=\"checkbox\" checked><label for=\"sk-estimator-id-115\" class=\"sk-toggleable__label sk-toggleable__label-arrow\">LogisticRegression</label><div class=\"sk-toggleable__content\"><pre>LogisticRegression()</pre></div></div></div></div></div>"
      ],
      "text/plain": [
       "LogisticRegression()"
      ]
     },
     "execution_count": 534,
     "metadata": {},
     "output_type": "execute_result"
    }
   ],
   "source": [
    "# Regresión logística\n",
    "modelo_5 = LogisticRegression()\n",
    "modelo_5.fit(X5_train, Y5_train)"
   ]
  },
  {
   "cell_type": "code",
   "execution_count": 535,
   "id": "e98febda",
   "metadata": {},
   "outputs": [
    {
     "name": "stdout",
     "output_type": "stream",
     "text": [
      "0.5074281539210911\n"
     ]
    },
    {
     "data": {
      "text/plain": [
       "<function matplotlib.pyplot.show(close=None, block=None)>"
      ]
     },
     "execution_count": 535,
     "metadata": {},
     "output_type": "execute_result"
    },
    {
     "data": {
      "image/png": "[encoded data removed]",
      "text/plain": [
       "<Figure size 640x480 with 2 Axes>"
      ]
     },
     "metadata": {},
     "output_type": "display_data"
    }
   ],
   "source": [
    "# Modelo 5: entrenamiento\n",
    "\n",
    "pred_train_5 = modelo_5.predict(X5_train)\n",
    "pred_test_5 = modelo_5.predict(X5_test)\n",
    "\n",
    "acc_train_5 = accuracy_score(Y5_train, pred_train_5)\n",
    "print(acc_train_5)\n",
    "\n",
    "mat_train_5 = confusion_matrix(Y5_train, pred_train_5)\n",
    "sb.heatmap(mat_train_5, annot = True, fmt = 'd')\n",
    "plt.show"
   ]
  },
  {
   "cell_type": "code",
   "execution_count": 536,
   "id": "8c339544",
   "metadata": {},
   "outputs": [
    {
     "name": "stdout",
     "output_type": "stream",
     "text": [
      "0.5045459711330833\n"
     ]
    },
    {
     "data": {
      "text/plain": [
       "<function matplotlib.pyplot.show(close=None, block=None)>"
      ]
     },
     "execution_count": 536,
     "metadata": {},
     "output_type": "execute_result"
    },
    {
     "data": {
      "image/png": "[encoded data removed]",
      "text/plain": [
       "<Figure size 640x480 with 2 Axes>"
      ]
     },
     "metadata": {},
     "output_type": "display_data"
    }
   ],
   "source": [
    "# Modelo 5: prueba\n",
    "\n",
    "acc_test_5 = accuracy_score(Y5_test, pred_test_5)\n",
    "print(acc_test_5)\n",
    "\n",
    "mat_test_5 = confusion_matrix(Y5_test, pred_test_5)\n",
    "sb.heatmap(mat_test_5, annot = True, fmt = 'd')\n",
    "plt.show"
   ]
  },
  {
   "cell_type": "markdown",
   "id": "8b0acc10",
   "metadata": {},
   "source": [
    "## Máquina de soporte vectorial"
   ]
  },
  {
   "cell_type": "code",
   "execution_count": 537,
   "id": "2c26e0c3",
   "metadata": {},
   "outputs": [
    {
     "data": {
      "text/html": [
       "<style>#sk-container-id-48 {color: black;}#sk-container-id-48 pre{padding: 0;}#sk-container-id-48 div.sk-toggleable {background-color: white;}#sk-container-id-48 label.sk-toggleable__label {cursor: pointer;display: block;width: 100%;margin-bottom: 0;padding: 0.3em;box-sizing: border-box;text-align: center;}#sk-container-id-48 label.sk-toggleable__label-arrow:before {content: \"▸\";float: left;margin-right: 0.25em;color: #696969;}#sk-container-id-48 label.sk-toggleable__label-arrow:hover:before {color: black;}#sk-container-id-48 div.sk-estimator:hover label.sk-toggleable__label-arrow:before {color: black;}#sk-container-id-48 div.sk-toggleable__content {max-height: 0;max-width: 0;overflow: hidden;text-align: left;background-color: #f0f8ff;}#sk-container-id-48 div.sk-toggleable__content pre {margin: 0.2em;color: black;border-radius: 0.25em;background-color: #f0f8ff;}#sk-container-id-48 input.sk-toggleable__control:checked~div.sk-toggleable__content {max-height: 200px;max-width: 100%;overflow: auto;}#sk-container-id-48 input.sk-toggleable__control:checked~label.sk-toggleable__label-arrow:before {content: \"▾\";}#sk-container-id-48 div.sk-estimator input.sk-toggleable__control:checked~label.sk-toggleable__label {background-color: #d4ebff;}#sk-container-id-48 div.sk-label input.sk-toggleable__control:checked~label.sk-toggleable__label {background-color: #d4ebff;}#sk-container-id-48 input.sk-hidden--visually {border: 0;clip: rect(1px 1px 1px 1px);clip: rect(1px, 1px, 1px, 1px);height: 1px;margin: -1px;overflow: hidden;padding: 0;position: absolute;width: 1px;}#sk-container-id-48 div.sk-estimator {font-family: monospace;background-color: #f0f8ff;border: 1px dotted black;border-radius: 0.25em;box-sizing: border-box;margin-bottom: 0.5em;}#sk-container-id-48 div.sk-estimator:hover {background-color: #d4ebff;}#sk-container-id-48 div.sk-parallel-item::after {content: \"\";width: 100%;border-bottom: 1px solid gray;flex-grow: 1;}#sk-container-id-48 div.sk-label:hover label.sk-toggleable__label {background-color: #d4ebff;}#sk-container-id-48 div.sk-serial::before {content: \"\";position: absolute;border-left: 1px solid gray;box-sizing: border-box;top: 0;bottom: 0;left: 50%;z-index: 0;}#sk-container-id-48 div.sk-serial {display: flex;flex-direction: column;align-items: center;background-color: white;padding-right: 0.2em;padding-left: 0.2em;position: relative;}#sk-container-id-48 div.sk-item {position: relative;z-index: 1;}#sk-container-id-48 div.sk-parallel {display: flex;align-items: stretch;justify-content: center;background-color: white;position: relative;}#sk-container-id-48 div.sk-item::before, #sk-container-id-48 div.sk-parallel-item::before {content: \"\";position: absolute;border-left: 1px solid gray;box-sizing: border-box;top: 0;bottom: 0;left: 50%;z-index: -1;}#sk-container-id-48 div.sk-parallel-item {display: flex;flex-direction: column;z-index: 1;position: relative;background-color: white;}#sk-container-id-48 div.sk-parallel-item:first-child::after {align-self: flex-end;width: 50%;}#sk-container-id-48 div.sk-parallel-item:last-child::after {align-self: flex-start;width: 50%;}#sk-container-id-48 div.sk-parallel-item:only-child::after {width: 0;}#sk-container-id-48 div.sk-dashed-wrapped {border: 1px dashed gray;margin: 0 0.4em 0.5em 0.4em;box-sizing: border-box;padding-bottom: 0.4em;background-color: white;}#sk-container-id-48 div.sk-label label {font-family: monospace;font-weight: bold;display: inline-block;line-height: 1.2em;}#sk-container-id-48 div.sk-label-container {text-align: center;}#sk-container-id-48 div.sk-container {/* jupyter's `normalize.less` sets `[hidden] { display: none; }` but bootstrap.min.css set `[hidden] { display: none !important; }` so we also need the `!important` here to be able to override the default hidden behavior on the sphinx rendered scikit-learn.org. See: https://github.com/scikit-learn/scikit-learn/issues/21755 */display: inline-block !important;position: relative;}#sk-container-id-48 div.sk-text-repr-fallback {display: none;}</style><div id=\"sk-container-id-48\" class=\"sk-top-container\"><div class=\"sk-text-repr-fallback\"><pre>SVC()</pre><b>In a Jupyter environment, please rerun this cell to show the HTML representation or trust the notebook. <br />On GitHub, the HTML representation is unable to render, please try loading this page with nbviewer.org.</b></div><div class=\"sk-container\" hidden><div class=\"sk-item\"><div class=\"sk-estimator sk-toggleable\"><input class=\"sk-toggleable__control sk-hidden--visually\" id=\"sk-estimator-id-116\" type=\"checkbox\" checked><label for=\"sk-estimator-id-116\" class=\"sk-toggleable__label sk-toggleable__label-arrow\">SVC</label><div class=\"sk-toggleable__content\"><pre>SVC()</pre></div></div></div></div></div>"
      ],
      "text/plain": [
       "SVC()"
      ]
     },
     "execution_count": 537,
     "metadata": {},
     "output_type": "execute_result"
    }
   ],
   "source": [
    "modelo_6 = SVC()\n",
    "modelo_6.fit(X5_train, Y5_train)"
   ]
  },
  {
   "cell_type": "markdown",
   "id": "0c3dba11",
   "metadata": {},
   "source": [
    "Entrenamiento modelo 6"
   ]
  },
  {
   "cell_type": "code",
   "execution_count": 538,
   "id": "4d584d6c",
   "metadata": {},
   "outputs": [
    {
     "name": "stdout",
     "output_type": "stream",
     "text": [
      "0.5074281539210911\n"
     ]
    },
    {
     "data": {
      "text/plain": [
       "<function matplotlib.pyplot.show(close=None, block=None)>"
      ]
     },
     "execution_count": 538,
     "metadata": {},
     "output_type": "execute_result"
    },
    {
     "data": {
      "image/png": "[encoded data removed]",
      "text/plain": [
       "<Figure size 640x480 with 2 Axes>"
      ]
     },
     "metadata": {},
     "output_type": "display_data"
    }
   ],
   "source": [
    "pred_train_6 = modelo_6.predict(X5_train)\n",
    "pred_test_6 = modelo_6.predict(X5_test)\n",
    "\n",
    "acc_train_6 = accuracy_score(Y5_train, pred_train_6)\n",
    "print(acc_train_6)\n",
    "\n",
    "mat_train_6 = confusion_matrix(Y5_train, pred_train_6)\n",
    "sb.heatmap(mat_train_6, annot = True, fmt = 'd')\n",
    "plt.show"
   ]
  },
  {
   "cell_type": "markdown",
   "id": "fa87766b",
   "metadata": {},
   "source": [
    "Prueba modelo 6"
   ]
  },
  {
   "cell_type": "code",
   "execution_count": 539,
   "id": "3b5065d6",
   "metadata": {},
   "outputs": [
    {
     "name": "stdout",
     "output_type": "stream",
     "text": [
      "0.5045459711330833\n"
     ]
    },
    {
     "data": {
      "text/plain": [
       "<function matplotlib.pyplot.show(close=None, block=None)>"
      ]
     },
     "execution_count": 539,
     "metadata": {},
     "output_type": "execute_result"
    },
    {
     "data": {
      "image/png": "[encoded data removed]",
      "text/plain": [
       "<Figure size 640x480 with 2 Axes>"
      ]
     },
     "metadata": {},
     "output_type": "display_data"
    }
   ],
   "source": [
    "acc_test_6 = accuracy_score(Y5_test, pred_test_6)\n",
    "print(acc_test_6)\n",
    "\n",
    "mat_test_6 = confusion_matrix(Y5_test, pred_test_6)\n",
    "sb.heatmap(mat_test_6, annot = True, fmt = 'd')\n",
    "plt.show"
   ]
  },
  {
   "cell_type": "markdown",
   "id": "33079806",
   "metadata": {},
   "source": [
    "## Red neuronal artificial"
   ]
  },
  {
   "cell_type": "code",
   "execution_count": 540,
   "id": "ada96bc6",
   "metadata": {},
   "outputs": [
    {
     "data": {
      "text/html": [
       "<style>#sk-container-id-49 {color: black;}#sk-container-id-49 pre{padding: 0;}#sk-container-id-49 div.sk-toggleable {background-color: white;}#sk-container-id-49 label.sk-toggleable__label {cursor: pointer;display: block;width: 100%;margin-bottom: 0;padding: 0.3em;box-sizing: border-box;text-align: center;}#sk-container-id-49 label.sk-toggleable__label-arrow:before {content: \"▸\";float: left;margin-right: 0.25em;color: #696969;}#sk-container-id-49 label.sk-toggleable__label-arrow:hover:before {color: black;}#sk-container-id-49 div.sk-estimator:hover label.sk-toggleable__label-arrow:before {color: black;}#sk-container-id-49 div.sk-toggleable__content {max-height: 0;max-width: 0;overflow: hidden;text-align: left;background-color: #f0f8ff;}#sk-container-id-49 div.sk-toggleable__content pre {margin: 0.2em;color: black;border-radius: 0.25em;background-color: #f0f8ff;}#sk-container-id-49 input.sk-toggleable__control:checked~div.sk-toggleable__content {max-height: 200px;max-width: 100%;overflow: auto;}#sk-container-id-49 input.sk-toggleable__control:checked~label.sk-toggleable__label-arrow:before {content: \"▾\";}#sk-container-id-49 div.sk-estimator input.sk-toggleable__control:checked~label.sk-toggleable__label {background-color: #d4ebff;}#sk-container-id-49 div.sk-label input.sk-toggleable__control:checked~label.sk-toggleable__label {background-color: #d4ebff;}#sk-container-id-49 input.sk-hidden--visually {border: 0;clip: rect(1px 1px 1px 1px);clip: rect(1px, 1px, 1px, 1px);height: 1px;margin: -1px;overflow: hidden;padding: 0;position: absolute;width: 1px;}#sk-container-id-49 div.sk-estimator {font-family: monospace;background-color: #f0f8ff;border: 1px dotted black;border-radius: 0.25em;box-sizing: border-box;margin-bottom: 0.5em;}#sk-container-id-49 div.sk-estimator:hover {background-color: #d4ebff;}#sk-container-id-49 div.sk-parallel-item::after {content: \"\";width: 100%;border-bottom: 1px solid gray;flex-grow: 1;}#sk-container-id-49 div.sk-label:hover label.sk-toggleable__label {background-color: #d4ebff;}#sk-container-id-49 div.sk-serial::before {content: \"\";position: absolute;border-left: 1px solid gray;box-sizing: border-box;top: 0;bottom: 0;left: 50%;z-index: 0;}#sk-container-id-49 div.sk-serial {display: flex;flex-direction: column;align-items: center;background-color: white;padding-right: 0.2em;padding-left: 0.2em;position: relative;}#sk-container-id-49 div.sk-item {position: relative;z-index: 1;}#sk-container-id-49 div.sk-parallel {display: flex;align-items: stretch;justify-content: center;background-color: white;position: relative;}#sk-container-id-49 div.sk-item::before, #sk-container-id-49 div.sk-parallel-item::before {content: \"\";position: absolute;border-left: 1px solid gray;box-sizing: border-box;top: 0;bottom: 0;left: 50%;z-index: -1;}#sk-container-id-49 div.sk-parallel-item {display: flex;flex-direction: column;z-index: 1;position: relative;background-color: white;}#sk-container-id-49 div.sk-parallel-item:first-child::after {align-self: flex-end;width: 50%;}#sk-container-id-49 div.sk-parallel-item:last-child::after {align-self: flex-start;width: 50%;}#sk-container-id-49 div.sk-parallel-item:only-child::after {width: 0;}#sk-container-id-49 div.sk-dashed-wrapped {border: 1px dashed gray;margin: 0 0.4em 0.5em 0.4em;box-sizing: border-box;padding-bottom: 0.4em;background-color: white;}#sk-container-id-49 div.sk-label label {font-family: monospace;font-weight: bold;display: inline-block;line-height: 1.2em;}#sk-container-id-49 div.sk-label-container {text-align: center;}#sk-container-id-49 div.sk-container {/* jupyter's `normalize.less` sets `[hidden] { display: none; }` but bootstrap.min.css set `[hidden] { display: none !important; }` so we also need the `!important` here to be able to override the default hidden behavior on the sphinx rendered scikit-learn.org. See: https://github.com/scikit-learn/scikit-learn/issues/21755 */display: inline-block !important;position: relative;}#sk-container-id-49 div.sk-text-repr-fallback {display: none;}</style><div id=\"sk-container-id-49\" class=\"sk-top-container\"><div class=\"sk-text-repr-fallback\"><pre>MLPClassifier()</pre><b>In a Jupyter environment, please rerun this cell to show the HTML representation or trust the notebook. <br />On GitHub, the HTML representation is unable to render, please try loading this page with nbviewer.org.</b></div><div class=\"sk-container\" hidden><div class=\"sk-item\"><div class=\"sk-estimator sk-toggleable\"><input class=\"sk-toggleable__control sk-hidden--visually\" id=\"sk-estimator-id-117\" type=\"checkbox\" checked><label for=\"sk-estimator-id-117\" class=\"sk-toggleable__label sk-toggleable__label-arrow\">MLPClassifier</label><div class=\"sk-toggleable__content\"><pre>MLPClassifier()</pre></div></div></div></div></div>"
      ],
      "text/plain": [
       "MLPClassifier()"
      ]
     },
     "execution_count": 540,
     "metadata": {},
     "output_type": "execute_result"
    }
   ],
   "source": [
    "modelo_7 = MLPClassifier()\n",
    "modelo_7.fit(X5_train, Y5_train)"
   ]
  },
  {
   "cell_type": "markdown",
   "id": "6b459957",
   "metadata": {},
   "source": [
    "Entrenamiento modelo 7"
   ]
  },
  {
   "cell_type": "code",
   "execution_count": 541,
   "id": "72e57a29",
   "metadata": {},
   "outputs": [
    {
     "name": "stdout",
     "output_type": "stream",
     "text": [
      "0.4995616171456405\n"
     ]
    },
    {
     "data": {
      "text/plain": [
       "<function matplotlib.pyplot.show(close=None, block=None)>"
      ]
     },
     "execution_count": 541,
     "metadata": {},
     "output_type": "execute_result"
    },
    {
     "data": {
      "image/png": "[encoded data removed]",
      "text/plain": [
       "<Figure size 640x480 with 2 Axes>"
      ]
     },
     "metadata": {},
     "output_type": "display_data"
    }
   ],
   "source": [
    "pred_train_7 = modelo_7.predict(X5_train)\n",
    "pred_test_7 = modelo_7.predict(X5_test)\n",
    "\n",
    "acc_train_7 = accuracy_score(Y5_train, pred_train_7)\n",
    "print(acc_train_7)\n",
    "\n",
    "mat_train_7 = confusion_matrix(Y5_train, pred_train_7)\n",
    "sb.heatmap(mat_train_7, annot = True, fmt = 'd')\n",
    "plt.show"
   ]
  },
  {
   "cell_type": "markdown",
   "id": "fac04ffa",
   "metadata": {},
   "source": [
    "Prueba modelo 7"
   ]
  },
  {
   "cell_type": "code",
   "execution_count": 542,
   "id": "655f4719",
   "metadata": {},
   "outputs": [
    {
     "name": "stdout",
     "output_type": "stream",
     "text": [
      "0.5010228435049437\n"
     ]
    },
    {
     "data": {
      "text/plain": [
       "<function matplotlib.pyplot.show(close=None, block=None)>"
      ]
     },
     "execution_count": 542,
     "metadata": {},
     "output_type": "execute_result"
    },
    {
     "data": {
      "image/png": "[encoded data removed]",
      "text/plain": [
       "<Figure size 640x480 with 2 Axes>"
      ]
     },
     "metadata": {},
     "output_type": "display_data"
    }
   ],
   "source": [
    "acc_test_7 = accuracy_score(Y5_test, pred_test_7)\n",
    "print(acc_test_7)\n",
    "\n",
    "mat_test_7 = confusion_matrix(Y5_test, pred_test_7)\n",
    "sb.heatmap(mat_test_7, annot = True, fmt = 'd')\n",
    "plt.show"
   ]
  },
  {
   "cell_type": "markdown",
   "id": "6238afd7",
   "metadata": {},
   "source": [
    "## Conclusión"
   ]
  },
  {
   "cell_type": "markdown",
   "id": "4bf9797b",
   "metadata": {},
   "source": [
    "Bajo ninguno de los modelos aplicados, regresión logística, máquina de soporte vectorial y red neuronal artificial, se logró predecir satisfactoriamente la calificación del cliente en base a si la fuente de los ingresos estaba verificada o no, pues la rata de éxito en cada uno de ellos fue de aproximadamente el 50%. Por lo tanto se determina que la empresa no tendría por qué verificar la fuente de ingresos de los solicitantes de préstamos."
   ]
  }
 ],
 "metadata": {
  "kernelspec": {
   "display_name": "Python 3 (ipykernel)",
   "language": "python",
   "name": "python3"
  },
  "language_info": {
   "codemirror_mode": {
    "name": "ipython",
    "version": 3
   },
   "file_extension": ".py",
   "mimetype": "text/x-python",
   "name": "python",
   "nbconvert_exporter": "python",
   "pygments_lexer": "ipython3",
   "version": "3.11.4"
  }
 },
 "nbformat": 4,
 "nbformat_minor": 5
}
