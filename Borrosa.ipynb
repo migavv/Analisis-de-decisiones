{
 "cells": [
  {
   "cell_type": "markdown",
   "id": "0e8f6fcb-8b83-4418-a26f-cb16f98b4283",
   "metadata": {},
   "source": [
    "1. determinar antecedentes (variables) y consecuentes (salidas)\n",
    "2. Declarar el universo de discurso (el rango donde puede existir la variable\n",
    "3. Definir conjuntos borrosos y funciones de pertenencia\n",
    "4. Crear la base de conocimiento\n",
    "5. Dibujar conjuntos borrosos\n",
    "\n",
    "- Cambios Lentos: sigmoideas y gaussianas\n",
    "- Cambios Rapidos: trapecios y triangulos\n",
    "- Pertenencia absoluta esperada: trapecios o doble sigmoidea\n",
    "- Pertenencia relativa: gaussianas y triangulares\n",
    "## Variables: \n",
    "Entradas:\n",
    "1. Velocidad km/h [0;1000]\n",
    "- Alta [400,500,600,600]\n",
    "- Media [200,350,450]\n",
    "- Baja [100,100,250,300]\n",
    "3. Angulo de turbulencia ° [-10;10]\n",
    "- Ascenso [1, 2, 5,5]\n",
    "- Nivel [-2,0,2]\n",
    "- Descenso [-5, -5,-2,-1]\n",
    "Salidas:\n",
    "1. Posicion del timon cm [0;10]\n",
    "- Muy alta [8,9,10,10]\n",
    "- Alta [6,7,9]\n",
    "- Media [4,5,7]\n",
    "- Baja [3,4,6]\n",
    "- Muy baja [0,0,1,3]\n",
    "## Base de conocimiento:\n",
    "Filas: Angulo\n",
    "Columnas: Velocidad\n",
    "\n",
    "|         | Alta    | Media  | Baja     |\r\n",
    "|---------|---------|--------|----------|\r\n",
    "| Ascenso | Baja    | Baja   | Baja     |\r\n",
    "| Nivel   | Media   | Media  | Media    |\r\n",
    "| Descenso| Alta    | Media  | Muy Alta |\r\n",
    " |\r\n",
    "a  |\r\n",
    "a  |9  |"
   ]
  },
  {
   "cell_type": "code",
   "execution_count": null,
   "id": "a53470a4-eede-4b6b-862d-9470c8bbc7e3",
   "metadata": {},
   "outputs": [],
   "source": []
  }
 ],
 "metadata": {
  "kernelspec": {
   "display_name": "Python 3 (ipykernel)",
   "language": "python",
   "name": "python3"
  },
  "language_info": {
   "codemirror_mode": {
    "name": "ipython",
    "version": 3
   },
   "file_extension": ".py",
   "mimetype": "text/x-python",
   "name": "python",
   "nbconvert_exporter": "python",
   "pygments_lexer": "ipython3",
   "version": "3.10.6"
  }
 },
 "nbformat": 4,
 "nbformat_minor": 5
}
