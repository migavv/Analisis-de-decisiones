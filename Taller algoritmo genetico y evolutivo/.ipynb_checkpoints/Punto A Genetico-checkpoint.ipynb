{
 "cells": [
  {
   "cell_type": "code",
   "execution_count": 1,
   "id": "fc7471b4-b9df-46d7-966d-6015933d565e",
   "metadata": {},
   "outputs": [],
   "source": [
    "import random\n",
    "import numpy as np\n",
    "import matplotlib.pyplot as plt\n",
    "from deap import base, creator, tools, algorithms\n",
    "import warnings\n",
    "warnings.filterwarnings(\"ignore\")"
   ]
  },
  {
   "cell_type": "markdown",
   "id": "1f52ca70-dbd0-4b57-871e-bb9a462e3b39",
   "metadata": {},
   "source": [
    "# Empresa de transporte"
   ]
  },
  {
   "cell_type": "code",
   "execution_count": 2,
   "id": "7fd6b5bb-e830-4a67-a6f3-6757c2d12097",
   "metadata": {},
   "outputs": [],
   "source": [
    "# Definimos cantidad de ventas, precio unitario, distancia y costo como variables del proceso de transporte\n",
    "cantidadVentas = np.array([1200, 2300, 700, 1800, 2000])\n",
    "preciosUnitarios = np.array([15000, 18000, 17000, 12000, 16000])\n",
    "distancias = np.array([1500, 2500, 800, 1600, 300])\n",
    "costos = np.array([400, 600, 1200, 500, 300])"
   ]
  },
  {
   "cell_type": "code",
   "execution_count": 3,
   "id": "5c1bfc06-3957-449b-9960-d831314db0a0",
   "metadata": {},
   "outputs": [],
   "source": [
    "# Declarar los contenedores para los operadores genéticos\n",
    "toolbox = base.Toolbox()\n",
    "creator.create('FitnessMax', base.Fitness, weights = (1.0,))\n",
    "creator.create('Individual', list, fitness = creator.FitnessMax)\n",
    "toolbox.register('attribute', random.randint, 0, 1)\n",
    "# Cada individuo contará con 5 genes, indicando cada tienda. Ya que necesita la mejor relación de tiendas.\n",
    "toolbox.register('individual', tools.initRepeat, creator.Individual, toolbox.attribute, n = 5)\n",
    "toolbox.register('population', tools.initRepeat, list, toolbox.individual)"
   ]
  },
  {
   "cell_type": "markdown",
   "id": "cd33d05e-feca-43b8-9fdc-21838877f0aa",
   "metadata": {},
   "source": [
    "# Confirmar individuo y poblacion"
   ]
  },
  {
   "cell_type": "code",
   "execution_count": 4,
   "id": "4cf57f21-e739-42ae-a73c-883559cf4485",
   "metadata": {},
   "outputs": [
    {
     "name": "stdout",
     "output_type": "stream",
     "text": [
      "Individuo:  [0, 1, 1, 0, 1]\n",
      "Población:  [[0, 1, 0, 0, 1], [0, 0, 0, 1, 0], [1, 0, 1, 1, 1], [1, 0, 1, 1, 1], [1, 0, 0, 0, 1], [1, 0, 1, 1, 0], [0, 1, 1, 0, 1], [0, 0, 1, 0, 1], [1, 0, 0, 0, 0], [0, 0, 1, 1, 0], [0, 1, 0, 0, 1], [1, 1, 1, 0, 0], [1, 1, 0, 1, 1], [1, 1, 1, 0, 0], [0, 1, 1, 1, 0], [0, 0, 0, 0, 1], [1, 1, 0, 0, 1], [0, 1, 0, 0, 0], [0, 1, 0, 1, 1], [0, 1, 1, 1, 1], [1, 1, 0, 1, 0], [0, 0, 1, 0, 1], [0, 0, 0, 1, 0], [0, 1, 0, 1, 1], [1, 0, 1, 0, 1], [0, 1, 1, 0, 0], [1, 1, 0, 1, 1], [1, 0, 0, 0, 0], [1, 0, 1, 1, 1], [1, 0, 0, 0, 0], [1, 0, 0, 0, 0], [0, 1, 0, 1, 0], [0, 0, 0, 1, 0], [1, 1, 0, 0, 0], [1, 1, 1, 1, 0], [0, 0, 1, 0, 1], [1, 1, 1, 1, 0], [0, 0, 1, 1, 0], [1, 1, 1, 0, 1], [1, 0, 1, 1, 0], [0, 1, 1, 1, 0], [1, 0, 1, 0, 1], [0, 1, 1, 1, 1], [0, 0, 0, 1, 1], [1, 1, 0, 0, 0], [0, 1, 0, 1, 0], [0, 1, 0, 1, 1], [1, 0, 1, 0, 0], [0, 0, 0, 0, 0], [0, 1, 0, 0, 1], [1, 0, 1, 1, 1], [0, 0, 0, 0, 0], [1, 0, 1, 0, 0], [0, 1, 0, 1, 0], [1, 1, 0, 0, 1], [0, 0, 1, 0, 0], [1, 1, 1, 1, 1], [1, 1, 1, 1, 1], [1, 1, 1, 0, 0], [1, 1, 1, 1, 0], [0, 0, 0, 1, 0], [1, 1, 1, 1, 0], [0, 0, 0, 1, 1], [1, 1, 1, 1, 1], [1, 0, 1, 1, 1], [1, 1, 1, 0, 1], [1, 0, 0, 0, 0], [1, 1, 0, 1, 0], [0, 1, 1, 1, 0], [1, 0, 0, 0, 1], [0, 0, 1, 0, 0], [1, 1, 0, 0, 1], [1, 0, 0, 0, 0], [0, 0, 0, 1, 1], [1, 1, 0, 0, 1], [1, 0, 1, 0, 0], [1, 0, 0, 1, 0], [0, 1, 1, 1, 0], [0, 0, 1, 1, 1], [0, 0, 1, 0, 0], [0, 1, 0, 1, 0], [1, 1, 1, 1, 1], [0, 1, 1, 1, 1], [0, 0, 1, 1, 0], [1, 0, 1, 0, 1], [0, 0, 0, 1, 0], [0, 0, 1, 0, 1], [1, 1, 1, 0, 1], [0, 0, 1, 0, 0], [0, 1, 1, 1, 0], [1, 1, 0, 1, 0], [0, 0, 1, 0, 0], [0, 1, 1, 0, 0], [1, 1, 1, 0, 1], [1, 0, 0, 0, 0], [1, 0, 0, 0, 1], [0, 0, 0, 0, 1], [1, 0, 1, 1, 1], [0, 0, 1, 1, 0], [0, 0, 0, 1, 1]]\n"
     ]
    }
   ],
   "source": [
    "# Generamos un individuo\n",
    "ind = toolbox.individual()\n",
    "print('Individuo: ', ind)\n",
    "\n",
    "# Generamos una población (100 individuos)\n",
    "pop = toolbox.population(n = 100)\n",
    "print('Población: ', pop)"
   ]
  },
  {
   "cell_type": "markdown",
   "id": "d3739ec0-34ce-4f89-958d-8c2e6892fd64",
   "metadata": {},
   "source": [
    "# Crear funcion de adaptabilidad"
   ]
  },
  {
   "cell_type": "code",
   "execution_count": 5,
   "id": "bfccbb77-34d4-40f8-b14a-65b0d560b357",
   "metadata": {},
   "outputs": [],
   "source": [
    "def evaluarUtilidad(individual):\n",
    "  utilidad = (preciosUnitarios * cantidadVentas) - (individual * costos)\n",
    "  return np.dot(utilidad, individual),"
   ]
  },
  {
   "cell_type": "markdown",
   "id": "1f113941-c49c-41d3-8f96-ac86f2225c4b",
   "metadata": {},
   "source": [
    "# Confirmar funcion de adaptabilidad"
   ]
  },
  {
   "cell_type": "code",
   "execution_count": 8,
   "id": "ee055c6e-db84-49b0-b55a-93c70e66dc4f",
   "metadata": {},
   "outputs": [
    {
     "name": "stdout",
     "output_type": "stream",
     "text": [
      "Individuo previo a evaluar\n",
      "[1, 0, 0, 1, 1]\n",
      "False\n",
      "Individuo evaluado\n",
      "True\n",
      "(71598800.0,)\n"
     ]
    }
   ],
   "source": [
    "ind = toolbox.individual()\n",
    "print(\"Individuo previo a evaluar\")\n",
    "print(ind)\n",
    "print(ind.fitness.valid)\n",
    "ind.fitness.values = evaluarUtilidad(ind)\n",
    "print(\"Individuo evaluado\")\n",
    "print(ind.fitness.valid)\n",
    "print(ind.fitness)"
   ]
  },
  {
   "cell_type": "markdown",
   "id": "b3b8ea35-23da-4a12-bad2-ce14ad408208",
   "metadata": {},
   "source": [
    "# Definir los operadores geneticos"
   ]
  },
  {
   "cell_type": "code",
   "execution_count": 11,
   "id": "7d6b4c47-2a02-435a-b128-44c8e551259e",
   "metadata": {},
   "outputs": [],
   "source": [
    "# Selección por torneo\n",
    "toolbox.register('select', tools.selTournament, tournsize = 3)\n",
    "# Cruce de un punto\n",
    "toolbox.register('mate', tools.cxOnePoint)\n",
    "# Mutación de un bit\n",
    "toolbox.register('mutate', tools.mutFlipBit, indpb = 0.2)\n",
    "# Adaptabilidad\n",
    "toolbox.register('evaluate', evaluarUtilidad)"
   ]
  },
  {
   "cell_type": "markdown",
   "id": "609a4f11-3c3b-4b4b-9723-d2fe951d75c8",
   "metadata": {},
   "source": [
    "# Configuracion de los estadisticos de analisis"
   ]
  },
  {
   "cell_type": "code",
   "execution_count": 12,
   "id": "f454701f-5fd5-4916-953e-4eb87f9004ed",
   "metadata": {},
   "outputs": [],
   "source": [
    "stats = tools.Statistics(lambda ind: ind.fitness.values)\n",
    "stats.register('Promedio', np.mean)\n",
    "stats.register('Desviación', np.std)\n",
    "stats.register('Mínimo', np.min)\n",
    "stats.register('Máximo', np.max)"
   ]
  },
  {
   "cell_type": "markdown",
   "id": "b3985aef-1409-404b-b0c4-6afc3f2a91d8",
   "metadata": {},
   "source": [
    "# Configuracion de la evolucion de las poblaciones"
   ]
  },
  {
   "cell_type": "code",
   "execution_count": 13,
   "id": "62e94df1-21e1-4f4c-a56d-36b4b2cf9117",
   "metadata": {},
   "outputs": [
    {
     "name": "stdout",
     "output_type": "stream",
     "text": [
      "El resultado de la evolución es:\n",
      "gen\tnevals\tPromedio   \tDesviación \tMínimo     \tMáximo     \n",
      "0  \t100   \t6.02245e+07\t3.10183e+07\t0          \t1.24897e+08\n",
      "1  \t59    \t8.26092e+07\t2.09109e+07\t3.34983e+07\t1.24897e+08\n",
      "2  \t51    \t9.79659e+07\t1.87576e+07\t3.95991e+07\t1.24897e+08\n",
      "3  \t59    \t1.08929e+08\t1.80628e+07\t3.19997e+07\t1.24897e+08\n",
      "4  \t61    \t1.16231e+08\t1.64544e+07\t4.99993e+07\t1.24897e+08\n",
      "5  \t56    \t1.19256e+08\t1.51918e+07\t4.38985e+07\t1.24897e+08\n",
      "6  \t68    \t1.20741e+08\t1.49616e+07\t3.34983e+07\t1.24897e+08\n",
      "7  \t64    \t1.19755e+08\t1.54064e+07\t2.98984e+07\t1.24897e+08\n",
      "8  \t63    \t1.19771e+08\t1.41751e+07\t5.14979e+07\t1.24897e+08\n",
      "9  \t63    \t1.17875e+08\t2.02658e+07\t1.18988e+07\t1.24897e+08\n",
      "10 \t64    \t1.17079e+08\t1.93729e+07\t2.98984e+07\t1.24897e+08\n",
      "11 \t64    \t1.2145e+08 \t1.0654e+07 \t7.48977e+07\t1.24897e+08\n",
      "12 \t65    \t1.2079e+08 \t1.28497e+07\t3.95991e+07\t1.24897e+08\n",
      "13 \t54    \t1.19642e+08\t1.55887e+07\t4.99993e+07\t1.24897e+08\n",
      "14 \t59    \t1.18832e+08\t1.5111e+07 \t6.18981e+07\t1.24897e+08\n",
      "15 \t69    \t1.21557e+08\t1.11338e+07\t5.9399e+07 \t1.24897e+08\n",
      "16 \t60    \t1.18798e+08\t1.67163e+07\t3.34983e+07\t1.24897e+08\n",
      "17 \t62    \t1.17663e+08\t1.86289e+07\t3.34983e+07\t1.24897e+08\n",
      "18 \t59    \t1.20333e+08\t1.25405e+07\t5.35992e+07\t1.24897e+08\n",
      "19 \t60    \t1.1925e+08 \t1.45924e+07\t5.14979e+07\t1.24897e+08\n",
      "20 \t54    \t1.17954e+08\t1.88128e+07\t1.18988e+07\t1.24897e+08\n",
      "21 \t68    \t1.16547e+08\t2.00508e+07\t3.34983e+07\t1.24897e+08\n",
      "22 \t63    \t1.22331e+08\t9.96042e+06\t7.15988e+07\t1.24897e+08\n",
      "23 \t47    \t1.2147e+08 \t1.23429e+07\t5.14979e+07\t1.24897e+08\n",
      "24 \t69    \t1.17565e+08\t2.11123e+07\t0          \t1.24897e+08\n",
      "25 \t56    \t1.19043e+08\t1.58628e+07\t3.34983e+07\t1.24897e+08\n",
      "26 \t55    \t1.202e+08  \t1.41816e+07\t5.14979e+07\t1.24897e+08\n",
      "27 \t56    \t1.21777e+08\t1.0983e+07 \t5.9399e+07 \t1.24897e+08\n",
      "28 \t63    \t1.21455e+08\t1.13995e+07\t7.15988e+07\t1.24897e+08\n",
      "29 \t55    \t1.17755e+08\t1.70541e+07\t3.95991e+07\t1.24897e+08\n",
      "30 \t61    \t1.22374e+08\t8.37366e+06\t8.34976e+07\t1.24897e+08\n",
      "31 \t74    \t1.16281e+08\t2.06266e+07\t3.34983e+07\t1.24897e+08\n",
      "32 \t72    \t1.16583e+08\t1.77557e+07\t3.95991e+07\t1.24897e+08\n",
      "33 \t55    \t1.18385e+08\t1.62439e+07\t5.14979e+07\t1.24897e+08\n",
      "34 \t72    \t1.20737e+08\t1.31425e+07\t3.34983e+07\t1.24897e+08\n",
      "35 \t59    \t1.16809e+08\t2.17603e+07\t1.18988e+07\t1.24897e+08\n",
      "36 \t48    \t1.21146e+08\t1.28065e+07\t5.14979e+07\t1.24897e+08\n",
      "37 \t44    \t1.187e+08  \t1.63538e+07\t5.14979e+07\t1.24897e+08\n",
      "38 \t49    \t1.21805e+08\t1.0755e+07 \t7.12978e+07\t1.24897e+08\n",
      "39 \t59    \t1.21856e+08\t1.01401e+07\t7.12978e+07\t1.24897e+08\n",
      "40 \t65    \t1.20035e+08\t1.63853e+07\t2.98984e+07\t1.24897e+08\n",
      "41 \t60    \t1.21333e+08\t1.18415e+07\t5.14979e+07\t1.24897e+08\n",
      "42 \t59    \t1.19747e+08\t1.50875e+07\t5.14979e+07\t1.24897e+08\n",
      "43 \t60    \t1.19934e+08\t1.48078e+07\t3.34983e+07\t1.24897e+08\n",
      "44 \t68    \t1.20876e+08\t1.33383e+07\t5.32982e+07\t1.24897e+08\n",
      "45 \t72    \t1.18964e+08\t1.6393e+07 \t2.98984e+07\t1.24897e+08\n",
      "46 \t61    \t1.17865e+08\t1.89171e+07\t2.98984e+07\t1.24897e+08\n",
      "47 \t67    \t1.16622e+08\t1.81902e+07\t5.14979e+07\t1.24897e+08\n",
      "48 \t64    \t1.19958e+08\t1.19321e+07\t7.15988e+07\t1.24897e+08\n",
      "49 \t69    \t1.20928e+08\t1.25506e+07\t6.29989e+07\t1.24897e+08\n",
      "50 \t65    \t1.20115e+08\t1.42482e+07\t5.14979e+07\t1.24897e+08\n"
     ]
    }
   ],
   "source": [
    "# Inicializar la población con 100 individuos\n",
    "population = toolbox.population(n = 100)\n",
    "\n",
    "#Implementar el cálculo de las 50 generaciones\n",
    "population, logbook = algorithms.eaSimple(population, toolbox, cxpb= 0.5, mutpb = 0.2, \n",
    "                                          ngen = 50, verbose= False, stats = stats)\n",
    "print('El resultado de la evolución es:')\n",
    "print(logbook)\n"
   ]
  },
  {
   "cell_type": "code",
   "execution_count": 14,
   "id": "32c30666-b984-499d-b212-03a6a4713af8",
   "metadata": {},
   "outputs": [
    {
     "name": "stdout",
     "output_type": "stream",
     "text": [
      "La mejor solución es: \n",
      "[1, 1, 1, 1, 1]\n"
     ]
    }
   ],
   "source": [
    "print('La mejor solución es: ')\n",
    "print(tools.selBest(population, 1)[0])"
   ]
  },
  {
   "cell_type": "markdown",
   "id": "e126b481-b17e-4e9f-b2b6-fa29177877f1",
   "metadata": {},
   "source": [
    "# Grafico de la evolucion del algoritmo"
   ]
  },
  {
   "cell_type": "code",
   "execution_count": 15,
   "id": "14decf93-8aeb-4b25-8258-772251153819",
   "metadata": {},
   "outputs": [
    {
     "data": {
      "image/png": "[encoded data removed]",
      "text/plain": [
       "<Figure size 640x480 with 1 Axes>"
      ]
     },
     "metadata": {},
     "output_type": "display_data"
    }
   ],
   "source": [
    "gen = logbook.select('gen')\n",
    "avgs = logbook.select('Promedio')\n",
    "stddev = logbook.select('Desviación')\n",
    "min = logbook.select('Mínimo')\n",
    "max = logbook.select('Máximo')\n",
    "\n",
    "plt.plot(gen, avgs, stddev)\n",
    "plt.xlabel('Generaciones')\n",
    "plt.ylabel('Adaptabilidad')\n",
    "plt.show()"
   ]
  },
  {
   "cell_type": "code",
   "execution_count": null,
   "id": "ec63119f-3958-4978-9be2-65b43db62dd4",
   "metadata": {},
   "outputs": [],
   "source": []
  }
 ],
 "metadata": {
  "kernelspec": {
   "display_name": "Python 3 (ipykernel)",
   "language": "python",
   "name": "python3"
  },
  "language_info": {
   "codemirror_mode": {
    "name": "ipython",
    "version": 3
   },
   "file_extension": ".py",
   "mimetype": "text/x-python",
   "name": "python",
   "nbconvert_exporter": "python",
   "pygments_lexer": "ipython3",
   "version": "3.10.6"
  }
 },
 "nbformat": 4,
 "nbformat_minor": 5
}
