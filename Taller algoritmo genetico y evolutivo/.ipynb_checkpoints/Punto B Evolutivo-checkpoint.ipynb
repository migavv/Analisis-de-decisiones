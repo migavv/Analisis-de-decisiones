{
 "cells": [
  {
   "cell_type": "markdown",
   "id": "ae452bee",
   "metadata": {},
   "source": [
    "# Importar Librerías"
   ]
  },
  {
   "cell_type": "code",
   "execution_count": 80,
   "id": "49891913",
   "metadata": {},
   "outputs": [],
   "source": [
    "#Uso de datos\n",
    "import pandas as pd\n",
    "import numpy as np\n",
    "import yfinance as yf\n",
    "\n",
    "#Gráficos\n",
    "import matplotlib.pyplot as plt\n",
    "\n",
    "#Algoritmos evolutivos\n",
    "import random\n",
    "from deap import base, creator, tools, algorithms\n",
    "\n",
    "#Advertencias\n",
    "import warnings\n",
    "warnings.filterwarnings('ignore')"
   ]
  },
  {
   "cell_type": "markdown",
   "id": "e54d483f",
   "metadata": {},
   "source": [
    "# b)"
   ]
  },
  {
   "cell_type": "code",
   "execution_count": 106,
   "id": "db613736",
   "metadata": {},
   "outputs": [],
   "source": [
    "#Definición de variables del problema\n",
    "n_ventas = [1200, 2300, 700, 1800, 2000]\n",
    "precio = [15000, 18000, 17000, 12000, 16000]\n",
    "distancia = [1500, 2500, 800, 1600, 300]\n",
    "costo = [400, 600, 1200, 500, 300]"
   ]
  },
  {
   "cell_type": "code",
   "execution_count": 107,
   "id": "fb08f595",
   "metadata": {},
   "outputs": [],
   "source": [
    "#Función de adaptabilidad\n",
    "def evaluarBeneficio(individual):\n",
    "    beneficio = 0.0\n",
    "    beneficio = np.dot(n_ventas, precio) - np.dot(costo, individual)\n",
    "    return beneficio,"
   ]
  },
  {
   "cell_type": "code",
   "execution_count": 108,
   "id": "14937530",
   "metadata": {},
   "outputs": [],
   "source": [
    "#Declarar el contenedor de operadores geneticos\n",
    "toolbox = base.Toolbox()"
   ]
  },
  {
   "cell_type": "code",
   "execution_count": 109,
   "id": "8c3f25bd",
   "metadata": {},
   "outputs": [],
   "source": [
    "#Crear la clase funcion de adaptabilidad y la clase individuo\n",
    "creator.create(\"FitnessMax\", base.Fitness, weights = (1.0, ))\n",
    "creator.create(\"Individual\", list, fitness = creator.FitnessMax)"
   ]
  },
  {
   "cell_type": "code",
   "execution_count": 110,
   "id": "e38345ac",
   "metadata": {},
   "outputs": [],
   "source": [
    "#Construir los mecanismos para el individuo y la poblacion\n",
    "toolbox.register(\"attribute\", random.uniform, 300, 1500)\n",
    "toolbox.register(\"individual\", tools.initRepeat, creator.Individual, toolbox.attribute, n = 5) \n",
    "toolbox.register(\"population\", tools.initRepeat, list, toolbox.individual)"
   ]
  },
  {
   "cell_type": "code",
   "execution_count": 111,
   "id": "b84760da",
   "metadata": {},
   "outputs": [
    {
     "name": "stdout",
     "output_type": "stream",
     "text": [
      "[555.1793034665523, 730.7500439938319, 616.7179976157215, 906.6516117246539, 791.9875435565849]\n",
      "(122808494.58614892,)\n"
     ]
    }
   ],
   "source": [
    "#Comprobar individuo, poblacion y adaptabilidad\n",
    "ind = toolbox.individual()\n",
    "print(ind)\n",
    "ind.fitness.values = evaluarBeneficio(ind)\n",
    "print(ind.fitness.values)"
   ]
  },
  {
   "cell_type": "code",
   "execution_count": 112,
   "id": "87762982",
   "metadata": {},
   "outputs": [],
   "source": [
    "#Crear los operadores geneticos\n",
    "toolbox.register(\"evaluate\", evaluarBeneficio,)\n",
    "toolbox.register(\"select\", tools.selTournament, tournsize = 3)\n",
    "toolbox.register(\"mate\", tools.cxUniform, indpb = 0.5)\n",
    "toolbox.register(\"mutate\", tools.mutUniformInt, low = 500, up = 1000, indpb = 0.3)"
   ]
  },
  {
   "cell_type": "code",
   "execution_count": 113,
   "id": "bbbaae04",
   "metadata": {},
   "outputs": [],
   "source": [
    "#Construir el algoritmo evolutuvo\n",
    "tam_poblacion = 50\n",
    "cantidad_generaciones = 20"
   ]
  },
  {
   "cell_type": "code",
   "execution_count": 114,
   "id": "ae1b124b",
   "metadata": {},
   "outputs": [],
   "source": [
    "#Estadisticos de operacion del algoritmo\n",
    "stats = tools.Statistics(lambda ind: ind.fitness.values)\n",
    "stats.register(\"promedio\", np.mean)\n",
    "stats.register(\"desviacion\", np.std)\n",
    "stats.register(\"minimo\", np.min)\n",
    "stats.register(\"maximo\", np.max)"
   ]
  },
  {
   "cell_type": "code",
   "execution_count": 115,
   "id": "f7e1dfec",
   "metadata": {},
   "outputs": [],
   "source": [
    "population = toolbox.population(n = tam_poblacion)\n",
    "population, logbook = algorithms.eaSimple(population, toolbox, cxpb = 0.5, mutpb = 0.3,\n",
    "                                          ngen = cantidad_generaciones, stats = stats,\n",
    "                                         verbose = False)"
   ]
  },
  {
   "cell_type": "code",
   "execution_count": 116,
   "id": "fbfff237",
   "metadata": {},
   "outputs": [
    {
     "name": "stdout",
     "output_type": "stream",
     "text": [
      "El resultado de la evolucion es: \n"
     ]
    },
    {
     "data": {
      "text/html": [
       "<div>\n",
       "<style scoped>\n",
       "    .dataframe tbody tr th:only-of-type {\n",
       "        vertical-align: middle;\n",
       "    }\n",
       "\n",
       "    .dataframe tbody tr th {\n",
       "        vertical-align: top;\n",
       "    }\n",
       "\n",
       "    .dataframe thead th {\n",
       "        text-align: right;\n",
       "    }\n",
       "</style>\n",
       "<table border=\"1\" class=\"dataframe\">\n",
       "  <thead>\n",
       "    <tr style=\"text-align: right;\">\n",
       "      <th></th>\n",
       "      <th>gen</th>\n",
       "      <th>nevals</th>\n",
       "      <th>promedio</th>\n",
       "      <th>desviacion</th>\n",
       "      <th>minimo</th>\n",
       "      <th>maximo</th>\n",
       "    </tr>\n",
       "  </thead>\n",
       "  <tbody>\n",
       "    <tr>\n",
       "      <th>0</th>\n",
       "      <td>0</td>\n",
       "      <td>50</td>\n",
       "      <td>1.223252e+08</td>\n",
       "      <td>585494.806048</td>\n",
       "      <td>1.212095e+08</td>\n",
       "      <td>1.233744e+08</td>\n",
       "    </tr>\n",
       "    <tr>\n",
       "      <th>1</th>\n",
       "      <td>1</td>\n",
       "      <td>29</td>\n",
       "      <td>1.227769e+08</td>\n",
       "      <td>336263.974865</td>\n",
       "      <td>1.217437e+08</td>\n",
       "      <td>1.233744e+08</td>\n",
       "    </tr>\n",
       "    <tr>\n",
       "      <th>2</th>\n",
       "      <td>2</td>\n",
       "      <td>40</td>\n",
       "      <td>1.229778e+08</td>\n",
       "      <td>277476.796627</td>\n",
       "      <td>1.220653e+08</td>\n",
       "      <td>1.236678e+08</td>\n",
       "    </tr>\n",
       "    <tr>\n",
       "      <th>3</th>\n",
       "      <td>3</td>\n",
       "      <td>28</td>\n",
       "      <td>1.231264e+08</td>\n",
       "      <td>225347.678361</td>\n",
       "      <td>1.226237e+08</td>\n",
       "      <td>1.236678e+08</td>\n",
       "    </tr>\n",
       "    <tr>\n",
       "      <th>4</th>\n",
       "      <td>4</td>\n",
       "      <td>33</td>\n",
       "      <td>1.232193e+08</td>\n",
       "      <td>246136.820768</td>\n",
       "      <td>1.225544e+08</td>\n",
       "      <td>1.236784e+08</td>\n",
       "    </tr>\n",
       "    <tr>\n",
       "      <th>5</th>\n",
       "      <td>5</td>\n",
       "      <td>31</td>\n",
       "      <td>1.233981e+08</td>\n",
       "      <td>243662.341394</td>\n",
       "      <td>1.224884e+08</td>\n",
       "      <td>1.236784e+08</td>\n",
       "    </tr>\n",
       "    <tr>\n",
       "      <th>6</th>\n",
       "      <td>6</td>\n",
       "      <td>32</td>\n",
       "      <td>1.235275e+08</td>\n",
       "      <td>187358.228007</td>\n",
       "      <td>1.228083e+08</td>\n",
       "      <td>1.237143e+08</td>\n",
       "    </tr>\n",
       "    <tr>\n",
       "      <th>7</th>\n",
       "      <td>7</td>\n",
       "      <td>28</td>\n",
       "      <td>1.235568e+08</td>\n",
       "      <td>250688.717308</td>\n",
       "      <td>1.225830e+08</td>\n",
       "      <td>1.237181e+08</td>\n",
       "    </tr>\n",
       "    <tr>\n",
       "      <th>8</th>\n",
       "      <td>8</td>\n",
       "      <td>34</td>\n",
       "      <td>1.236005e+08</td>\n",
       "      <td>170608.101180</td>\n",
       "      <td>1.228678e+08</td>\n",
       "      <td>1.237181e+08</td>\n",
       "    </tr>\n",
       "    <tr>\n",
       "      <th>9</th>\n",
       "      <td>9</td>\n",
       "      <td>40</td>\n",
       "      <td>1.235518e+08</td>\n",
       "      <td>206368.933251</td>\n",
       "      <td>1.228796e+08</td>\n",
       "      <td>1.237181e+08</td>\n",
       "    </tr>\n",
       "    <tr>\n",
       "      <th>10</th>\n",
       "      <td>10</td>\n",
       "      <td>34</td>\n",
       "      <td>1.235333e+08</td>\n",
       "      <td>240398.857388</td>\n",
       "      <td>1.228305e+08</td>\n",
       "      <td>1.237233e+08</td>\n",
       "    </tr>\n",
       "    <tr>\n",
       "      <th>11</th>\n",
       "      <td>11</td>\n",
       "      <td>31</td>\n",
       "      <td>1.236139e+08</td>\n",
       "      <td>144290.598546</td>\n",
       "      <td>1.231863e+08</td>\n",
       "      <td>1.237316e+08</td>\n",
       "    </tr>\n",
       "    <tr>\n",
       "      <th>12</th>\n",
       "      <td>12</td>\n",
       "      <td>32</td>\n",
       "      <td>1.235816e+08</td>\n",
       "      <td>238898.053653</td>\n",
       "      <td>1.227952e+08</td>\n",
       "      <td>1.237510e+08</td>\n",
       "    </tr>\n",
       "    <tr>\n",
       "      <th>13</th>\n",
       "      <td>13</td>\n",
       "      <td>31</td>\n",
       "      <td>1.236435e+08</td>\n",
       "      <td>196534.121928</td>\n",
       "      <td>1.227375e+08</td>\n",
       "      <td>1.237645e+08</td>\n",
       "    </tr>\n",
       "    <tr>\n",
       "      <th>14</th>\n",
       "      <td>14</td>\n",
       "      <td>35</td>\n",
       "      <td>1.236682e+08</td>\n",
       "      <td>167604.945900</td>\n",
       "      <td>1.228958e+08</td>\n",
       "      <td>1.237645e+08</td>\n",
       "    </tr>\n",
       "    <tr>\n",
       "      <th>15</th>\n",
       "      <td>15</td>\n",
       "      <td>33</td>\n",
       "      <td>1.236177e+08</td>\n",
       "      <td>240192.258879</td>\n",
       "      <td>1.228062e+08</td>\n",
       "      <td>1.237645e+08</td>\n",
       "    </tr>\n",
       "    <tr>\n",
       "      <th>16</th>\n",
       "      <td>16</td>\n",
       "      <td>36</td>\n",
       "      <td>1.236329e+08</td>\n",
       "      <td>242508.595641</td>\n",
       "      <td>1.228578e+08</td>\n",
       "      <td>1.237645e+08</td>\n",
       "    </tr>\n",
       "    <tr>\n",
       "      <th>17</th>\n",
       "      <td>17</td>\n",
       "      <td>33</td>\n",
       "      <td>1.236521e+08</td>\n",
       "      <td>232478.514248</td>\n",
       "      <td>1.226674e+08</td>\n",
       "      <td>1.237645e+08</td>\n",
       "    </tr>\n",
       "    <tr>\n",
       "      <th>18</th>\n",
       "      <td>18</td>\n",
       "      <td>37</td>\n",
       "      <td>1.236386e+08</td>\n",
       "      <td>233364.014316</td>\n",
       "      <td>1.227080e+08</td>\n",
       "      <td>1.237645e+08</td>\n",
       "    </tr>\n",
       "    <tr>\n",
       "      <th>19</th>\n",
       "      <td>19</td>\n",
       "      <td>33</td>\n",
       "      <td>1.237013e+08</td>\n",
       "      <td>144880.211800</td>\n",
       "      <td>1.231680e+08</td>\n",
       "      <td>1.237645e+08</td>\n",
       "    </tr>\n",
       "    <tr>\n",
       "      <th>20</th>\n",
       "      <td>20</td>\n",
       "      <td>30</td>\n",
       "      <td>1.236164e+08</td>\n",
       "      <td>235012.365208</td>\n",
       "      <td>1.229365e+08</td>\n",
       "      <td>1.237645e+08</td>\n",
       "    </tr>\n",
       "  </tbody>\n",
       "</table>\n",
       "</div>"
      ],
      "text/plain": [
       "    gen  nevals      promedio     desviacion        minimo        maximo\n",
       "0     0      50  1.223252e+08  585494.806048  1.212095e+08  1.233744e+08\n",
       "1     1      29  1.227769e+08  336263.974865  1.217437e+08  1.233744e+08\n",
       "2     2      40  1.229778e+08  277476.796627  1.220653e+08  1.236678e+08\n",
       "3     3      28  1.231264e+08  225347.678361  1.226237e+08  1.236678e+08\n",
       "4     4      33  1.232193e+08  246136.820768  1.225544e+08  1.236784e+08\n",
       "5     5      31  1.233981e+08  243662.341394  1.224884e+08  1.236784e+08\n",
       "6     6      32  1.235275e+08  187358.228007  1.228083e+08  1.237143e+08\n",
       "7     7      28  1.235568e+08  250688.717308  1.225830e+08  1.237181e+08\n",
       "8     8      34  1.236005e+08  170608.101180  1.228678e+08  1.237181e+08\n",
       "9     9      40  1.235518e+08  206368.933251  1.228796e+08  1.237181e+08\n",
       "10   10      34  1.235333e+08  240398.857388  1.228305e+08  1.237233e+08\n",
       "11   11      31  1.236139e+08  144290.598546  1.231863e+08  1.237316e+08\n",
       "12   12      32  1.235816e+08  238898.053653  1.227952e+08  1.237510e+08\n",
       "13   13      31  1.236435e+08  196534.121928  1.227375e+08  1.237645e+08\n",
       "14   14      35  1.236682e+08  167604.945900  1.228958e+08  1.237645e+08\n",
       "15   15      33  1.236177e+08  240192.258879  1.228062e+08  1.237645e+08\n",
       "16   16      36  1.236329e+08  242508.595641  1.228578e+08  1.237645e+08\n",
       "17   17      33  1.236521e+08  232478.514248  1.226674e+08  1.237645e+08\n",
       "18   18      37  1.236386e+08  233364.014316  1.227080e+08  1.237645e+08\n",
       "19   19      33  1.237013e+08  144880.211800  1.231680e+08  1.237645e+08\n",
       "20   20      30  1.236164e+08  235012.365208  1.229365e+08  1.237645e+08"
      ]
     },
     "execution_count": 116,
     "metadata": {},
     "output_type": "execute_result"
    }
   ],
   "source": [
    "print(\"El resultado de la evolucion es: \")\n",
    "estadisticas = pd.DataFrame(logbook)\n",
    "estadisticas"
   ]
  },
  {
   "cell_type": "markdown",
   "id": "a09a6825",
   "metadata": {},
   "source": [
    "# Resultado"
   ]
  },
  {
   "cell_type": "code",
   "execution_count": 117,
   "id": "1f9eaae6",
   "metadata": {},
   "outputs": [
    {
     "data": {
      "text/plain": [
       "[500.9371625550351,\n",
       " 393.2482327899155,\n",
       " 323.87230364522253,\n",
       " 318.12940569661157,\n",
       " 504.7271339161392]"
      ]
     },
     "execution_count": 117,
     "metadata": {},
     "output_type": "execute_result"
    }
   ],
   "source": [
    "#Mejor Individuo\n",
    "mejor_individuo = tools.selBest(population,1)[0]\n",
    "mejor_individuo"
   ]
  },
  {
   "cell_type": "markdown",
   "id": "3545f01c",
   "metadata": {},
   "source": [
    "## Interpetación\n",
    "Este resultado es una solución factible para las distancias óptimas más lejanas posibles desde cada tienda a la central de distribución de modo que se maximiza la utilidad"
   ]
  },
  {
   "cell_type": "code",
   "execution_count": 118,
   "id": "4dfbf627",
   "metadata": {},
   "outputs": [
    {
     "data": {
      "text/plain": [
       "Text(0, 0.5, 'Adaptabilidad')"
      ]
     },
     "execution_count": 118,
     "metadata": {},
     "output_type": "execute_result"
    },
    {
     "data": {
      "image/png": "[encoded data removed]",
      "text/plain": [
       "<Figure size 640x480 with 1 Axes>"
      ]
     },
     "metadata": {},
     "output_type": "display_data"
    }
   ],
   "source": [
    "gen = logbook.select(\"gen\")\n",
    "avgs = logbook.select(\"promedio\")\n",
    "fig = plt.figure()\n",
    "ax1 = plt.gca()\n",
    "line1 = ax1.plot(gen, avgs, \"r-\", label = \"Adaptabilidad promedio\")\n",
    "ax1.set_xlabel(\"Generaciones\")\n",
    "ax1.set_ylabel(\"Adaptabilidad\")"
   ]
  }
 ],
 "metadata": {
  "kernelspec": {
   "display_name": "Python 3 (ipykernel)",
   "language": "python",
   "name": "python3"
  },
  "language_info": {
   "codemirror_mode": {
    "name": "ipython",
    "version": 3
   },
   "file_extension": ".py",
   "mimetype": "text/x-python",
   "name": "python",
   "nbconvert_exporter": "python",
   "pygments_lexer": "ipython3",
   "version": "3.11.4"
  }
 },
 "nbformat": 4,
 "nbformat_minor": 5
}
