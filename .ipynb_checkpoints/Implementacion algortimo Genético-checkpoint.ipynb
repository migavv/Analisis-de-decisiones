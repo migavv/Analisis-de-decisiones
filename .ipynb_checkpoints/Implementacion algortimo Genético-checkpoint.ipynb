{
 "cells": [
  {
   "cell_type": "code",
   "execution_count": 1,
   "id": "0699f3c1-d51b-4a37-975a-f357c2ee7e40",
   "metadata": {},
   "outputs": [
    {
     "name": "stdout",
     "output_type": "stream",
     "text": [
      "Collecting deap\n",
      "  Downloading deap-1.4.1-cp310-cp310-win_amd64.whl (109 kB)\n",
      "     ------------------------------------ 109.3/109.3 kB 421.4 kB/s eta 0:00:00\n",
      "Requirement already satisfied: numpy in c:\\python310\\lib\\site-packages (from deap) (1.25.1)\n",
      "Installing collected packages: deap\n",
      "Successfully installed deap-1.4.1\n"
     ]
    },
    {
     "name": "stderr",
     "output_type": "stream",
     "text": [
      "WARNING: Ignoring invalid distribution -ip (c:\\python310\\lib\\site-packages)\n",
      "WARNING: Ignoring invalid distribution -ip (c:\\python310\\lib\\site-packages)\n",
      "WARNING: Ignoring invalid distribution -ip (c:\\python310\\lib\\site-packages)\n",
      "WARNING: Ignoring invalid distribution -ip (c:\\python310\\lib\\site-packages)\n",
      "WARNING: Ignoring invalid distribution -ip (c:\\python310\\lib\\site-packages)\n",
      "WARNING: Ignoring invalid distribution -ip (c:\\python310\\lib\\site-packages)\n",
      "WARNING: Ignoring invalid distribution -ip (c:\\python310\\lib\\site-packages)\n",
      "\n",
      "[notice] A new release of pip available: 22.2.1 -> 23.3\n",
      "[notice] To update, run: python.exe -m pip install --upgrade pip\n"
     ]
    }
   ],
   "source": [
    "!pip install deap"
   ]
  },
  {
   "cell_type": "code",
   "execution_count": 2,
   "id": "933580d0-5490-4b3c-9f30-46f94e3117b0",
   "metadata": {},
   "outputs": [],
   "source": [
    "import random\n",
    "import numpy as np\n",
    "import matplotlib.pyplot as plt\n",
    "from deap import base, creator, tools, algorithms\n",
    "import warnings\n",
    "warnings.filterwarnings(\"ignore\")"
   ]
  },
  {
   "cell_type": "markdown",
   "id": "93130e53-805f-4296-a879-1936372ecc64",
   "metadata": {},
   "source": [
    "# Ejercicio de la mochila"
   ]
  },
  {
   "cell_type": "code",
   "execution_count": 4,
   "id": "62777c4e-43ef-433e-9a20-29a840c57a5a",
   "metadata": {},
   "outputs": [],
   "source": [
    "#Definir los pesos y beneficios como listas de python\n",
    "beneficios = [50,35,45,20,35,40,50,50,45,40]\n",
    "pesos = [20,25,20,20,35,40,35,30,35,25]\n",
    "capacidad = 120"
   ]
  },
  {
   "cell_type": "code",
   "execution_count": 5,
   "id": "901ba71c-3c5d-45b7-a21a-9f11d64ecc99",
   "metadata": {},
   "outputs": [],
   "source": [
    "#Declarar el contenedor de operadores geneticos\n",
    "toolbox = base.Toolbox()\n"
   ]
  },
  {
   "cell_type": "code",
   "execution_count": 7,
   "id": "36ac0620-9d8a-43d2-bca9-f1b1935ae885",
   "metadata": {},
   "outputs": [],
   "source": [
    "#Crear la clase funcion de adaptabilidad y la clase individuo\n",
    "creator.create(\"FitnessMax\", base.Fitness, weights = (1.0, ))\n",
    "creator.create(\"Individual\", list, fitness = creator.FitnessMax)\n"
   ]
  },
  {
   "cell_type": "code",
   "execution_count": 9,
   "id": "ada47591-9936-49f0-8e39-55127b462c03",
   "metadata": {},
   "outputs": [],
   "source": [
    "# Construir los individuos\n",
    "# Determinar el comportamiento del gen\n",
    "toolbox.register(\"attribute\", random.randint, 0,1)\n",
    "# Determinar el tamaño del individuo\n",
    "toolbox.register(\"individual\", tools.initRepeat, creator.Individual, toolbox.attribute, n = 10)\n",
    "#Determinar la forma de la poblacion\n",
    "toolbox.register(\"population\", tools.initRepeat, list, toolbox.individual)\n"
   ]
  },
  {
   "cell_type": "markdown",
   "id": "17b5e872-dd16-4a9a-b888-f2ab8ba69002",
   "metadata": {},
   "source": [
    "# Confirmar individuo y poblacion"
   ]
  },
  {
   "cell_type": "code",
   "execution_count": 10,
   "id": "9c71f975-6cde-4ccd-8af1-2c7f2266becb",
   "metadata": {},
   "outputs": [
    {
     "name": "stdout",
     "output_type": "stream",
     "text": [
      "Individuo:  [1, 1, 1, 0, 1, 0, 0, 0, 0, 0]\n",
      "Poblacion:  [[1, 0, 0, 1, 1, 0, 0, 0, 1, 1], [0, 1, 1, 1, 1, 0, 0, 1, 1, 0], [0, 0, 1, 1, 1, 1, 0, 0, 0, 1], [0, 0, 0, 0, 0, 1, 0, 0, 0, 0], [0, 1, 1, 0, 1, 1, 0, 0, 1, 0], [1, 0, 0, 1, 1, 1, 0, 1, 0, 0]]\n"
     ]
    }
   ],
   "source": [
    "ind = toolbox.individual()\n",
    "print(\"Individuo: \", ind)\n",
    "pop = toolbox.population(n=6)\n",
    "print(\"Poblacion: \", pop)"
   ]
  },
  {
   "cell_type": "markdown",
   "id": "06dd3503-8307-4be0-b1b1-715cdc1dc97f",
   "metadata": {},
   "source": [
    "# Crear la funcion de adaptabilidad"
   ]
  },
  {
   "cell_type": "code",
   "execution_count": 11,
   "id": "b61c5eb3-405c-40ee-9c8e-e9006ba6c5a2",
   "metadata": {},
   "outputs": [],
   "source": [
    "def evaluarBeneficio(individual):\n",
    "    beneficio = 0.0\n",
    "    peso = 0.0\n",
    "    beneficio = np.dot(individual, beneficios)\n",
    "    peso = np.dot(individual, pesos)\n",
    "\n",
    "    if peso > capacidad:\n",
    "        beneficio = beneficio - peso\n",
    "    else:\n",
    "        beneficio\n",
    "    return beneficio,"
   ]
  },
  {
   "cell_type": "markdown",
   "id": "16c76f0a-22f1-4d83-a5fc-392c7572b7ab",
   "metadata": {},
   "source": [
    "# Confirmar la funcion de adaptabilidad\n"
   ]
  },
  {
   "cell_type": "code",
   "execution_count": 12,
   "id": "439c0150-da0d-4b49-ad42-89224cdb7b62",
   "metadata": {},
   "outputs": [
    {
     "name": "stdout",
     "output_type": "stream",
     "text": [
      "Individuo previo a evaluar\n",
      "[0, 0, 1, 1, 1, 1, 0, 0, 0, 1]\n",
      "False\n",
      "Individuo evaluado\n",
      "[0, 0, 1, 1, 1, 1, 0, 0, 0, 1]\n",
      "True\n",
      "(40.0,)\n"
     ]
    }
   ],
   "source": [
    "ind = toolbox.individual()\n",
    "print(\"Individuo previo a evaluar\")\n",
    "print(ind)\n",
    "print(ind.fitness.valid)\n",
    "ind.fitness.values = evaluarBeneficio(ind)\n",
    "print(\"Individuo evaluado\")\n",
    "print(ind)\n",
    "print(ind.fitness.valid)\n",
    "print(ind.fitness)\n"
   ]
  },
  {
   "cell_type": "code",
   "execution_count": null,
   "id": "09fbe585-40a6-448e-b5d6-45849de33217",
   "metadata": {},
   "outputs": [],
   "source": []
  }
 ],
 "metadata": {
  "kernelspec": {
   "display_name": "Python 3 (ipykernel)",
   "language": "python",
   "name": "python3"
  },
  "language_info": {
   "codemirror_mode": {
    "name": "ipython",
    "version": 3
   },
   "file_extension": ".py",
   "mimetype": "text/x-python",
   "name": "python",
   "nbconvert_exporter": "python",
   "pygments_lexer": "ipython3",
   "version": "3.10.6"
  }
 },
 "nbformat": 4,
 "nbformat_minor": 5
}
